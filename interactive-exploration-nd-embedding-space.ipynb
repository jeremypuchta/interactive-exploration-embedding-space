{
 "metadata": {
  "language_info": {
   "codemirror_mode": {
    "name": "ipython",
    "version": 3
   },
   "file_extension": ".py",
   "mimetype": "text/x-python",
   "name": "python",
   "nbconvert_exporter": "python",
   "pygments_lexer": "ipython3",
   "version": "3.8.7"
  },
  "orig_nbformat": 2,
  "kernelspec": {
   "name": "pythonjvsc74a57bd0b901928082f1ec87d941fbfe662b5d67b83eac03f17ebd508798d07a7e995cb7",
   "display_name": "Python 3.8.7  ('venv': venv)"
  },
  "metadata": {
   "interpreter": {
    "hash": "b901928082f1ec87d941fbfe662b5d67b83eac03f17ebd508798d07a7e995cb7"
   }
  }
 },
 "nbformat": 4,
 "nbformat_minor": 2,
 "cells": [
  {
   "cell_type": "code",
   "execution_count": 1,
   "metadata": {},
   "outputs": [],
   "source": [
    "%matplotlib widget\n",
    "\n",
    "import tensorflow as tf\n",
    "import os\n",
    "import sys\n",
    "import cv2\n",
    "import pickle\n",
    "import numpy as np\n",
    "import pandas as pd\n",
    "import matplotlib.pyplot as plt\n",
    "import matplotlib.image as mpimg\n",
    "import seaborn as sns\n",
    "import random\n",
    "\n",
    "from tensorflow import keras\n",
    "from tensorflow.keras.preprocessing import image\n",
    "from tensorflow.keras.applications.resnet50 import ResNet50, preprocess_input\n",
    "from tensorflow.keras.layers import GlobalMaxPooling2D\n",
    "from numpy.linalg import norm\n",
    "from sklearn.decomposition import PCA\n",
    "from sklearn.preprocessing import StandardScaler\n",
    "from sklearn.svm import SVC\n",
    "from sklearn.svm import LinearSVC\n",
    "from annoy import AnnoyIndex"
   ]
  },
  {
   "cell_type": "code",
   "execution_count": 2,
   "metadata": {},
   "outputs": [
    {
     "output_type": "stream",
     "name": "stdout",
     "text": [
      "['embeddings.tsv', '.DS_Store', 'images.csv', 'images', 'resnet50-embeddings-full.pkl', 'styles_preprocessed.csv', 'styles', 'styles.csv', '.ipynb_checkpoints', 'embeddings.csv', 'resnet50-embeddings.pkl']\n"
     ]
    }
   ],
   "source": [
    "DATASET_PATH = \"/Users/jeremy/Google Drive/datasets/fashion-dataset/\"\n",
    "print(os.listdir(DATASET_PATH))"
   ]
  },
  {
   "cell_type": "code",
   "execution_count": 3,
   "metadata": {},
   "outputs": [
    {
     "output_type": "execute_result",
     "data": {
      "text/plain": [
       "      id gender masterCategory subCategory  articleType baseColour  season  \\\n",
       "0  15970    Men        Apparel     Topwear       Shirts  Navy Blue    Fall   \n",
       "1  39386    Men        Apparel  Bottomwear        Jeans       Blue  Summer   \n",
       "2  59263  Women    Accessories     Watches      Watches     Silver  Winter   \n",
       "3  21379    Men        Apparel  Bottomwear  Track Pants      Black    Fall   \n",
       "4  53759    Men        Apparel     Topwear      Tshirts       Grey  Summer   \n",
       "5   1855    Men        Apparel     Topwear      Tshirts       Grey  Summer   \n",
       "6  30805    Men        Apparel     Topwear       Shirts      Green  Summer   \n",
       "7  26960  Women        Apparel     Topwear       Shirts     Purple  Summer   \n",
       "8  29114    Men    Accessories       Socks        Socks  Navy Blue  Summer   \n",
       "9  30039    Men    Accessories     Watches      Watches      Black  Winter   \n",
       "\n",
       "   year   usage                             productDisplayName      image  \n",
       "0  2011  Casual               Turtle Check Men Navy Blue Shirt  15970.jpg  \n",
       "1  2012  Casual             Peter England Men Party Blue Jeans  39386.jpg  \n",
       "2  2016  Casual                       Titan Women Silver Watch  59263.jpg  \n",
       "3  2011  Casual  Manchester United Men Solid Black Track Pants  21379.jpg  \n",
       "4  2012  Casual                          Puma Men Grey T-shirt  53759.jpg  \n",
       "5  2011  Casual           Inkfruit Mens Chain Reaction T-shirt   1855.jpg  \n",
       "6  2012  Ethnic               Fabindia Men Striped Green Shirt  30805.jpg  \n",
       "7  2012  Casual                  Jealous 21 Women Purple Shirt  26960.jpg  \n",
       "8  2012  Casual                       Puma Men Pack of 3 Socks  29114.jpg  \n",
       "9  2016  Casual                         Skagen Men Black Watch  30039.jpg  "
      ],
      "text/html": "<div>\n<style scoped>\n    .dataframe tbody tr th:only-of-type {\n        vertical-align: middle;\n    }\n\n    .dataframe tbody tr th {\n        vertical-align: top;\n    }\n\n    .dataframe thead th {\n        text-align: right;\n    }\n</style>\n<table border=\"1\" class=\"dataframe\">\n  <thead>\n    <tr style=\"text-align: right;\">\n      <th></th>\n      <th>id</th>\n      <th>gender</th>\n      <th>masterCategory</th>\n      <th>subCategory</th>\n      <th>articleType</th>\n      <th>baseColour</th>\n      <th>season</th>\n      <th>year</th>\n      <th>usage</th>\n      <th>productDisplayName</th>\n      <th>image</th>\n    </tr>\n  </thead>\n  <tbody>\n    <tr>\n      <th>0</th>\n      <td>15970</td>\n      <td>Men</td>\n      <td>Apparel</td>\n      <td>Topwear</td>\n      <td>Shirts</td>\n      <td>Navy Blue</td>\n      <td>Fall</td>\n      <td>2011</td>\n      <td>Casual</td>\n      <td>Turtle Check Men Navy Blue Shirt</td>\n      <td>15970.jpg</td>\n    </tr>\n    <tr>\n      <th>1</th>\n      <td>39386</td>\n      <td>Men</td>\n      <td>Apparel</td>\n      <td>Bottomwear</td>\n      <td>Jeans</td>\n      <td>Blue</td>\n      <td>Summer</td>\n      <td>2012</td>\n      <td>Casual</td>\n      <td>Peter England Men Party Blue Jeans</td>\n      <td>39386.jpg</td>\n    </tr>\n    <tr>\n      <th>2</th>\n      <td>59263</td>\n      <td>Women</td>\n      <td>Accessories</td>\n      <td>Watches</td>\n      <td>Watches</td>\n      <td>Silver</td>\n      <td>Winter</td>\n      <td>2016</td>\n      <td>Casual</td>\n      <td>Titan Women Silver Watch</td>\n      <td>59263.jpg</td>\n    </tr>\n    <tr>\n      <th>3</th>\n      <td>21379</td>\n      <td>Men</td>\n      <td>Apparel</td>\n      <td>Bottomwear</td>\n      <td>Track Pants</td>\n      <td>Black</td>\n      <td>Fall</td>\n      <td>2011</td>\n      <td>Casual</td>\n      <td>Manchester United Men Solid Black Track Pants</td>\n      <td>21379.jpg</td>\n    </tr>\n    <tr>\n      <th>4</th>\n      <td>53759</td>\n      <td>Men</td>\n      <td>Apparel</td>\n      <td>Topwear</td>\n      <td>Tshirts</td>\n      <td>Grey</td>\n      <td>Summer</td>\n      <td>2012</td>\n      <td>Casual</td>\n      <td>Puma Men Grey T-shirt</td>\n      <td>53759.jpg</td>\n    </tr>\n    <tr>\n      <th>5</th>\n      <td>1855</td>\n      <td>Men</td>\n      <td>Apparel</td>\n      <td>Topwear</td>\n      <td>Tshirts</td>\n      <td>Grey</td>\n      <td>Summer</td>\n      <td>2011</td>\n      <td>Casual</td>\n      <td>Inkfruit Mens Chain Reaction T-shirt</td>\n      <td>1855.jpg</td>\n    </tr>\n    <tr>\n      <th>6</th>\n      <td>30805</td>\n      <td>Men</td>\n      <td>Apparel</td>\n      <td>Topwear</td>\n      <td>Shirts</td>\n      <td>Green</td>\n      <td>Summer</td>\n      <td>2012</td>\n      <td>Ethnic</td>\n      <td>Fabindia Men Striped Green Shirt</td>\n      <td>30805.jpg</td>\n    </tr>\n    <tr>\n      <th>7</th>\n      <td>26960</td>\n      <td>Women</td>\n      <td>Apparel</td>\n      <td>Topwear</td>\n      <td>Shirts</td>\n      <td>Purple</td>\n      <td>Summer</td>\n      <td>2012</td>\n      <td>Casual</td>\n      <td>Jealous 21 Women Purple Shirt</td>\n      <td>26960.jpg</td>\n    </tr>\n    <tr>\n      <th>8</th>\n      <td>29114</td>\n      <td>Men</td>\n      <td>Accessories</td>\n      <td>Socks</td>\n      <td>Socks</td>\n      <td>Navy Blue</td>\n      <td>Summer</td>\n      <td>2012</td>\n      <td>Casual</td>\n      <td>Puma Men Pack of 3 Socks</td>\n      <td>29114.jpg</td>\n    </tr>\n    <tr>\n      <th>9</th>\n      <td>30039</td>\n      <td>Men</td>\n      <td>Accessories</td>\n      <td>Watches</td>\n      <td>Watches</td>\n      <td>Black</td>\n      <td>Winter</td>\n      <td>2016</td>\n      <td>Casual</td>\n      <td>Skagen Men Black Watch</td>\n      <td>30039.jpg</td>\n    </tr>\n  </tbody>\n</table>\n</div>"
     },
     "metadata": {},
     "execution_count": 3
    }
   ],
   "source": [
    "df = pd.read_csv(DATASET_PATH + \"styles_preprocessed.csv\", error_bad_lines=False)\n",
    "df['image'] = df.apply(lambda row: str(row['id']) + \".jpg\", axis=1)\n",
    "df = df.reset_index(drop=True)\n",
    "df.head(10)"
   ]
  },
  {
   "cell_type": "code",
   "execution_count": 4,
   "metadata": {},
   "outputs": [],
   "source": [
    "def get_img_path(img):\n",
    "  return DATASET_PATH + \"images/\" + img"
   ]
  },
  {
   "cell_type": "code",
   "execution_count": 5,
   "metadata": {},
   "outputs": [],
   "source": [
    "df_embs = pickle.load(open(DATASET_PATH + \"resnet50-embeddings-full.pkl\", \"rb\"))"
   ]
  },
  {
   "cell_type": "code",
   "execution_count": 6,
   "metadata": {},
   "outputs": [
    {
     "output_type": "execute_result",
     "data": {
      "text/plain": [
       "(array(['Apparel'], dtype=object), (21393, 11), 21393)"
      ]
     },
     "metadata": {},
     "execution_count": 6
    }
   ],
   "source": [
    "# Filter only embeddings with master category 'Apparel' and save indices to filter for them later\n",
    "df_filtered = df.loc[df.masterCategory == 'Apparel']\n",
    "df_filtered_idx = df_filtered.index.values.tolist()\n",
    "df_filtered = df_filtered.reset_index(drop=True)\n",
    "df_filtered.masterCategory.unique(), df_filtered.shape, len(df_filtered_idx)"
   ]
  },
  {
   "cell_type": "code",
   "execution_count": 7,
   "metadata": {},
   "outputs": [
    {
     "output_type": "execute_result",
     "data": {
      "text/plain": [
       "           0          1         2          3         4         5     \\\n",
       "0      5.661311   2.366158  0.000000   3.255738  0.845207  2.673839   \n",
       "1      5.790412   9.593652  0.000000   9.431687  0.287238  0.259950   \n",
       "2      5.882204   1.958622  0.000000  12.519884  0.000000  0.000000   \n",
       "3      0.245961  17.383436  0.493822   3.374461  2.567365  0.000000   \n",
       "4      0.028540  18.567101  0.000000   0.757250  1.504954  0.000000   \n",
       "...         ...        ...       ...        ...       ...       ...   \n",
       "21388  0.000000  35.020271  7.460171   1.012842  1.366380  2.258118   \n",
       "21389  2.841607  15.895623  1.662815   2.716725  0.000000  0.727688   \n",
       "21390  3.243481  16.985628  1.560327   2.596826  0.545848  0.000000   \n",
       "21391  3.075987   6.170718  0.000000   0.242754  6.728174  0.000000   \n",
       "21392  1.785497  17.258791  1.072108   2.708099  0.259384  0.000000   \n",
       "\n",
       "            6         7         8         9     ...       2038      2039  \\\n",
       "0       8.780884  6.280785  0.787186  1.587661  ...   2.463607  0.000000   \n",
       "1      17.028755  3.037456  0.136339  0.000000  ...   1.670569  0.013894   \n",
       "2       9.383584  3.781623  0.000000  1.490620  ...  17.825481  0.000000   \n",
       "3       6.482548  5.862635  0.000000  3.164864  ...   4.464021  0.447082   \n",
       "4       1.982043  2.963786  1.072763  4.539298  ...   3.247076  4.273134   \n",
       "...          ...       ...       ...       ...  ...        ...       ...   \n",
       "21388   1.922700  1.341036  1.293422  0.000000  ...   4.813864  2.418916   \n",
       "21389   1.496747  0.472215  0.905088  3.890155  ...   6.330880  2.010111   \n",
       "21390   9.023268  0.919529  1.380090  3.811848  ...  13.571547  2.010174   \n",
       "21391   3.616792  1.160508  0.088385  1.244293  ...   4.731680  1.630670   \n",
       "21392   4.596123  4.987752  3.391690  0.304968  ...   5.246232  2.968144   \n",
       "\n",
       "            2040       2041      2042      2043      2044      2045      2046  \\\n",
       "0       1.825991  20.485271  3.902871  0.000000  8.225970  1.313863  0.000000   \n",
       "1      10.338679   4.784732  0.189142  0.000000  7.739138  0.372693  0.000000   \n",
       "2       3.592513   2.042306  0.000000  0.000000  6.656784  1.457313  1.694215   \n",
       "3       1.448132  12.884141  0.000000  0.397487  5.028076  1.939697  0.000000   \n",
       "4       3.088639  16.997049  0.000000  0.000000  2.258092  1.595798  0.000000   \n",
       "...          ...        ...       ...       ...       ...       ...       ...   \n",
       "21388   1.957278   0.703634  6.915268  0.523176  4.877475  0.000000  0.000000   \n",
       "21389   3.669139  13.017206  0.000000  0.749803  4.271129  1.611024  0.000000   \n",
       "21390   1.121704  18.124388  1.862831  0.000000  1.212624  2.394026  3.093368   \n",
       "21391   0.743359  15.961621  9.004664  0.551970  1.509514  0.000000  1.935909   \n",
       "21392   1.390609  18.857891  0.000000  0.000000  3.451751  5.321138  0.000000   \n",
       "\n",
       "            2047  \n",
       "0      10.820534  \n",
       "1       8.903797  \n",
       "2       1.403330  \n",
       "3      11.485396  \n",
       "4       7.674057  \n",
       "...          ...  \n",
       "21388  14.361758  \n",
       "21389   9.624297  \n",
       "21390  25.842484  \n",
       "21391  13.389180  \n",
       "21392  13.287771  \n",
       "\n",
       "[21393 rows x 2048 columns]"
      ],
      "text/html": "<div>\n<style scoped>\n    .dataframe tbody tr th:only-of-type {\n        vertical-align: middle;\n    }\n\n    .dataframe tbody tr th {\n        vertical-align: top;\n    }\n\n    .dataframe thead th {\n        text-align: right;\n    }\n</style>\n<table border=\"1\" class=\"dataframe\">\n  <thead>\n    <tr style=\"text-align: right;\">\n      <th></th>\n      <th>0</th>\n      <th>1</th>\n      <th>2</th>\n      <th>3</th>\n      <th>4</th>\n      <th>5</th>\n      <th>6</th>\n      <th>7</th>\n      <th>8</th>\n      <th>9</th>\n      <th>...</th>\n      <th>2038</th>\n      <th>2039</th>\n      <th>2040</th>\n      <th>2041</th>\n      <th>2042</th>\n      <th>2043</th>\n      <th>2044</th>\n      <th>2045</th>\n      <th>2046</th>\n      <th>2047</th>\n    </tr>\n  </thead>\n  <tbody>\n    <tr>\n      <th>0</th>\n      <td>5.661311</td>\n      <td>2.366158</td>\n      <td>0.000000</td>\n      <td>3.255738</td>\n      <td>0.845207</td>\n      <td>2.673839</td>\n      <td>8.780884</td>\n      <td>6.280785</td>\n      <td>0.787186</td>\n      <td>1.587661</td>\n      <td>...</td>\n      <td>2.463607</td>\n      <td>0.000000</td>\n      <td>1.825991</td>\n      <td>20.485271</td>\n      <td>3.902871</td>\n      <td>0.000000</td>\n      <td>8.225970</td>\n      <td>1.313863</td>\n      <td>0.000000</td>\n      <td>10.820534</td>\n    </tr>\n    <tr>\n      <th>1</th>\n      <td>5.790412</td>\n      <td>9.593652</td>\n      <td>0.000000</td>\n      <td>9.431687</td>\n      <td>0.287238</td>\n      <td>0.259950</td>\n      <td>17.028755</td>\n      <td>3.037456</td>\n      <td>0.136339</td>\n      <td>0.000000</td>\n      <td>...</td>\n      <td>1.670569</td>\n      <td>0.013894</td>\n      <td>10.338679</td>\n      <td>4.784732</td>\n      <td>0.189142</td>\n      <td>0.000000</td>\n      <td>7.739138</td>\n      <td>0.372693</td>\n      <td>0.000000</td>\n      <td>8.903797</td>\n    </tr>\n    <tr>\n      <th>2</th>\n      <td>5.882204</td>\n      <td>1.958622</td>\n      <td>0.000000</td>\n      <td>12.519884</td>\n      <td>0.000000</td>\n      <td>0.000000</td>\n      <td>9.383584</td>\n      <td>3.781623</td>\n      <td>0.000000</td>\n      <td>1.490620</td>\n      <td>...</td>\n      <td>17.825481</td>\n      <td>0.000000</td>\n      <td>3.592513</td>\n      <td>2.042306</td>\n      <td>0.000000</td>\n      <td>0.000000</td>\n      <td>6.656784</td>\n      <td>1.457313</td>\n      <td>1.694215</td>\n      <td>1.403330</td>\n    </tr>\n    <tr>\n      <th>3</th>\n      <td>0.245961</td>\n      <td>17.383436</td>\n      <td>0.493822</td>\n      <td>3.374461</td>\n      <td>2.567365</td>\n      <td>0.000000</td>\n      <td>6.482548</td>\n      <td>5.862635</td>\n      <td>0.000000</td>\n      <td>3.164864</td>\n      <td>...</td>\n      <td>4.464021</td>\n      <td>0.447082</td>\n      <td>1.448132</td>\n      <td>12.884141</td>\n      <td>0.000000</td>\n      <td>0.397487</td>\n      <td>5.028076</td>\n      <td>1.939697</td>\n      <td>0.000000</td>\n      <td>11.485396</td>\n    </tr>\n    <tr>\n      <th>4</th>\n      <td>0.028540</td>\n      <td>18.567101</td>\n      <td>0.000000</td>\n      <td>0.757250</td>\n      <td>1.504954</td>\n      <td>0.000000</td>\n      <td>1.982043</td>\n      <td>2.963786</td>\n      <td>1.072763</td>\n      <td>4.539298</td>\n      <td>...</td>\n      <td>3.247076</td>\n      <td>4.273134</td>\n      <td>3.088639</td>\n      <td>16.997049</td>\n      <td>0.000000</td>\n      <td>0.000000</td>\n      <td>2.258092</td>\n      <td>1.595798</td>\n      <td>0.000000</td>\n      <td>7.674057</td>\n    </tr>\n    <tr>\n      <th>...</th>\n      <td>...</td>\n      <td>...</td>\n      <td>...</td>\n      <td>...</td>\n      <td>...</td>\n      <td>...</td>\n      <td>...</td>\n      <td>...</td>\n      <td>...</td>\n      <td>...</td>\n      <td>...</td>\n      <td>...</td>\n      <td>...</td>\n      <td>...</td>\n      <td>...</td>\n      <td>...</td>\n      <td>...</td>\n      <td>...</td>\n      <td>...</td>\n      <td>...</td>\n      <td>...</td>\n    </tr>\n    <tr>\n      <th>21388</th>\n      <td>0.000000</td>\n      <td>35.020271</td>\n      <td>7.460171</td>\n      <td>1.012842</td>\n      <td>1.366380</td>\n      <td>2.258118</td>\n      <td>1.922700</td>\n      <td>1.341036</td>\n      <td>1.293422</td>\n      <td>0.000000</td>\n      <td>...</td>\n      <td>4.813864</td>\n      <td>2.418916</td>\n      <td>1.957278</td>\n      <td>0.703634</td>\n      <td>6.915268</td>\n      <td>0.523176</td>\n      <td>4.877475</td>\n      <td>0.000000</td>\n      <td>0.000000</td>\n      <td>14.361758</td>\n    </tr>\n    <tr>\n      <th>21389</th>\n      <td>2.841607</td>\n      <td>15.895623</td>\n      <td>1.662815</td>\n      <td>2.716725</td>\n      <td>0.000000</td>\n      <td>0.727688</td>\n      <td>1.496747</td>\n      <td>0.472215</td>\n      <td>0.905088</td>\n      <td>3.890155</td>\n      <td>...</td>\n      <td>6.330880</td>\n      <td>2.010111</td>\n      <td>3.669139</td>\n      <td>13.017206</td>\n      <td>0.000000</td>\n      <td>0.749803</td>\n      <td>4.271129</td>\n      <td>1.611024</td>\n      <td>0.000000</td>\n      <td>9.624297</td>\n    </tr>\n    <tr>\n      <th>21390</th>\n      <td>3.243481</td>\n      <td>16.985628</td>\n      <td>1.560327</td>\n      <td>2.596826</td>\n      <td>0.545848</td>\n      <td>0.000000</td>\n      <td>9.023268</td>\n      <td>0.919529</td>\n      <td>1.380090</td>\n      <td>3.811848</td>\n      <td>...</td>\n      <td>13.571547</td>\n      <td>2.010174</td>\n      <td>1.121704</td>\n      <td>18.124388</td>\n      <td>1.862831</td>\n      <td>0.000000</td>\n      <td>1.212624</td>\n      <td>2.394026</td>\n      <td>3.093368</td>\n      <td>25.842484</td>\n    </tr>\n    <tr>\n      <th>21391</th>\n      <td>3.075987</td>\n      <td>6.170718</td>\n      <td>0.000000</td>\n      <td>0.242754</td>\n      <td>6.728174</td>\n      <td>0.000000</td>\n      <td>3.616792</td>\n      <td>1.160508</td>\n      <td>0.088385</td>\n      <td>1.244293</td>\n      <td>...</td>\n      <td>4.731680</td>\n      <td>1.630670</td>\n      <td>0.743359</td>\n      <td>15.961621</td>\n      <td>9.004664</td>\n      <td>0.551970</td>\n      <td>1.509514</td>\n      <td>0.000000</td>\n      <td>1.935909</td>\n      <td>13.389180</td>\n    </tr>\n    <tr>\n      <th>21392</th>\n      <td>1.785497</td>\n      <td>17.258791</td>\n      <td>1.072108</td>\n      <td>2.708099</td>\n      <td>0.259384</td>\n      <td>0.000000</td>\n      <td>4.596123</td>\n      <td>4.987752</td>\n      <td>3.391690</td>\n      <td>0.304968</td>\n      <td>...</td>\n      <td>5.246232</td>\n      <td>2.968144</td>\n      <td>1.390609</td>\n      <td>18.857891</td>\n      <td>0.000000</td>\n      <td>0.000000</td>\n      <td>3.451751</td>\n      <td>5.321138</td>\n      <td>0.000000</td>\n      <td>13.287771</td>\n    </tr>\n  </tbody>\n</table>\n<p>21393 rows × 2048 columns</p>\n</div>"
     },
     "metadata": {},
     "execution_count": 7
    }
   ],
   "source": [
    "embs_filtered = []\n",
    "for i, row in df_embs.iterrows():\n",
    "    if i in  df_filtered_idx:\n",
    "        embs_filtered.append(row)\n",
    "df_embs_filtered = pd.DataFrame(embs_filtered)\n",
    "df_embs_filtered = df_embs_filtered.reset_index(drop=True)\n",
    "df_embs_filtered"
   ]
  },
  {
   "cell_type": "code",
   "execution_count": 22,
   "metadata": {},
   "outputs": [
    {
     "output_type": "execute_result",
     "data": {
      "text/plain": [
       "              0          1          2          3          4          5    \\\n",
       "0      -64.357910   2.009969   4.515368  48.357891 -19.128445   5.342452   \n",
       "1      -52.114098 -68.620903 -57.570988 -31.832296  53.722683 -23.362713   \n",
       "2      -22.425611 -59.430878 -64.441772 -27.177677  47.944099 -31.331270   \n",
       "3      -54.588432 -30.280878  21.072157  -0.946770 -21.051865  -9.433448   \n",
       "4      -28.993326 -14.922001  54.522846 -20.936012 -14.654531  -7.483351   \n",
       "...           ...        ...        ...        ...        ...        ...   \n",
       "21388  106.352798 -50.901821  48.033264  14.035495   4.876539  -4.716382   \n",
       "21389  -37.274292 -15.107414  56.033501 -37.821644   7.631700 -12.318003   \n",
       "21390  -33.474800  26.566454  21.142603 -23.724031  21.568907 -24.361326   \n",
       "21391    1.716179  63.075298   7.019126  -0.876224  25.028749  17.429161   \n",
       "21392  -39.879776 -19.104397  51.208790 -14.957888 -22.935682 -26.445242   \n",
       "\n",
       "             6          7          8          9    ...       290        291  \\\n",
       "0      48.397087 -27.092453 -30.359943  19.001760  ... -0.027479  -1.793284   \n",
       "1      -2.748619 -17.558195 -21.904865   6.952492  ...  4.537742   2.129923   \n",
       "2      -1.548168   8.081011  -4.350835 -14.550479  ... -2.090356  -3.501975   \n",
       "3     -18.621870   3.578182 -16.154633  19.667513  ...  0.119156  -1.052037   \n",
       "4      17.664167  19.237654 -10.022154  -5.284721  ... -0.574849  -2.741356   \n",
       "...          ...        ...        ...        ...  ...       ...        ...   \n",
       "21388 -13.125351  -2.849083  -0.469377 -25.319630  ...  3.201861   2.929503   \n",
       "21389  25.639122 -17.738274  14.464388  -2.579258  ... -0.201064   2.645311   \n",
       "21390 -19.552706 -66.617790  18.290022 -10.338690  ...  2.189024  -0.568473   \n",
       "21391  22.952684 -33.428207  -2.201403   8.034510  ... -1.528930 -11.931191   \n",
       "21392  -0.652836   1.629119   1.893279 -17.587358  ...  2.077976   0.604619   \n",
       "\n",
       "            292       293       294       295       296       297       298  \\\n",
       "0     -1.043051 -1.388653 -0.346039  2.874086 -0.520509 -0.245018 -0.169346   \n",
       "1      1.952338  0.372517  1.476021  3.885345 -1.630003 -1.318896  0.166479   \n",
       "2      3.200779  4.224617 -4.884243 -1.513306 -1.040210  1.081879 -1.257495   \n",
       "3     -1.247684 -0.772350  6.533217  1.171853 -1.329105  0.671467 -0.957433   \n",
       "4     -0.488036  0.485247 -0.606040 -0.227766 -4.865824  0.322001 -5.071671   \n",
       "...         ...       ...       ...       ...       ...       ...       ...   \n",
       "21388  2.313374  1.802102  0.520290 -4.872674 -0.329477  2.195545  0.210869   \n",
       "21389 -2.670207 -0.987432 -0.468722  3.742406  0.085996  3.795931  0.432865   \n",
       "21390  1.852798  1.372950  0.117880 -0.166211 -5.467371 -4.452588  2.948454   \n",
       "21391 -0.628966 -0.998691 -3.618734 -3.809790 -2.899342 -6.483532  6.194696   \n",
       "21392  0.633465  0.660837 -2.521489  2.222244  3.679153  2.852724  2.131224   \n",
       "\n",
       "            299  \n",
       "0      0.081849  \n",
       "1     -2.227098  \n",
       "2      0.841683  \n",
       "3     -2.931145  \n",
       "4      1.705147  \n",
       "...         ...  \n",
       "21388  3.807374  \n",
       "21389  5.938803  \n",
       "21390  5.682208  \n",
       "21391 -6.653462  \n",
       "21392 -1.734218  \n",
       "\n",
       "[21393 rows x 300 columns]"
      ],
      "text/html": "<div>\n<style scoped>\n    .dataframe tbody tr th:only-of-type {\n        vertical-align: middle;\n    }\n\n    .dataframe tbody tr th {\n        vertical-align: top;\n    }\n\n    .dataframe thead th {\n        text-align: right;\n    }\n</style>\n<table border=\"1\" class=\"dataframe\">\n  <thead>\n    <tr style=\"text-align: right;\">\n      <th></th>\n      <th>0</th>\n      <th>1</th>\n      <th>2</th>\n      <th>3</th>\n      <th>4</th>\n      <th>5</th>\n      <th>6</th>\n      <th>7</th>\n      <th>8</th>\n      <th>9</th>\n      <th>...</th>\n      <th>290</th>\n      <th>291</th>\n      <th>292</th>\n      <th>293</th>\n      <th>294</th>\n      <th>295</th>\n      <th>296</th>\n      <th>297</th>\n      <th>298</th>\n      <th>299</th>\n    </tr>\n  </thead>\n  <tbody>\n    <tr>\n      <th>0</th>\n      <td>-64.357910</td>\n      <td>2.009969</td>\n      <td>4.515368</td>\n      <td>48.357891</td>\n      <td>-19.128445</td>\n      <td>5.342452</td>\n      <td>48.397087</td>\n      <td>-27.092453</td>\n      <td>-30.359943</td>\n      <td>19.001760</td>\n      <td>...</td>\n      <td>-0.027479</td>\n      <td>-1.793284</td>\n      <td>-1.043051</td>\n      <td>-1.388653</td>\n      <td>-0.346039</td>\n      <td>2.874086</td>\n      <td>-0.520509</td>\n      <td>-0.245018</td>\n      <td>-0.169346</td>\n      <td>0.081849</td>\n    </tr>\n    <tr>\n      <th>1</th>\n      <td>-52.114098</td>\n      <td>-68.620903</td>\n      <td>-57.570988</td>\n      <td>-31.832296</td>\n      <td>53.722683</td>\n      <td>-23.362713</td>\n      <td>-2.748619</td>\n      <td>-17.558195</td>\n      <td>-21.904865</td>\n      <td>6.952492</td>\n      <td>...</td>\n      <td>4.537742</td>\n      <td>2.129923</td>\n      <td>1.952338</td>\n      <td>0.372517</td>\n      <td>1.476021</td>\n      <td>3.885345</td>\n      <td>-1.630003</td>\n      <td>-1.318896</td>\n      <td>0.166479</td>\n      <td>-2.227098</td>\n    </tr>\n    <tr>\n      <th>2</th>\n      <td>-22.425611</td>\n      <td>-59.430878</td>\n      <td>-64.441772</td>\n      <td>-27.177677</td>\n      <td>47.944099</td>\n      <td>-31.331270</td>\n      <td>-1.548168</td>\n      <td>8.081011</td>\n      <td>-4.350835</td>\n      <td>-14.550479</td>\n      <td>...</td>\n      <td>-2.090356</td>\n      <td>-3.501975</td>\n      <td>3.200779</td>\n      <td>4.224617</td>\n      <td>-4.884243</td>\n      <td>-1.513306</td>\n      <td>-1.040210</td>\n      <td>1.081879</td>\n      <td>-1.257495</td>\n      <td>0.841683</td>\n    </tr>\n    <tr>\n      <th>3</th>\n      <td>-54.588432</td>\n      <td>-30.280878</td>\n      <td>21.072157</td>\n      <td>-0.946770</td>\n      <td>-21.051865</td>\n      <td>-9.433448</td>\n      <td>-18.621870</td>\n      <td>3.578182</td>\n      <td>-16.154633</td>\n      <td>19.667513</td>\n      <td>...</td>\n      <td>0.119156</td>\n      <td>-1.052037</td>\n      <td>-1.247684</td>\n      <td>-0.772350</td>\n      <td>6.533217</td>\n      <td>1.171853</td>\n      <td>-1.329105</td>\n      <td>0.671467</td>\n      <td>-0.957433</td>\n      <td>-2.931145</td>\n    </tr>\n    <tr>\n      <th>4</th>\n      <td>-28.993326</td>\n      <td>-14.922001</td>\n      <td>54.522846</td>\n      <td>-20.936012</td>\n      <td>-14.654531</td>\n      <td>-7.483351</td>\n      <td>17.664167</td>\n      <td>19.237654</td>\n      <td>-10.022154</td>\n      <td>-5.284721</td>\n      <td>...</td>\n      <td>-0.574849</td>\n      <td>-2.741356</td>\n      <td>-0.488036</td>\n      <td>0.485247</td>\n      <td>-0.606040</td>\n      <td>-0.227766</td>\n      <td>-4.865824</td>\n      <td>0.322001</td>\n      <td>-5.071671</td>\n      <td>1.705147</td>\n    </tr>\n    <tr>\n      <th>...</th>\n      <td>...</td>\n      <td>...</td>\n      <td>...</td>\n      <td>...</td>\n      <td>...</td>\n      <td>...</td>\n      <td>...</td>\n      <td>...</td>\n      <td>...</td>\n      <td>...</td>\n      <td>...</td>\n      <td>...</td>\n      <td>...</td>\n      <td>...</td>\n      <td>...</td>\n      <td>...</td>\n      <td>...</td>\n      <td>...</td>\n      <td>...</td>\n      <td>...</td>\n      <td>...</td>\n    </tr>\n    <tr>\n      <th>21388</th>\n      <td>106.352798</td>\n      <td>-50.901821</td>\n      <td>48.033264</td>\n      <td>14.035495</td>\n      <td>4.876539</td>\n      <td>-4.716382</td>\n      <td>-13.125351</td>\n      <td>-2.849083</td>\n      <td>-0.469377</td>\n      <td>-25.319630</td>\n      <td>...</td>\n      <td>3.201861</td>\n      <td>2.929503</td>\n      <td>2.313374</td>\n      <td>1.802102</td>\n      <td>0.520290</td>\n      <td>-4.872674</td>\n      <td>-0.329477</td>\n      <td>2.195545</td>\n      <td>0.210869</td>\n      <td>3.807374</td>\n    </tr>\n    <tr>\n      <th>21389</th>\n      <td>-37.274292</td>\n      <td>-15.107414</td>\n      <td>56.033501</td>\n      <td>-37.821644</td>\n      <td>7.631700</td>\n      <td>-12.318003</td>\n      <td>25.639122</td>\n      <td>-17.738274</td>\n      <td>14.464388</td>\n      <td>-2.579258</td>\n      <td>...</td>\n      <td>-0.201064</td>\n      <td>2.645311</td>\n      <td>-2.670207</td>\n      <td>-0.987432</td>\n      <td>-0.468722</td>\n      <td>3.742406</td>\n      <td>0.085996</td>\n      <td>3.795931</td>\n      <td>0.432865</td>\n      <td>5.938803</td>\n    </tr>\n    <tr>\n      <th>21390</th>\n      <td>-33.474800</td>\n      <td>26.566454</td>\n      <td>21.142603</td>\n      <td>-23.724031</td>\n      <td>21.568907</td>\n      <td>-24.361326</td>\n      <td>-19.552706</td>\n      <td>-66.617790</td>\n      <td>18.290022</td>\n      <td>-10.338690</td>\n      <td>...</td>\n      <td>2.189024</td>\n      <td>-0.568473</td>\n      <td>1.852798</td>\n      <td>1.372950</td>\n      <td>0.117880</td>\n      <td>-0.166211</td>\n      <td>-5.467371</td>\n      <td>-4.452588</td>\n      <td>2.948454</td>\n      <td>5.682208</td>\n    </tr>\n    <tr>\n      <th>21391</th>\n      <td>1.716179</td>\n      <td>63.075298</td>\n      <td>7.019126</td>\n      <td>-0.876224</td>\n      <td>25.028749</td>\n      <td>17.429161</td>\n      <td>22.952684</td>\n      <td>-33.428207</td>\n      <td>-2.201403</td>\n      <td>8.034510</td>\n      <td>...</td>\n      <td>-1.528930</td>\n      <td>-11.931191</td>\n      <td>-0.628966</td>\n      <td>-0.998691</td>\n      <td>-3.618734</td>\n      <td>-3.809790</td>\n      <td>-2.899342</td>\n      <td>-6.483532</td>\n      <td>6.194696</td>\n      <td>-6.653462</td>\n    </tr>\n    <tr>\n      <th>21392</th>\n      <td>-39.879776</td>\n      <td>-19.104397</td>\n      <td>51.208790</td>\n      <td>-14.957888</td>\n      <td>-22.935682</td>\n      <td>-26.445242</td>\n      <td>-0.652836</td>\n      <td>1.629119</td>\n      <td>1.893279</td>\n      <td>-17.587358</td>\n      <td>...</td>\n      <td>2.077976</td>\n      <td>0.604619</td>\n      <td>0.633465</td>\n      <td>0.660837</td>\n      <td>-2.521489</td>\n      <td>2.222244</td>\n      <td>3.679153</td>\n      <td>2.852724</td>\n      <td>2.131224</td>\n      <td>-1.734218</td>\n    </tr>\n  </tbody>\n</table>\n<p>21393 rows × 300 columns</p>\n</div>"
     },
     "metadata": {},
     "execution_count": 22
    }
   ],
   "source": [
    "# Perform PCA over the embeddings to reduce dimensionality\n",
    "num_feature_dimensions = 300  # Set the number of embedding dimensions\n",
    "pca = PCA(n_components = num_feature_dimensions)\n",
    "embs_compressed = pca.fit_transform(df_embs_filtered)\n",
    "df_embs_filtered_compressed = pd.DataFrame(embs_compressed)\n",
    "df_embs_filtered_compressed"
   ]
  },
  {
   "cell_type": "code",
   "execution_count": 23,
   "metadata": {},
   "outputs": [
    {
     "output_type": "execute_result",
     "data": {
      "text/plain": [
       "LinearSVC(C=1, max_iter=10000000)"
      ]
     },
     "metadata": {},
     "execution_count": 23
    }
   ],
   "source": [
    "# Application of SVM to create the axis for a given feature\n",
    "X = df_embs_filtered_compressed\n",
    "y = df_filtered[\"season\"]\n",
    "scaler = StandardScaler()\n",
    "X_scaled = scaler.fit_transform(X)\n",
    "svm_clf = LinearSVC(C=1, max_iter=10000000)\n",
    "svm_clf.fit(X_scaled, y)"
   ]
  },
  {
   "cell_type": "code",
   "execution_count": 24,
   "metadata": {},
   "outputs": [
    {
     "output_type": "execute_result",
     "data": {
      "text/plain": [
       "True"
      ]
     },
     "metadata": {},
     "execution_count": 24
    }
   ],
   "source": [
    "number_of_embeddings = df_filtered.shape[0]\n",
    "\n",
    "f = 300\n",
    "t = AnnoyIndex(f, 'euclidean')\n",
    "for index, row in df_embs_filtered_compressed.iterrows():\n",
    "    v = row.iloc[row.index].values.tolist()\n",
    "    t.add_item(index, v)\n",
    "\n",
    "t.build(10)\n",
    "#t.save('annoy_index_1000d.ann')"
   ]
  },
  {
   "cell_type": "code",
   "execution_count": 25,
   "metadata": {},
   "outputs": [],
   "source": [
    "def get_nearest_neighbour(user_position, df):\n",
    "   i = t.get_nns_by_vector(user_position, 1)\n",
    "   nearest_neighbour = df.iloc[i]['id'].values[0]\n",
    "   return nearest_neighbour"
   ]
  },
  {
   "cell_type": "code",
   "execution_count": 26,
   "metadata": {},
   "outputs": [],
   "source": [
    "def annotate_nearest_neighbour(nearest_neighbour, df):\n",
    "    arr_img = plt.imread(get_img_path(df.loc[df['id'] == nearest_neighbour].image.values[0]))\n",
    "    plt.imshow(arr_img)"
   ]
  },
  {
   "cell_type": "code",
   "execution_count": 27,
   "metadata": {
    "tags": []
   },
   "outputs": [],
   "source": [
    "def compute_navigation_axis(emb, w, dist):\n",
    "    nav_axis = []\n",
    "    for i, feature in enumerate(emb):\n",
    "        feature_val = emb[feature].values[0]\n",
    "        step = w[i]\n",
    "        axis = [feature_val]\n",
    "        pos_val = feature_val\n",
    "        neg_val = feature_val\n",
    "        for i in range(dist):\n",
    "            pos_val = pos_val + step\n",
    "            neg_val = neg_val - step\n",
    "            axis.append(pos_val)\n",
    "            axis.append(neg_val)\n",
    "        nav_axis.append(sorted(axis))\n",
    "    return np.array(nav_axis)"
   ]
  },
  {
   "cell_type": "code",
   "execution_count": 28,
   "metadata": {},
   "outputs": [],
   "source": [
    "def initialize_user_position(axis, idx):\n",
    "    user_position = []\n",
    "    for dim in axis:\n",
    "        user_position.append(dim[idx])\n",
    "    return user_position"
   ]
  },
  {
   "cell_type": "code",
   "execution_count": 29,
   "metadata": {},
   "outputs": [],
   "source": [
    "def update_user_position(change):\n",
    "    \"\"\"Update the user position after the slider value has changed\"\"\"\n",
    "    idx = np.where(np.isclose(nav_axis[0], min(nav_axis[0], key=lambda x:abs(x-change.new))))[0][0]\n",
    "    new_user_pos = []\n",
    "    for i in range(len(nav_axis)):\n",
    "        new_user_pos.append(nav_axis[i][idx])\n",
    "    user_position = new_user_pos\n",
    "    nearest_neighbour = get_nearest_neighbour(user_position, df_filtered)\n",
    "    annotate_nearest_neighbour(nearest_neighbour, df_filtered)\n",
    "    plt.title('Nearest Embedding: {} with season: {}'.format(nearest_neighbour, df_filtered.loc[df_filtered['id'] == nearest_neighbour].season.values[0]))\n",
    "    fig.canvas.draw()\n",
    "    fig.canvas.flush_events()"
   ]
  },
  {
   "cell_type": "code",
   "execution_count": 50,
   "metadata": {},
   "outputs": [
    {
     "output_type": "display_data",
     "data": {
      "text/plain": "Canvas(toolbar=Toolbar(toolitems=[('Home', 'Reset original view', 'home', 'home'), ('Back', 'Back to previous …",
      "application/vnd.jupyter.widget-view+json": {
       "version_major": 2,
       "version_minor": 0,
       "model_id": "41d5d811212e4a30a0c91c14fad5279a"
      }
     },
     "metadata": {}
    },
    {
     "output_type": "display_data",
     "data": {
      "text/plain": "FloatSlider(value=33.42757797241211, description='x-Position:', layout=Layout(margin='0px 10% 0px 10%', width=…",
      "application/vnd.jupyter.widget-view+json": {
       "version_major": 2,
       "version_minor": 0,
       "model_id": "90d1784d5a9643daba918e36025cbd55"
      }
     },
     "metadata": {}
    }
   ],
   "source": [
    "from ipywidgets import AppLayout, FloatSlider\n",
    "\n",
    "# Create matplotlib figure for displaying fashion items\n",
    "fig = plt.figure(figsize=(7, 7))\n",
    "\n",
    "# Create orthogonal navigation axis\n",
    "w = svm_clf.coef_[0]\n",
    "rand_emb = df_embs_filtered_compressed.sample()\n",
    "nav_axis = compute_navigation_axis(rand_emb, w, 500)\n",
    "\n",
    "starting_idx = np.where(np.isclose(nav_axis[0], min(nav_axis[0], key=lambda x:abs(x-rand_emb[0].values[0]))))[0][0]\n",
    "user_position = initialize_user_position(nav_axis, starting_idx)\n",
    "\n",
    "nearest_neighbour = get_nearest_neighbour(user_position, df_filtered)\n",
    "annotate_nearest_neighbour(nearest_neighbour, df_filtered)\n",
    "\n",
    "plt.title('Nearest Embedding: {} with season: {}, user_pos:'.format(nearest_neighbour, df_filtered.loc[df_filtered['id'] == nearest_neighbour].season.values[0], user_position[0]))\n",
    "\n",
    "# Create Slider to navigate in embedding space\n",
    "slider = FloatSlider(\n",
    "    orientation=\"horizontal\",\n",
    "    description=\"x-Position:\",\n",
    "    value=user_position[0],\n",
    "    min=min(nav_axis[0]),\n",
    "    max=max(nav_axis[0])\n",
    ")\n",
    "slider.layout.margin = '0px 10% 0px 10%'\n",
    "slider.layout.width = '40%'\n",
    "\n",
    "slider.observe(update_user_position, names='value')\n",
    "\n",
    "display(slider)"
   ]
  },
  {
   "cell_type": "code",
   "execution_count": null,
   "metadata": {},
   "outputs": [],
   "source": []
  }
 ]
}