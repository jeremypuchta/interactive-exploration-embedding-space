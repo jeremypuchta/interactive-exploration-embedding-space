{
 "metadata": {
  "language_info": {
   "codemirror_mode": {
    "name": "ipython",
    "version": 3
   },
   "file_extension": ".py",
   "mimetype": "text/x-python",
   "name": "python",
   "nbconvert_exporter": "python",
   "pygments_lexer": "ipython3",
   "version": "3.8.7"
  },
  "orig_nbformat": 2,
  "kernelspec": {
   "name": "python387jvsc74a57bd0c8483a3bcaa40c949ebcf3c502c25aef8575e8cc8aa32445df6637cd0cdae598",
   "display_name": "Python 3.8.7 64-bit ('venv': venv)"
  }
 },
 "nbformat": 4,
 "nbformat_minor": 2,
 "cells": [
  {
   "cell_type": "code",
   "execution_count": 1,
   "metadata": {},
   "outputs": [],
   "source": [
    "%matplotlib widget\n",
    "\n",
    "import tensorflow as tf\n",
    "import os\n",
    "import sys\n",
    "import cv2\n",
    "import pickle\n",
    "import numpy as np\n",
    "import pandas as pd\n",
    "import matplotlib.pyplot as plt\n",
    "import matplotlib.image as mpimg\n",
    "import seaborn as sns\n",
    "import random\n",
    "\n",
    "from tensorflow import keras\n",
    "from tensorflow.keras.preprocessing import image\n",
    "from tensorflow.keras.applications.resnet50 import ResNet50, preprocess_input\n",
    "from tensorflow.keras.layers import GlobalMaxPooling2D\n",
    "from numpy.linalg import norm\n",
    "from sklearn.decomposition import PCA\n",
    "from sklearn.preprocessing import StandardScaler\n",
    "from sklearn.svm import SVC\n",
    "from sklearn.svm import LinearSVC"
   ]
  },
  {
   "cell_type": "code",
   "execution_count": 2,
   "metadata": {},
   "outputs": [
    {
     "output_type": "stream",
     "name": "stdout",
     "text": [
      "['embeddings.tsv', '.DS_Store', 'images.csv', 'images', 'styles', 'styles.csv', '.ipynb_checkpoints', 'embeddings.csv', 'resnet50-embeddings.pkl']\n"
     ]
    }
   ],
   "source": [
    "DATASET_PATH = \"/Users/jeremy/Google Drive/datasets/fashion-dataset/\"\n",
    "print(os.listdir(DATASET_PATH))"
   ]
  },
  {
   "cell_type": "code",
   "execution_count": 3,
   "metadata": {},
   "outputs": [
    {
     "output_type": "execute_result",
     "data": {
      "text/plain": [
       "      id gender masterCategory subCategory  articleType baseColour  season  \\\n",
       "0  15970    Men        Apparel     Topwear       Shirts  Navy Blue    Fall   \n",
       "1  39386    Men        Apparel  Bottomwear        Jeans       Blue  Summer   \n",
       "2  59263  Women    Accessories     Watches      Watches     Silver  Winter   \n",
       "3  21379    Men        Apparel  Bottomwear  Track Pants      Black    Fall   \n",
       "4  53759    Men        Apparel     Topwear      Tshirts       Grey  Summer   \n",
       "5   1855    Men        Apparel     Topwear      Tshirts       Grey  Summer   \n",
       "6  30805    Men        Apparel     Topwear       Shirts      Green  Summer   \n",
       "7  26960  Women        Apparel     Topwear       Shirts     Purple  Summer   \n",
       "8  29114    Men    Accessories       Socks        Socks  Navy Blue  Summer   \n",
       "9  30039    Men    Accessories     Watches      Watches      Black  Winter   \n",
       "\n",
       "   year   usage                             productDisplayName      image  \n",
       "0  2011  Casual               Turtle Check Men Navy Blue Shirt  15970.jpg  \n",
       "1  2012  Casual             Peter England Men Party Blue Jeans  39386.jpg  \n",
       "2  2016  Casual                       Titan Women Silver Watch  59263.jpg  \n",
       "3  2011  Casual  Manchester United Men Solid Black Track Pants  21379.jpg  \n",
       "4  2012  Casual                          Puma Men Grey T-shirt  53759.jpg  \n",
       "5  2011  Casual           Inkfruit Mens Chain Reaction T-shirt   1855.jpg  \n",
       "6  2012  Ethnic               Fabindia Men Striped Green Shirt  30805.jpg  \n",
       "7  2012  Casual                  Jealous 21 Women Purple Shirt  26960.jpg  \n",
       "8  2012  Casual                       Puma Men Pack of 3 Socks  29114.jpg  \n",
       "9  2016  Casual                         Skagen Men Black Watch  30039.jpg  "
      ],
      "text/html": "<div>\n<style scoped>\n    .dataframe tbody tr th:only-of-type {\n        vertical-align: middle;\n    }\n\n    .dataframe tbody tr th {\n        vertical-align: top;\n    }\n\n    .dataframe thead th {\n        text-align: right;\n    }\n</style>\n<table border=\"1\" class=\"dataframe\">\n  <thead>\n    <tr style=\"text-align: right;\">\n      <th></th>\n      <th>id</th>\n      <th>gender</th>\n      <th>masterCategory</th>\n      <th>subCategory</th>\n      <th>articleType</th>\n      <th>baseColour</th>\n      <th>season</th>\n      <th>year</th>\n      <th>usage</th>\n      <th>productDisplayName</th>\n      <th>image</th>\n    </tr>\n  </thead>\n  <tbody>\n    <tr>\n      <th>0</th>\n      <td>15970</td>\n      <td>Men</td>\n      <td>Apparel</td>\n      <td>Topwear</td>\n      <td>Shirts</td>\n      <td>Navy Blue</td>\n      <td>Fall</td>\n      <td>2011</td>\n      <td>Casual</td>\n      <td>Turtle Check Men Navy Blue Shirt</td>\n      <td>15970.jpg</td>\n    </tr>\n    <tr>\n      <th>1</th>\n      <td>39386</td>\n      <td>Men</td>\n      <td>Apparel</td>\n      <td>Bottomwear</td>\n      <td>Jeans</td>\n      <td>Blue</td>\n      <td>Summer</td>\n      <td>2012</td>\n      <td>Casual</td>\n      <td>Peter England Men Party Blue Jeans</td>\n      <td>39386.jpg</td>\n    </tr>\n    <tr>\n      <th>2</th>\n      <td>59263</td>\n      <td>Women</td>\n      <td>Accessories</td>\n      <td>Watches</td>\n      <td>Watches</td>\n      <td>Silver</td>\n      <td>Winter</td>\n      <td>2016</td>\n      <td>Casual</td>\n      <td>Titan Women Silver Watch</td>\n      <td>59263.jpg</td>\n    </tr>\n    <tr>\n      <th>3</th>\n      <td>21379</td>\n      <td>Men</td>\n      <td>Apparel</td>\n      <td>Bottomwear</td>\n      <td>Track Pants</td>\n      <td>Black</td>\n      <td>Fall</td>\n      <td>2011</td>\n      <td>Casual</td>\n      <td>Manchester United Men Solid Black Track Pants</td>\n      <td>21379.jpg</td>\n    </tr>\n    <tr>\n      <th>4</th>\n      <td>53759</td>\n      <td>Men</td>\n      <td>Apparel</td>\n      <td>Topwear</td>\n      <td>Tshirts</td>\n      <td>Grey</td>\n      <td>Summer</td>\n      <td>2012</td>\n      <td>Casual</td>\n      <td>Puma Men Grey T-shirt</td>\n      <td>53759.jpg</td>\n    </tr>\n    <tr>\n      <th>5</th>\n      <td>1855</td>\n      <td>Men</td>\n      <td>Apparel</td>\n      <td>Topwear</td>\n      <td>Tshirts</td>\n      <td>Grey</td>\n      <td>Summer</td>\n      <td>2011</td>\n      <td>Casual</td>\n      <td>Inkfruit Mens Chain Reaction T-shirt</td>\n      <td>1855.jpg</td>\n    </tr>\n    <tr>\n      <th>6</th>\n      <td>30805</td>\n      <td>Men</td>\n      <td>Apparel</td>\n      <td>Topwear</td>\n      <td>Shirts</td>\n      <td>Green</td>\n      <td>Summer</td>\n      <td>2012</td>\n      <td>Ethnic</td>\n      <td>Fabindia Men Striped Green Shirt</td>\n      <td>30805.jpg</td>\n    </tr>\n    <tr>\n      <th>7</th>\n      <td>26960</td>\n      <td>Women</td>\n      <td>Apparel</td>\n      <td>Topwear</td>\n      <td>Shirts</td>\n      <td>Purple</td>\n      <td>Summer</td>\n      <td>2012</td>\n      <td>Casual</td>\n      <td>Jealous 21 Women Purple Shirt</td>\n      <td>26960.jpg</td>\n    </tr>\n    <tr>\n      <th>8</th>\n      <td>29114</td>\n      <td>Men</td>\n      <td>Accessories</td>\n      <td>Socks</td>\n      <td>Socks</td>\n      <td>Navy Blue</td>\n      <td>Summer</td>\n      <td>2012</td>\n      <td>Casual</td>\n      <td>Puma Men Pack of 3 Socks</td>\n      <td>29114.jpg</td>\n    </tr>\n    <tr>\n      <th>9</th>\n      <td>30039</td>\n      <td>Men</td>\n      <td>Accessories</td>\n      <td>Watches</td>\n      <td>Watches</td>\n      <td>Black</td>\n      <td>Winter</td>\n      <td>2016</td>\n      <td>Casual</td>\n      <td>Skagen Men Black Watch</td>\n      <td>30039.jpg</td>\n    </tr>\n  </tbody>\n</table>\n</div>"
     },
     "metadata": {},
     "execution_count": 3
    }
   ],
   "source": [
    "df = pd.read_csv(DATASET_PATH + \"styles.csv\", nrows=5000, error_bad_lines=False)\n",
    "df['image'] = df.apply(lambda row: str(row['id']) + \".jpg\", axis=1)\n",
    "df = df.reset_index(drop=True)\n",
    "df.head(10)"
   ]
  },
  {
   "cell_type": "code",
   "execution_count": 4,
   "metadata": {},
   "outputs": [],
   "source": [
    "def get_img_path(img):\n",
    "  return DATASET_PATH + \"images/\" + img"
   ]
  },
  {
   "cell_type": "code",
   "execution_count": 5,
   "metadata": {},
   "outputs": [],
   "source": [
    "df_embs = pickle.load(open(DATASET_PATH + \"resnet50-embeddings.pkl\", \"rb\"))"
   ]
  },
  {
   "cell_type": "code",
   "execution_count": 6,
   "metadata": {},
   "outputs": [
    {
     "output_type": "execute_result",
     "data": {
      "text/plain": [
       "(array(['Apparel'], dtype=object), (2297, 11), 2297)"
      ]
     },
     "metadata": {},
     "execution_count": 6
    }
   ],
   "source": [
    "# Filter only embeddings with master category 'Apparel' and save indices to filter for them later\n",
    "df_filtered = df.loc[df.masterCategory == 'Apparel']\n",
    "df_filtered_idx = df_filtered.index.values.tolist()\n",
    "df_filtered = df_filtered.reset_index(drop=True)\n",
    "df_filtered.masterCategory.unique(), df_filtered.shape, len(df_filtered_idx)"
   ]
  },
  {
   "cell_type": "code",
   "execution_count": 7,
   "metadata": {},
   "outputs": [
    {
     "output_type": "execute_result",
     "data": {
      "text/plain": [
       "          0          1         2          3         4         5          6     \\\n",
       "0     5.661316   2.366165  0.000000   3.255730  0.845208  2.673841   8.780870   \n",
       "1     5.790417   9.593648  0.000000   9.431670  0.287235  0.259945  17.028748   \n",
       "2     5.882203   1.958606  0.000000  12.519882  0.000000  0.000000   9.383594   \n",
       "3     0.245968  17.383430  0.493824   3.374468  2.567368  0.000000   6.482537   \n",
       "4     0.028546  18.567099  0.000000   0.757250  1.504949  0.000000   1.982024   \n",
       "...        ...        ...       ...        ...       ...       ...        ...   \n",
       "2292  3.134137  12.337814  3.281830   0.000000  6.123401  6.273666   3.345068   \n",
       "2293  2.800386  19.866081  3.215006   2.487933  0.147357  0.000000   7.958175   \n",
       "2294  4.801172  16.536064  2.132150   2.630906  1.190370  0.243107   1.454644   \n",
       "2295  3.184294  14.538852  6.306130   0.000000  3.361131  6.701039   0.729837   \n",
       "2296  2.876276  25.317070  0.000000   2.869397  4.971409  0.568798   0.000000   \n",
       "\n",
       "          7         8         9     ...       2038      2039       2040  \\\n",
       "0     6.280786  0.787188  1.587657  ...   2.463610  0.000000   1.825994   \n",
       "1     3.037453  0.136341  0.000000  ...   1.670570  0.013891  10.338681   \n",
       "2     3.781614  0.000000  1.490617  ...  17.825478  0.000000   3.592507   \n",
       "3     5.862639  0.000000  3.164866  ...   4.464024  0.447075   1.448143   \n",
       "4     2.963777  1.072765  4.539300  ...   3.247082  4.273134   3.088643   \n",
       "...        ...       ...       ...  ...        ...       ...        ...   \n",
       "2292  4.230134  2.082114  2.691854  ...   5.392367  2.139013   7.540308   \n",
       "2293  5.669247  0.706661  4.877097  ...  10.292748  0.000000   0.738173   \n",
       "2294  3.500423  0.627453  5.221931  ...   0.000000  1.886256   3.294083   \n",
       "2295  0.295319  0.252367  3.175583  ...   0.000000  1.471544   1.482233   \n",
       "2296  5.165745  0.000000  0.000000  ...   3.623354  0.000000   9.653894   \n",
       "\n",
       "           2041      2042       2043       2044      2045      2046       2047  \n",
       "0     20.485268  3.902863   0.000000   8.225969  1.313863  0.000000  10.820526  \n",
       "1      4.784722  0.189140   0.000000   7.739144  0.372693  0.000000   8.903802  \n",
       "2      2.042305  0.000000   0.000000   6.656779  1.457314  1.694204   1.403327  \n",
       "3     12.884138  0.000000   0.397501   5.028075  1.939697  0.000000  11.485400  \n",
       "4     16.997053  0.000000   0.000000   2.258095  1.595798  0.000000   7.674047  \n",
       "...         ...       ...        ...        ...       ...       ...        ...  \n",
       "2292   5.394151  6.070920   0.000000   0.000000  0.000000  0.000000  10.168349  \n",
       "2293  16.109261  0.383140   0.000000   4.432935  2.898650  0.416252  12.830476  \n",
       "2294  17.186272  0.000000   2.014549   1.663332  2.118907  0.000000   6.815829  \n",
       "2295  22.654318  2.425646  12.427614   8.393599  0.000000  9.616654   3.375090  \n",
       "2296   3.372160  0.000000   0.000000  11.082531  0.000000  0.000000  15.469978  \n",
       "\n",
       "[2297 rows x 2048 columns]"
      ],
      "text/html": "<div>\n<style scoped>\n    .dataframe tbody tr th:only-of-type {\n        vertical-align: middle;\n    }\n\n    .dataframe tbody tr th {\n        vertical-align: top;\n    }\n\n    .dataframe thead th {\n        text-align: right;\n    }\n</style>\n<table border=\"1\" class=\"dataframe\">\n  <thead>\n    <tr style=\"text-align: right;\">\n      <th></th>\n      <th>0</th>\n      <th>1</th>\n      <th>2</th>\n      <th>3</th>\n      <th>4</th>\n      <th>5</th>\n      <th>6</th>\n      <th>7</th>\n      <th>8</th>\n      <th>9</th>\n      <th>...</th>\n      <th>2038</th>\n      <th>2039</th>\n      <th>2040</th>\n      <th>2041</th>\n      <th>2042</th>\n      <th>2043</th>\n      <th>2044</th>\n      <th>2045</th>\n      <th>2046</th>\n      <th>2047</th>\n    </tr>\n  </thead>\n  <tbody>\n    <tr>\n      <th>0</th>\n      <td>5.661316</td>\n      <td>2.366165</td>\n      <td>0.000000</td>\n      <td>3.255730</td>\n      <td>0.845208</td>\n      <td>2.673841</td>\n      <td>8.780870</td>\n      <td>6.280786</td>\n      <td>0.787188</td>\n      <td>1.587657</td>\n      <td>...</td>\n      <td>2.463610</td>\n      <td>0.000000</td>\n      <td>1.825994</td>\n      <td>20.485268</td>\n      <td>3.902863</td>\n      <td>0.000000</td>\n      <td>8.225969</td>\n      <td>1.313863</td>\n      <td>0.000000</td>\n      <td>10.820526</td>\n    </tr>\n    <tr>\n      <th>1</th>\n      <td>5.790417</td>\n      <td>9.593648</td>\n      <td>0.000000</td>\n      <td>9.431670</td>\n      <td>0.287235</td>\n      <td>0.259945</td>\n      <td>17.028748</td>\n      <td>3.037453</td>\n      <td>0.136341</td>\n      <td>0.000000</td>\n      <td>...</td>\n      <td>1.670570</td>\n      <td>0.013891</td>\n      <td>10.338681</td>\n      <td>4.784722</td>\n      <td>0.189140</td>\n      <td>0.000000</td>\n      <td>7.739144</td>\n      <td>0.372693</td>\n      <td>0.000000</td>\n      <td>8.903802</td>\n    </tr>\n    <tr>\n      <th>2</th>\n      <td>5.882203</td>\n      <td>1.958606</td>\n      <td>0.000000</td>\n      <td>12.519882</td>\n      <td>0.000000</td>\n      <td>0.000000</td>\n      <td>9.383594</td>\n      <td>3.781614</td>\n      <td>0.000000</td>\n      <td>1.490617</td>\n      <td>...</td>\n      <td>17.825478</td>\n      <td>0.000000</td>\n      <td>3.592507</td>\n      <td>2.042305</td>\n      <td>0.000000</td>\n      <td>0.000000</td>\n      <td>6.656779</td>\n      <td>1.457314</td>\n      <td>1.694204</td>\n      <td>1.403327</td>\n    </tr>\n    <tr>\n      <th>3</th>\n      <td>0.245968</td>\n      <td>17.383430</td>\n      <td>0.493824</td>\n      <td>3.374468</td>\n      <td>2.567368</td>\n      <td>0.000000</td>\n      <td>6.482537</td>\n      <td>5.862639</td>\n      <td>0.000000</td>\n      <td>3.164866</td>\n      <td>...</td>\n      <td>4.464024</td>\n      <td>0.447075</td>\n      <td>1.448143</td>\n      <td>12.884138</td>\n      <td>0.000000</td>\n      <td>0.397501</td>\n      <td>5.028075</td>\n      <td>1.939697</td>\n      <td>0.000000</td>\n      <td>11.485400</td>\n    </tr>\n    <tr>\n      <th>4</th>\n      <td>0.028546</td>\n      <td>18.567099</td>\n      <td>0.000000</td>\n      <td>0.757250</td>\n      <td>1.504949</td>\n      <td>0.000000</td>\n      <td>1.982024</td>\n      <td>2.963777</td>\n      <td>1.072765</td>\n      <td>4.539300</td>\n      <td>...</td>\n      <td>3.247082</td>\n      <td>4.273134</td>\n      <td>3.088643</td>\n      <td>16.997053</td>\n      <td>0.000000</td>\n      <td>0.000000</td>\n      <td>2.258095</td>\n      <td>1.595798</td>\n      <td>0.000000</td>\n      <td>7.674047</td>\n    </tr>\n    <tr>\n      <th>...</th>\n      <td>...</td>\n      <td>...</td>\n      <td>...</td>\n      <td>...</td>\n      <td>...</td>\n      <td>...</td>\n      <td>...</td>\n      <td>...</td>\n      <td>...</td>\n      <td>...</td>\n      <td>...</td>\n      <td>...</td>\n      <td>...</td>\n      <td>...</td>\n      <td>...</td>\n      <td>...</td>\n      <td>...</td>\n      <td>...</td>\n      <td>...</td>\n      <td>...</td>\n      <td>...</td>\n    </tr>\n    <tr>\n      <th>2292</th>\n      <td>3.134137</td>\n      <td>12.337814</td>\n      <td>3.281830</td>\n      <td>0.000000</td>\n      <td>6.123401</td>\n      <td>6.273666</td>\n      <td>3.345068</td>\n      <td>4.230134</td>\n      <td>2.082114</td>\n      <td>2.691854</td>\n      <td>...</td>\n      <td>5.392367</td>\n      <td>2.139013</td>\n      <td>7.540308</td>\n      <td>5.394151</td>\n      <td>6.070920</td>\n      <td>0.000000</td>\n      <td>0.000000</td>\n      <td>0.000000</td>\n      <td>0.000000</td>\n      <td>10.168349</td>\n    </tr>\n    <tr>\n      <th>2293</th>\n      <td>2.800386</td>\n      <td>19.866081</td>\n      <td>3.215006</td>\n      <td>2.487933</td>\n      <td>0.147357</td>\n      <td>0.000000</td>\n      <td>7.958175</td>\n      <td>5.669247</td>\n      <td>0.706661</td>\n      <td>4.877097</td>\n      <td>...</td>\n      <td>10.292748</td>\n      <td>0.000000</td>\n      <td>0.738173</td>\n      <td>16.109261</td>\n      <td>0.383140</td>\n      <td>0.000000</td>\n      <td>4.432935</td>\n      <td>2.898650</td>\n      <td>0.416252</td>\n      <td>12.830476</td>\n    </tr>\n    <tr>\n      <th>2294</th>\n      <td>4.801172</td>\n      <td>16.536064</td>\n      <td>2.132150</td>\n      <td>2.630906</td>\n      <td>1.190370</td>\n      <td>0.243107</td>\n      <td>1.454644</td>\n      <td>3.500423</td>\n      <td>0.627453</td>\n      <td>5.221931</td>\n      <td>...</td>\n      <td>0.000000</td>\n      <td>1.886256</td>\n      <td>3.294083</td>\n      <td>17.186272</td>\n      <td>0.000000</td>\n      <td>2.014549</td>\n      <td>1.663332</td>\n      <td>2.118907</td>\n      <td>0.000000</td>\n      <td>6.815829</td>\n    </tr>\n    <tr>\n      <th>2295</th>\n      <td>3.184294</td>\n      <td>14.538852</td>\n      <td>6.306130</td>\n      <td>0.000000</td>\n      <td>3.361131</td>\n      <td>6.701039</td>\n      <td>0.729837</td>\n      <td>0.295319</td>\n      <td>0.252367</td>\n      <td>3.175583</td>\n      <td>...</td>\n      <td>0.000000</td>\n      <td>1.471544</td>\n      <td>1.482233</td>\n      <td>22.654318</td>\n      <td>2.425646</td>\n      <td>12.427614</td>\n      <td>8.393599</td>\n      <td>0.000000</td>\n      <td>9.616654</td>\n      <td>3.375090</td>\n    </tr>\n    <tr>\n      <th>2296</th>\n      <td>2.876276</td>\n      <td>25.317070</td>\n      <td>0.000000</td>\n      <td>2.869397</td>\n      <td>4.971409</td>\n      <td>0.568798</td>\n      <td>0.000000</td>\n      <td>5.165745</td>\n      <td>0.000000</td>\n      <td>0.000000</td>\n      <td>...</td>\n      <td>3.623354</td>\n      <td>0.000000</td>\n      <td>9.653894</td>\n      <td>3.372160</td>\n      <td>0.000000</td>\n      <td>0.000000</td>\n      <td>11.082531</td>\n      <td>0.000000</td>\n      <td>0.000000</td>\n      <td>15.469978</td>\n    </tr>\n  </tbody>\n</table>\n<p>2297 rows × 2048 columns</p>\n</div>"
     },
     "metadata": {},
     "execution_count": 7
    }
   ],
   "source": [
    "embs_filtered = []\n",
    "for i, row in df_embs.iterrows():\n",
    "    if i in  df_filtered_idx:\n",
    "        embs_filtered.append(row)\n",
    "df_embs_filtered = pd.DataFrame(embs_filtered)\n",
    "df_embs_filtered = df_embs_filtered.reset_index(drop=True)\n",
    "df_embs_filtered"
   ]
  },
  {
   "cell_type": "code",
   "execution_count": 8,
   "metadata": {},
   "outputs": [
    {
     "output_type": "execute_result",
     "data": {
      "text/plain": [
       "           0          1          2          3          4          5     \\\n",
       "0    -64.281487  -0.382144  10.129684 -22.772327 -38.308056  10.126407   \n",
       "1    -50.859097 -78.791565 -48.603271  -5.542880  57.489540 -30.835356   \n",
       "2    -21.894207 -69.084801 -56.701370 -13.024130  48.613529 -35.150982   \n",
       "3    -52.814507 -30.695364  24.538889  18.532671 -15.459037  -4.578600   \n",
       "4    -26.194756 -12.308571  56.018593  28.274645   4.040835   0.309532   \n",
       "...         ...        ...        ...        ...        ...        ...   \n",
       "2292  99.575592 -30.713884 -20.068476 -25.830282 -22.531815  51.434803   \n",
       "2293 -26.236425 -12.102105  52.941227  21.009844  -2.619762 -23.604671   \n",
       "2294 -29.318754  36.647430  31.197569  14.334860  26.817410  -5.634321   \n",
       "2295  54.131542  63.903694  -8.761940 -63.546387  17.439548   9.299923   \n",
       "2296  38.495052 -52.470448 -66.317390 -36.051571  10.185804  22.410532   \n",
       "\n",
       "           6          7          8          9     ...      1990      1991  \\\n",
       "0     36.410957 -46.646206 -34.147419   8.802602  ... -0.072885  0.021689   \n",
       "1     -2.337835 -15.355940  -7.670216  -7.935432  ...  0.285969 -0.216813   \n",
       "2      6.533363  12.986199   1.046159 -23.647963  ... -0.028149  0.022253   \n",
       "3    -20.258459   5.052645 -18.399387  14.211772  ...  0.025601  0.105441   \n",
       "4     20.197136  11.746011 -15.117881   0.662400  ...  0.197897 -0.032425   \n",
       "...         ...        ...        ...        ...  ...       ...       ...   \n",
       "2292 -40.078777 -24.682608 -38.468166  53.920856  ...  0.060048  0.044371   \n",
       "2293   3.913752   4.513397  -3.499625 -43.001522  ... -0.087290  0.230910   \n",
       "2294 -21.891491  -2.816172 -21.250452   2.923827  ... -0.164836  0.186601   \n",
       "2295  16.524239  42.935120  53.401096  43.313850  ... -0.091945 -0.053217   \n",
       "2296  -4.825922  18.685753   5.898650 -20.394482  ...  0.050328 -0.075740   \n",
       "\n",
       "          1992      1993      1994      1995      1996      1997      1998  \\\n",
       "0     0.262467 -0.307515  0.193920  0.094781  0.169586  0.072440 -0.110927   \n",
       "1     0.071849  0.087859  0.111866  0.068268 -0.092981 -0.335568  0.014027   \n",
       "2     0.154494  0.156459 -0.252553 -0.105450  0.171465 -0.026870 -0.177849   \n",
       "3    -0.200961  0.347842 -0.301099  0.115235  0.168436 -0.020016  0.313665   \n",
       "4    -0.240887  0.149448 -0.014207  0.179669 -0.008225 -0.106300 -0.285183   \n",
       "...        ...       ...       ...       ...       ...       ...       ...   \n",
       "2292  0.052964 -0.066104 -0.138551 -0.001413  0.052767  0.004295 -0.079621   \n",
       "2293  0.315426 -0.051655  0.143980 -0.011697 -0.294969  0.034188 -0.218997   \n",
       "2294  0.309618  0.173436  0.280081 -0.082836  0.100793  0.167939 -0.015266   \n",
       "2295  0.037641  0.147787  0.061091  0.060630  0.099054 -0.040325 -0.055460   \n",
       "2296  0.107951  0.086821  0.023326  0.088778  0.131799 -0.042297 -0.029033   \n",
       "\n",
       "          1999  \n",
       "0    -0.087643  \n",
       "1    -0.111936  \n",
       "2    -0.224921  \n",
       "3    -0.051148  \n",
       "4    -0.078262  \n",
       "...        ...  \n",
       "2292 -0.033358  \n",
       "2293  0.069627  \n",
       "2294  0.083564  \n",
       "2295 -0.106942  \n",
       "2296  0.129923  \n",
       "\n",
       "[2297 rows x 2000 columns]"
      ],
      "text/html": "<div>\n<style scoped>\n    .dataframe tbody tr th:only-of-type {\n        vertical-align: middle;\n    }\n\n    .dataframe tbody tr th {\n        vertical-align: top;\n    }\n\n    .dataframe thead th {\n        text-align: right;\n    }\n</style>\n<table border=\"1\" class=\"dataframe\">\n  <thead>\n    <tr style=\"text-align: right;\">\n      <th></th>\n      <th>0</th>\n      <th>1</th>\n      <th>2</th>\n      <th>3</th>\n      <th>4</th>\n      <th>5</th>\n      <th>6</th>\n      <th>7</th>\n      <th>8</th>\n      <th>9</th>\n      <th>...</th>\n      <th>1990</th>\n      <th>1991</th>\n      <th>1992</th>\n      <th>1993</th>\n      <th>1994</th>\n      <th>1995</th>\n      <th>1996</th>\n      <th>1997</th>\n      <th>1998</th>\n      <th>1999</th>\n    </tr>\n  </thead>\n  <tbody>\n    <tr>\n      <th>0</th>\n      <td>-64.281487</td>\n      <td>-0.382144</td>\n      <td>10.129684</td>\n      <td>-22.772327</td>\n      <td>-38.308056</td>\n      <td>10.126407</td>\n      <td>36.410957</td>\n      <td>-46.646206</td>\n      <td>-34.147419</td>\n      <td>8.802602</td>\n      <td>...</td>\n      <td>-0.072885</td>\n      <td>0.021689</td>\n      <td>0.262467</td>\n      <td>-0.307515</td>\n      <td>0.193920</td>\n      <td>0.094781</td>\n      <td>0.169586</td>\n      <td>0.072440</td>\n      <td>-0.110927</td>\n      <td>-0.087643</td>\n    </tr>\n    <tr>\n      <th>1</th>\n      <td>-50.859097</td>\n      <td>-78.791565</td>\n      <td>-48.603271</td>\n      <td>-5.542880</td>\n      <td>57.489540</td>\n      <td>-30.835356</td>\n      <td>-2.337835</td>\n      <td>-15.355940</td>\n      <td>-7.670216</td>\n      <td>-7.935432</td>\n      <td>...</td>\n      <td>0.285969</td>\n      <td>-0.216813</td>\n      <td>0.071849</td>\n      <td>0.087859</td>\n      <td>0.111866</td>\n      <td>0.068268</td>\n      <td>-0.092981</td>\n      <td>-0.335568</td>\n      <td>0.014027</td>\n      <td>-0.111936</td>\n    </tr>\n    <tr>\n      <th>2</th>\n      <td>-21.894207</td>\n      <td>-69.084801</td>\n      <td>-56.701370</td>\n      <td>-13.024130</td>\n      <td>48.613529</td>\n      <td>-35.150982</td>\n      <td>6.533363</td>\n      <td>12.986199</td>\n      <td>1.046159</td>\n      <td>-23.647963</td>\n      <td>...</td>\n      <td>-0.028149</td>\n      <td>0.022253</td>\n      <td>0.154494</td>\n      <td>0.156459</td>\n      <td>-0.252553</td>\n      <td>-0.105450</td>\n      <td>0.171465</td>\n      <td>-0.026870</td>\n      <td>-0.177849</td>\n      <td>-0.224921</td>\n    </tr>\n    <tr>\n      <th>3</th>\n      <td>-52.814507</td>\n      <td>-30.695364</td>\n      <td>24.538889</td>\n      <td>18.532671</td>\n      <td>-15.459037</td>\n      <td>-4.578600</td>\n      <td>-20.258459</td>\n      <td>5.052645</td>\n      <td>-18.399387</td>\n      <td>14.211772</td>\n      <td>...</td>\n      <td>0.025601</td>\n      <td>0.105441</td>\n      <td>-0.200961</td>\n      <td>0.347842</td>\n      <td>-0.301099</td>\n      <td>0.115235</td>\n      <td>0.168436</td>\n      <td>-0.020016</td>\n      <td>0.313665</td>\n      <td>-0.051148</td>\n    </tr>\n    <tr>\n      <th>4</th>\n      <td>-26.194756</td>\n      <td>-12.308571</td>\n      <td>56.018593</td>\n      <td>28.274645</td>\n      <td>4.040835</td>\n      <td>0.309532</td>\n      <td>20.197136</td>\n      <td>11.746011</td>\n      <td>-15.117881</td>\n      <td>0.662400</td>\n      <td>...</td>\n      <td>0.197897</td>\n      <td>-0.032425</td>\n      <td>-0.240887</td>\n      <td>0.149448</td>\n      <td>-0.014207</td>\n      <td>0.179669</td>\n      <td>-0.008225</td>\n      <td>-0.106300</td>\n      <td>-0.285183</td>\n      <td>-0.078262</td>\n    </tr>\n    <tr>\n      <th>...</th>\n      <td>...</td>\n      <td>...</td>\n      <td>...</td>\n      <td>...</td>\n      <td>...</td>\n      <td>...</td>\n      <td>...</td>\n      <td>...</td>\n      <td>...</td>\n      <td>...</td>\n      <td>...</td>\n      <td>...</td>\n      <td>...</td>\n      <td>...</td>\n      <td>...</td>\n      <td>...</td>\n      <td>...</td>\n      <td>...</td>\n      <td>...</td>\n      <td>...</td>\n      <td>...</td>\n    </tr>\n    <tr>\n      <th>2292</th>\n      <td>99.575592</td>\n      <td>-30.713884</td>\n      <td>-20.068476</td>\n      <td>-25.830282</td>\n      <td>-22.531815</td>\n      <td>51.434803</td>\n      <td>-40.078777</td>\n      <td>-24.682608</td>\n      <td>-38.468166</td>\n      <td>53.920856</td>\n      <td>...</td>\n      <td>0.060048</td>\n      <td>0.044371</td>\n      <td>0.052964</td>\n      <td>-0.066104</td>\n      <td>-0.138551</td>\n      <td>-0.001413</td>\n      <td>0.052767</td>\n      <td>0.004295</td>\n      <td>-0.079621</td>\n      <td>-0.033358</td>\n    </tr>\n    <tr>\n      <th>2293</th>\n      <td>-26.236425</td>\n      <td>-12.102105</td>\n      <td>52.941227</td>\n      <td>21.009844</td>\n      <td>-2.619762</td>\n      <td>-23.604671</td>\n      <td>3.913752</td>\n      <td>4.513397</td>\n      <td>-3.499625</td>\n      <td>-43.001522</td>\n      <td>...</td>\n      <td>-0.087290</td>\n      <td>0.230910</td>\n      <td>0.315426</td>\n      <td>-0.051655</td>\n      <td>0.143980</td>\n      <td>-0.011697</td>\n      <td>-0.294969</td>\n      <td>0.034188</td>\n      <td>-0.218997</td>\n      <td>0.069627</td>\n    </tr>\n    <tr>\n      <th>2294</th>\n      <td>-29.318754</td>\n      <td>36.647430</td>\n      <td>31.197569</td>\n      <td>14.334860</td>\n      <td>26.817410</td>\n      <td>-5.634321</td>\n      <td>-21.891491</td>\n      <td>-2.816172</td>\n      <td>-21.250452</td>\n      <td>2.923827</td>\n      <td>...</td>\n      <td>-0.164836</td>\n      <td>0.186601</td>\n      <td>0.309618</td>\n      <td>0.173436</td>\n      <td>0.280081</td>\n      <td>-0.082836</td>\n      <td>0.100793</td>\n      <td>0.167939</td>\n      <td>-0.015266</td>\n      <td>0.083564</td>\n    </tr>\n    <tr>\n      <th>2295</th>\n      <td>54.131542</td>\n      <td>63.903694</td>\n      <td>-8.761940</td>\n      <td>-63.546387</td>\n      <td>17.439548</td>\n      <td>9.299923</td>\n      <td>16.524239</td>\n      <td>42.935120</td>\n      <td>53.401096</td>\n      <td>43.313850</td>\n      <td>...</td>\n      <td>-0.091945</td>\n      <td>-0.053217</td>\n      <td>0.037641</td>\n      <td>0.147787</td>\n      <td>0.061091</td>\n      <td>0.060630</td>\n      <td>0.099054</td>\n      <td>-0.040325</td>\n      <td>-0.055460</td>\n      <td>-0.106942</td>\n    </tr>\n    <tr>\n      <th>2296</th>\n      <td>38.495052</td>\n      <td>-52.470448</td>\n      <td>-66.317390</td>\n      <td>-36.051571</td>\n      <td>10.185804</td>\n      <td>22.410532</td>\n      <td>-4.825922</td>\n      <td>18.685753</td>\n      <td>5.898650</td>\n      <td>-20.394482</td>\n      <td>...</td>\n      <td>0.050328</td>\n      <td>-0.075740</td>\n      <td>0.107951</td>\n      <td>0.086821</td>\n      <td>0.023326</td>\n      <td>0.088778</td>\n      <td>0.131799</td>\n      <td>-0.042297</td>\n      <td>-0.029033</td>\n      <td>0.129923</td>\n    </tr>\n  </tbody>\n</table>\n<p>2297 rows × 2000 columns</p>\n</div>"
     },
     "metadata": {},
     "execution_count": 8
    }
   ],
   "source": [
    "# Perform PCA over the embeddings to reduce dimensionality\n",
    "num_feature_dimensions = 2000  # Set the number of embedding dimensions\n",
    "pca = PCA(n_components = num_feature_dimensions)\n",
    "embs_compressed = pca.fit_transform(df_embs_filtered)\n",
    "df_embs_filtered_compressed = pd.DataFrame(embs_compressed)\n",
    "df_embs_filtered_compressed"
   ]
  },
  {
   "cell_type": "code",
   "execution_count": 9,
   "metadata": {},
   "outputs": [
    {
     "output_type": "execute_result",
     "data": {
      "text/plain": [
       "array(['Winter', 'Summer'], dtype=object)"
      ]
     },
     "metadata": {},
     "execution_count": 9
    }
   ],
   "source": [
    "# Map season values to either Spring or Winter\n",
    "for i, row in df_filtered.iterrows():\n",
    "    if df_filtered.at[i, 'season'] == \"Spring\":\n",
    "        df_filtered.at[i, 'season'] = \"Summer\"\n",
    "    elif df_filtered.at[i, 'season'] == \"Fall\":\n",
    "        df_filtered.at[i, 'season'] = \"Winter\"\n",
    "df_filtered.season.unique()"
   ]
  },
  {
   "cell_type": "code",
   "execution_count": 10,
   "metadata": {},
   "outputs": [
    {
     "output_type": "execute_result",
     "data": {
      "text/plain": [
       "LinearSVC(C=1, max_iter=100000)"
      ]
     },
     "metadata": {},
     "execution_count": 10
    }
   ],
   "source": [
    "# Application of SVM to create the axis for a given feature\n",
    "X = df_embs_filtered_compressed\n",
    "y = df_filtered[\"season\"]\n",
    "scaler = StandardScaler()\n",
    "X_scaled = scaler.fit_transform(X)\n",
    "svm_clf = LinearSVC(C=1, max_iter=100000)\n",
    "svm_clf.fit(X_scaled, y)"
   ]
  },
  {
   "cell_type": "code",
   "execution_count": 11,
   "metadata": {},
   "outputs": [],
   "source": [
    "def get_nearest_neighbour(user_position, df, embs):\n",
    "   nearest_neighbour = None\n",
    "   smallest_dist = sys.maxsize\n",
    "   for row in df.itertuples():\n",
    "      embedding_position = embs.iloc[row.Index].to_numpy()\n",
    "      dist = norm(user_position - embedding_position)\n",
    "      if dist < smallest_dist:\n",
    "         smallest_dist = dist\n",
    "         nearest_neighbour = row.id\n",
    "   return nearest_neighbour"
   ]
  },
  {
   "cell_type": "code",
   "execution_count": 12,
   "metadata": {},
   "outputs": [],
   "source": [
    "def annotate_nearest_neighbour(nearest_neighbour, df):\n",
    "    arr_img = plt.imread(get_img_path(df.loc[df['id'] == nearest_neighbour].image.values[0]))\n",
    "    plt.imshow(arr_img)"
   ]
  },
  {
   "cell_type": "code",
   "execution_count": 13,
   "metadata": {
    "tags": []
   },
   "outputs": [],
   "source": [
    "def compute_navigation_axis(emb, w, range):\n",
    "    nav_axis = []\n",
    "    for i, feature in enumerate(emb):\n",
    "        feature_val = emb[feature].values[0]\n",
    "        if w[i] > 0:\n",
    "            pos_range = np.arange(start=feature_val, stop=feature_val + range, step=w[i])\n",
    "            neg_range = np.arange(start=feature_val, stop=feature_val - range, step=-w[i])\n",
    "            nav_axis.append(np.sort(np.concatenate((pos_range, neg_range))))\n",
    "        else:\n",
    "            pos_range = np.arange(start=feature_val, stop=feature_val + range, step=-w[i])\n",
    "            neg_range = np.arange(start=feature_val, stop=feature_val - range, step=w[i])\n",
    "            nav_axis.append(np.sort(np.concatenate((pos_range, neg_range))))\n",
    "    return nav_axis"
   ]
  },
  {
   "cell_type": "code",
   "execution_count": 14,
   "metadata": {},
   "outputs": [],
   "source": [
    "def initialize_user_position(axis, idx):\n",
    "    user_position = []\n",
    "    for dim in axis:\n",
    "        user_position.append(dim[idx])\n",
    "    return user_position"
   ]
  },
  {
   "cell_type": "code",
   "execution_count": 15,
   "metadata": {},
   "outputs": [],
   "source": [
    "def update_user_position(change):\n",
    "    \"\"\"Update the user position after the slider value has changed\"\"\"\n",
    "    idx = np.where(np.isclose(nav_axis[0], min(nav_axis[0], key=lambda x:abs(x-change.new))))[0][0]\n",
    "    new_user_pos = []\n",
    "    for i in range(len(nav_axis)):\n",
    "        new_user_pos.append(nav_axis[i][idx])\n",
    "    user_position = new_user_pos\n",
    "    nearest_neighbour = get_nearest_neighbour(user_position, df_filtered, df_embs_filtered_compressed)\n",
    "    annotate_nearest_neighbour(nearest_neighbour, df_filtered)\n",
    "    plt.title('Nearest Embedding: {} with season: {}'.format(nearest_neighbour, df_filtered.loc[df_filtered['id'] == nearest_neighbour].season.values[0]))\n",
    "    fig.canvas.draw()\n",
    "    fig.canvas.flush_events()"
   ]
  },
  {
   "cell_type": "code",
   "execution_count": 18,
   "metadata": {},
   "outputs": [
    {
     "output_type": "execute_result",
     "data": {
      "text/plain": [
       "1116"
      ]
     },
     "metadata": {},
     "execution_count": 18
    }
   ],
   "source": [
    "min_axis_len = 100000\n",
    "for i in range(len(nav_axis)):\n",
    "    if len(nav_axis[i]) < min_axis_len:\n",
    "        min_axis_len = len(nav_axis[i])\n",
    "min_axis_len"
   ]
  },
  {
   "cell_type": "code",
   "execution_count": 33,
   "metadata": {},
   "outputs": [
    {
     "output_type": "display_data",
     "data": {
      "text/plain": "Canvas(toolbar=Toolbar(toolitems=[('Home', 'Reset original view', 'home', 'home'), ('Back', 'Back to previous …",
      "application/vnd.jupyter.widget-view+json": {
       "version_major": 2,
       "version_minor": 0,
       "model_id": "2864ad9203014f3d9b7c4d13284bca0c"
      }
     },
     "metadata": {}
    },
    {
     "output_type": "display_data",
     "data": {
      "text/plain": "FloatSlider(value=-15.002667427062988, description='x-Position:', layout=Layout(margin='0px 10% 0px 10%', widt…",
      "application/vnd.jupyter.widget-view+json": {
       "version_major": 2,
       "version_minor": 0,
       "model_id": "b1f71af5500041afb130d9de0719bfe9"
      }
     },
     "metadata": {}
    }
   ],
   "source": [
    "from ipywidgets import AppLayout, FloatSlider\n",
    "\n",
    "# Create matplotlib figure for displaying fashion items\n",
    "fig = plt.figure(figsize=(7, 7))\n",
    "\n",
    "# Create orthogonal navigation axis\n",
    "w = svm_clf.coef_[0]\n",
    "rand_emb = df_embs_filtered_compressed.sample()\n",
    "nav_axis = compute_navigation_axis(rand_emb, w, 100)\n",
    "\n",
    "min_axis_len = 100000\n",
    "for i in range(len(nav_axis)):\n",
    "    if len(nav_axis[i]) < min_axis_len:\n",
    "        min_axis_len = len(nav_axis[i])\n",
    "min_axis_len\n",
    "\n",
    "starting_idx = np.where(np.isclose(nav_axis[0], min(nav_axis[0], key=lambda x:abs(x-rand_emb[0].values[0]))))[0][0]\n",
    "user_position = initialize_user_position(nav_axis, starting_idx)\n",
    "\n",
    "nearest_neighbour = get_nearest_neighbour(user_position, df_filtered, df_embs_filtered_compressed)\n",
    "annotate_nearest_neighbour(nearest_neighbour, df_filtered)\n",
    "\n",
    "plt.title('Nearest Embedding: {} with season: {}'.format(nearest_neighbour, df_filtered.loc[df_filtered['id'] == nearest_neighbour].season.values[0]))\n",
    "\n",
    "# Create Slider to navigate in embedding space\n",
    "slider = FloatSlider(\n",
    "    orientation=\"horizontal\",\n",
    "    description=\"x-Position:\",\n",
    "    value=user_position[0],\n",
    "    min=min(nav_axis[0][:min_axis_len]),\n",
    "    max=max(nav_axis[0][:min_axis_len])\n",
    ")\n",
    "slider.layout.margin = '0px 10% 0px 10%'\n",
    "slider.layout.width = '40%'\n",
    "\n",
    "slider.observe(update_user_position, names='value')\n",
    "\n",
    "display(slider)"
   ]
  },
  {
   "cell_type": "code",
   "execution_count": null,
   "metadata": {},
   "outputs": [],
   "source": []
  }
 ]
}