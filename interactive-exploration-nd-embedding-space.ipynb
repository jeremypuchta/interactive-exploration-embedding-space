{
 "metadata": {
  "language_info": {
   "codemirror_mode": {
    "name": "ipython",
    "version": 3
   },
   "file_extension": ".py",
   "mimetype": "text/x-python",
   "name": "python",
   "nbconvert_exporter": "python",
   "pygments_lexer": "ipython3",
   "version": "3.8.7"
  },
  "orig_nbformat": 2,
  "kernelspec": {
   "name": "python387jvsc74a57bd0c8483a3bcaa40c949ebcf3c502c25aef8575e8cc8aa32445df6637cd0cdae598",
   "display_name": "Python 3.8.7 64-bit ('venv': venv)"
  }
 },
 "nbformat": 4,
 "nbformat_minor": 2,
 "cells": [
  {
   "cell_type": "code",
   "execution_count": 1,
   "metadata": {},
   "outputs": [],
   "source": [
    "%matplotlib widget\n",
    "\n",
    "import tensorflow as tf\n",
    "import os\n",
    "import sys\n",
    "import cv2\n",
    "import pickle\n",
    "import numpy as np\n",
    "import pandas as pd\n",
    "import matplotlib.pyplot as plt\n",
    "import matplotlib.image as mpimg\n",
    "import seaborn as sns\n",
    "import random\n",
    "\n",
    "from tensorflow import keras\n",
    "from tensorflow.keras.preprocessing import image\n",
    "from tensorflow.keras.applications.resnet50 import ResNet50, preprocess_input\n",
    "from tensorflow.keras.layers import GlobalMaxPooling2D\n",
    "from numpy.linalg import norm\n",
    "from sklearn.decomposition import PCA\n",
    "from sklearn.preprocessing import StandardScaler\n",
    "from sklearn.svm import SVC\n",
    "from sklearn.svm import LinearSVC\n",
    "from annoy import AnnoyIndex"
   ]
  },
  {
   "cell_type": "code",
   "execution_count": 2,
   "metadata": {},
   "outputs": [
    {
     "output_type": "stream",
     "name": "stdout",
     "text": [
      "['embeddings.tsv', '.DS_Store', 'images.csv', 'images', 'styles', 'styles.csv', '.ipynb_checkpoints', 'embeddings.csv', 'resnet50-embeddings.pkl']\n"
     ]
    }
   ],
   "source": [
    "DATASET_PATH = \"/Users/jeremy/Google Drive/datasets/fashion-dataset/\"\n",
    "print(os.listdir(DATASET_PATH))"
   ]
  },
  {
   "cell_type": "code",
   "execution_count": 3,
   "metadata": {},
   "outputs": [
    {
     "output_type": "execute_result",
     "data": {
      "text/plain": [
       "      id gender masterCategory subCategory  articleType baseColour  season  \\\n",
       "0  15970    Men        Apparel     Topwear       Shirts  Navy Blue    Fall   \n",
       "1  39386    Men        Apparel  Bottomwear        Jeans       Blue  Summer   \n",
       "2  59263  Women    Accessories     Watches      Watches     Silver  Winter   \n",
       "3  21379    Men        Apparel  Bottomwear  Track Pants      Black    Fall   \n",
       "4  53759    Men        Apparel     Topwear      Tshirts       Grey  Summer   \n",
       "5   1855    Men        Apparel     Topwear      Tshirts       Grey  Summer   \n",
       "6  30805    Men        Apparel     Topwear       Shirts      Green  Summer   \n",
       "7  26960  Women        Apparel     Topwear       Shirts     Purple  Summer   \n",
       "8  29114    Men    Accessories       Socks        Socks  Navy Blue  Summer   \n",
       "9  30039    Men    Accessories     Watches      Watches      Black  Winter   \n",
       "\n",
       "   year   usage                             productDisplayName      image  \n",
       "0  2011  Casual               Turtle Check Men Navy Blue Shirt  15970.jpg  \n",
       "1  2012  Casual             Peter England Men Party Blue Jeans  39386.jpg  \n",
       "2  2016  Casual                       Titan Women Silver Watch  59263.jpg  \n",
       "3  2011  Casual  Manchester United Men Solid Black Track Pants  21379.jpg  \n",
       "4  2012  Casual                          Puma Men Grey T-shirt  53759.jpg  \n",
       "5  2011  Casual           Inkfruit Mens Chain Reaction T-shirt   1855.jpg  \n",
       "6  2012  Ethnic               Fabindia Men Striped Green Shirt  30805.jpg  \n",
       "7  2012  Casual                  Jealous 21 Women Purple Shirt  26960.jpg  \n",
       "8  2012  Casual                       Puma Men Pack of 3 Socks  29114.jpg  \n",
       "9  2016  Casual                         Skagen Men Black Watch  30039.jpg  "
      ],
      "text/html": "<div>\n<style scoped>\n    .dataframe tbody tr th:only-of-type {\n        vertical-align: middle;\n    }\n\n    .dataframe tbody tr th {\n        vertical-align: top;\n    }\n\n    .dataframe thead th {\n        text-align: right;\n    }\n</style>\n<table border=\"1\" class=\"dataframe\">\n  <thead>\n    <tr style=\"text-align: right;\">\n      <th></th>\n      <th>id</th>\n      <th>gender</th>\n      <th>masterCategory</th>\n      <th>subCategory</th>\n      <th>articleType</th>\n      <th>baseColour</th>\n      <th>season</th>\n      <th>year</th>\n      <th>usage</th>\n      <th>productDisplayName</th>\n      <th>image</th>\n    </tr>\n  </thead>\n  <tbody>\n    <tr>\n      <th>0</th>\n      <td>15970</td>\n      <td>Men</td>\n      <td>Apparel</td>\n      <td>Topwear</td>\n      <td>Shirts</td>\n      <td>Navy Blue</td>\n      <td>Fall</td>\n      <td>2011</td>\n      <td>Casual</td>\n      <td>Turtle Check Men Navy Blue Shirt</td>\n      <td>15970.jpg</td>\n    </tr>\n    <tr>\n      <th>1</th>\n      <td>39386</td>\n      <td>Men</td>\n      <td>Apparel</td>\n      <td>Bottomwear</td>\n      <td>Jeans</td>\n      <td>Blue</td>\n      <td>Summer</td>\n      <td>2012</td>\n      <td>Casual</td>\n      <td>Peter England Men Party Blue Jeans</td>\n      <td>39386.jpg</td>\n    </tr>\n    <tr>\n      <th>2</th>\n      <td>59263</td>\n      <td>Women</td>\n      <td>Accessories</td>\n      <td>Watches</td>\n      <td>Watches</td>\n      <td>Silver</td>\n      <td>Winter</td>\n      <td>2016</td>\n      <td>Casual</td>\n      <td>Titan Women Silver Watch</td>\n      <td>59263.jpg</td>\n    </tr>\n    <tr>\n      <th>3</th>\n      <td>21379</td>\n      <td>Men</td>\n      <td>Apparel</td>\n      <td>Bottomwear</td>\n      <td>Track Pants</td>\n      <td>Black</td>\n      <td>Fall</td>\n      <td>2011</td>\n      <td>Casual</td>\n      <td>Manchester United Men Solid Black Track Pants</td>\n      <td>21379.jpg</td>\n    </tr>\n    <tr>\n      <th>4</th>\n      <td>53759</td>\n      <td>Men</td>\n      <td>Apparel</td>\n      <td>Topwear</td>\n      <td>Tshirts</td>\n      <td>Grey</td>\n      <td>Summer</td>\n      <td>2012</td>\n      <td>Casual</td>\n      <td>Puma Men Grey T-shirt</td>\n      <td>53759.jpg</td>\n    </tr>\n    <tr>\n      <th>5</th>\n      <td>1855</td>\n      <td>Men</td>\n      <td>Apparel</td>\n      <td>Topwear</td>\n      <td>Tshirts</td>\n      <td>Grey</td>\n      <td>Summer</td>\n      <td>2011</td>\n      <td>Casual</td>\n      <td>Inkfruit Mens Chain Reaction T-shirt</td>\n      <td>1855.jpg</td>\n    </tr>\n    <tr>\n      <th>6</th>\n      <td>30805</td>\n      <td>Men</td>\n      <td>Apparel</td>\n      <td>Topwear</td>\n      <td>Shirts</td>\n      <td>Green</td>\n      <td>Summer</td>\n      <td>2012</td>\n      <td>Ethnic</td>\n      <td>Fabindia Men Striped Green Shirt</td>\n      <td>30805.jpg</td>\n    </tr>\n    <tr>\n      <th>7</th>\n      <td>26960</td>\n      <td>Women</td>\n      <td>Apparel</td>\n      <td>Topwear</td>\n      <td>Shirts</td>\n      <td>Purple</td>\n      <td>Summer</td>\n      <td>2012</td>\n      <td>Casual</td>\n      <td>Jealous 21 Women Purple Shirt</td>\n      <td>26960.jpg</td>\n    </tr>\n    <tr>\n      <th>8</th>\n      <td>29114</td>\n      <td>Men</td>\n      <td>Accessories</td>\n      <td>Socks</td>\n      <td>Socks</td>\n      <td>Navy Blue</td>\n      <td>Summer</td>\n      <td>2012</td>\n      <td>Casual</td>\n      <td>Puma Men Pack of 3 Socks</td>\n      <td>29114.jpg</td>\n    </tr>\n    <tr>\n      <th>9</th>\n      <td>30039</td>\n      <td>Men</td>\n      <td>Accessories</td>\n      <td>Watches</td>\n      <td>Watches</td>\n      <td>Black</td>\n      <td>Winter</td>\n      <td>2016</td>\n      <td>Casual</td>\n      <td>Skagen Men Black Watch</td>\n      <td>30039.jpg</td>\n    </tr>\n  </tbody>\n</table>\n</div>"
     },
     "metadata": {},
     "execution_count": 3
    }
   ],
   "source": [
    "df = pd.read_csv(DATASET_PATH + \"styles.csv\", nrows=5000, error_bad_lines=False)\n",
    "df['image'] = df.apply(lambda row: str(row['id']) + \".jpg\", axis=1)\n",
    "df = df.reset_index(drop=True)\n",
    "df.head(10)"
   ]
  },
  {
   "cell_type": "code",
   "execution_count": 4,
   "metadata": {},
   "outputs": [],
   "source": [
    "def get_img_path(img):\n",
    "  return DATASET_PATH + \"images/\" + img"
   ]
  },
  {
   "cell_type": "code",
   "execution_count": 5,
   "metadata": {},
   "outputs": [],
   "source": [
    "df_embs = pickle.load(open(DATASET_PATH + \"resnet50-embeddings.pkl\", \"rb\"))"
   ]
  },
  {
   "cell_type": "code",
   "execution_count": 6,
   "metadata": {},
   "outputs": [
    {
     "output_type": "execute_result",
     "data": {
      "text/plain": [
       "(array(['Apparel'], dtype=object), (2297, 11), 2297)"
      ]
     },
     "metadata": {},
     "execution_count": 6
    }
   ],
   "source": [
    "# Filter only embeddings with master category 'Apparel' and save indices to filter for them later\n",
    "df_filtered = df.loc[df.masterCategory == 'Apparel']\n",
    "df_filtered_idx = df_filtered.index.values.tolist()\n",
    "df_filtered = df_filtered.reset_index(drop=True)\n",
    "df_filtered.masterCategory.unique(), df_filtered.shape, len(df_filtered_idx)"
   ]
  },
  {
   "cell_type": "code",
   "execution_count": 7,
   "metadata": {},
   "outputs": [
    {
     "output_type": "execute_result",
     "data": {
      "text/plain": [
       "          0          1         2          3         4         5          6     \\\n",
       "0     5.661316   2.366165  0.000000   3.255730  0.845208  2.673841   8.780870   \n",
       "1     5.790417   9.593648  0.000000   9.431670  0.287235  0.259945  17.028748   \n",
       "2     5.882203   1.958606  0.000000  12.519882  0.000000  0.000000   9.383594   \n",
       "3     0.245968  17.383430  0.493824   3.374468  2.567368  0.000000   6.482537   \n",
       "4     0.028546  18.567099  0.000000   0.757250  1.504949  0.000000   1.982024   \n",
       "...        ...        ...       ...        ...       ...       ...        ...   \n",
       "2292  3.134137  12.337814  3.281830   0.000000  6.123401  6.273666   3.345068   \n",
       "2293  2.800386  19.866081  3.215006   2.487933  0.147357  0.000000   7.958175   \n",
       "2294  4.801172  16.536064  2.132150   2.630906  1.190370  0.243107   1.454644   \n",
       "2295  3.184294  14.538852  6.306130   0.000000  3.361131  6.701039   0.729837   \n",
       "2296  2.876276  25.317070  0.000000   2.869397  4.971409  0.568798   0.000000   \n",
       "\n",
       "          7         8         9     ...       2038      2039       2040  \\\n",
       "0     6.280786  0.787188  1.587657  ...   2.463610  0.000000   1.825994   \n",
       "1     3.037453  0.136341  0.000000  ...   1.670570  0.013891  10.338681   \n",
       "2     3.781614  0.000000  1.490617  ...  17.825478  0.000000   3.592507   \n",
       "3     5.862639  0.000000  3.164866  ...   4.464024  0.447075   1.448143   \n",
       "4     2.963777  1.072765  4.539300  ...   3.247082  4.273134   3.088643   \n",
       "...        ...       ...       ...  ...        ...       ...        ...   \n",
       "2292  4.230134  2.082114  2.691854  ...   5.392367  2.139013   7.540308   \n",
       "2293  5.669247  0.706661  4.877097  ...  10.292748  0.000000   0.738173   \n",
       "2294  3.500423  0.627453  5.221931  ...   0.000000  1.886256   3.294083   \n",
       "2295  0.295319  0.252367  3.175583  ...   0.000000  1.471544   1.482233   \n",
       "2296  5.165745  0.000000  0.000000  ...   3.623354  0.000000   9.653894   \n",
       "\n",
       "           2041      2042       2043       2044      2045      2046       2047  \n",
       "0     20.485268  3.902863   0.000000   8.225969  1.313863  0.000000  10.820526  \n",
       "1      4.784722  0.189140   0.000000   7.739144  0.372693  0.000000   8.903802  \n",
       "2      2.042305  0.000000   0.000000   6.656779  1.457314  1.694204   1.403327  \n",
       "3     12.884138  0.000000   0.397501   5.028075  1.939697  0.000000  11.485400  \n",
       "4     16.997053  0.000000   0.000000   2.258095  1.595798  0.000000   7.674047  \n",
       "...         ...       ...        ...        ...       ...       ...        ...  \n",
       "2292   5.394151  6.070920   0.000000   0.000000  0.000000  0.000000  10.168349  \n",
       "2293  16.109261  0.383140   0.000000   4.432935  2.898650  0.416252  12.830476  \n",
       "2294  17.186272  0.000000   2.014549   1.663332  2.118907  0.000000   6.815829  \n",
       "2295  22.654318  2.425646  12.427614   8.393599  0.000000  9.616654   3.375090  \n",
       "2296   3.372160  0.000000   0.000000  11.082531  0.000000  0.000000  15.469978  \n",
       "\n",
       "[2297 rows x 2048 columns]"
      ],
      "text/html": "<div>\n<style scoped>\n    .dataframe tbody tr th:only-of-type {\n        vertical-align: middle;\n    }\n\n    .dataframe tbody tr th {\n        vertical-align: top;\n    }\n\n    .dataframe thead th {\n        text-align: right;\n    }\n</style>\n<table border=\"1\" class=\"dataframe\">\n  <thead>\n    <tr style=\"text-align: right;\">\n      <th></th>\n      <th>0</th>\n      <th>1</th>\n      <th>2</th>\n      <th>3</th>\n      <th>4</th>\n      <th>5</th>\n      <th>6</th>\n      <th>7</th>\n      <th>8</th>\n      <th>9</th>\n      <th>...</th>\n      <th>2038</th>\n      <th>2039</th>\n      <th>2040</th>\n      <th>2041</th>\n      <th>2042</th>\n      <th>2043</th>\n      <th>2044</th>\n      <th>2045</th>\n      <th>2046</th>\n      <th>2047</th>\n    </tr>\n  </thead>\n  <tbody>\n    <tr>\n      <th>0</th>\n      <td>5.661316</td>\n      <td>2.366165</td>\n      <td>0.000000</td>\n      <td>3.255730</td>\n      <td>0.845208</td>\n      <td>2.673841</td>\n      <td>8.780870</td>\n      <td>6.280786</td>\n      <td>0.787188</td>\n      <td>1.587657</td>\n      <td>...</td>\n      <td>2.463610</td>\n      <td>0.000000</td>\n      <td>1.825994</td>\n      <td>20.485268</td>\n      <td>3.902863</td>\n      <td>0.000000</td>\n      <td>8.225969</td>\n      <td>1.313863</td>\n      <td>0.000000</td>\n      <td>10.820526</td>\n    </tr>\n    <tr>\n      <th>1</th>\n      <td>5.790417</td>\n      <td>9.593648</td>\n      <td>0.000000</td>\n      <td>9.431670</td>\n      <td>0.287235</td>\n      <td>0.259945</td>\n      <td>17.028748</td>\n      <td>3.037453</td>\n      <td>0.136341</td>\n      <td>0.000000</td>\n      <td>...</td>\n      <td>1.670570</td>\n      <td>0.013891</td>\n      <td>10.338681</td>\n      <td>4.784722</td>\n      <td>0.189140</td>\n      <td>0.000000</td>\n      <td>7.739144</td>\n      <td>0.372693</td>\n      <td>0.000000</td>\n      <td>8.903802</td>\n    </tr>\n    <tr>\n      <th>2</th>\n      <td>5.882203</td>\n      <td>1.958606</td>\n      <td>0.000000</td>\n      <td>12.519882</td>\n      <td>0.000000</td>\n      <td>0.000000</td>\n      <td>9.383594</td>\n      <td>3.781614</td>\n      <td>0.000000</td>\n      <td>1.490617</td>\n      <td>...</td>\n      <td>17.825478</td>\n      <td>0.000000</td>\n      <td>3.592507</td>\n      <td>2.042305</td>\n      <td>0.000000</td>\n      <td>0.000000</td>\n      <td>6.656779</td>\n      <td>1.457314</td>\n      <td>1.694204</td>\n      <td>1.403327</td>\n    </tr>\n    <tr>\n      <th>3</th>\n      <td>0.245968</td>\n      <td>17.383430</td>\n      <td>0.493824</td>\n      <td>3.374468</td>\n      <td>2.567368</td>\n      <td>0.000000</td>\n      <td>6.482537</td>\n      <td>5.862639</td>\n      <td>0.000000</td>\n      <td>3.164866</td>\n      <td>...</td>\n      <td>4.464024</td>\n      <td>0.447075</td>\n      <td>1.448143</td>\n      <td>12.884138</td>\n      <td>0.000000</td>\n      <td>0.397501</td>\n      <td>5.028075</td>\n      <td>1.939697</td>\n      <td>0.000000</td>\n      <td>11.485400</td>\n    </tr>\n    <tr>\n      <th>4</th>\n      <td>0.028546</td>\n      <td>18.567099</td>\n      <td>0.000000</td>\n      <td>0.757250</td>\n      <td>1.504949</td>\n      <td>0.000000</td>\n      <td>1.982024</td>\n      <td>2.963777</td>\n      <td>1.072765</td>\n      <td>4.539300</td>\n      <td>...</td>\n      <td>3.247082</td>\n      <td>4.273134</td>\n      <td>3.088643</td>\n      <td>16.997053</td>\n      <td>0.000000</td>\n      <td>0.000000</td>\n      <td>2.258095</td>\n      <td>1.595798</td>\n      <td>0.000000</td>\n      <td>7.674047</td>\n    </tr>\n    <tr>\n      <th>...</th>\n      <td>...</td>\n      <td>...</td>\n      <td>...</td>\n      <td>...</td>\n      <td>...</td>\n      <td>...</td>\n      <td>...</td>\n      <td>...</td>\n      <td>...</td>\n      <td>...</td>\n      <td>...</td>\n      <td>...</td>\n      <td>...</td>\n      <td>...</td>\n      <td>...</td>\n      <td>...</td>\n      <td>...</td>\n      <td>...</td>\n      <td>...</td>\n      <td>...</td>\n      <td>...</td>\n    </tr>\n    <tr>\n      <th>2292</th>\n      <td>3.134137</td>\n      <td>12.337814</td>\n      <td>3.281830</td>\n      <td>0.000000</td>\n      <td>6.123401</td>\n      <td>6.273666</td>\n      <td>3.345068</td>\n      <td>4.230134</td>\n      <td>2.082114</td>\n      <td>2.691854</td>\n      <td>...</td>\n      <td>5.392367</td>\n      <td>2.139013</td>\n      <td>7.540308</td>\n      <td>5.394151</td>\n      <td>6.070920</td>\n      <td>0.000000</td>\n      <td>0.000000</td>\n      <td>0.000000</td>\n      <td>0.000000</td>\n      <td>10.168349</td>\n    </tr>\n    <tr>\n      <th>2293</th>\n      <td>2.800386</td>\n      <td>19.866081</td>\n      <td>3.215006</td>\n      <td>2.487933</td>\n      <td>0.147357</td>\n      <td>0.000000</td>\n      <td>7.958175</td>\n      <td>5.669247</td>\n      <td>0.706661</td>\n      <td>4.877097</td>\n      <td>...</td>\n      <td>10.292748</td>\n      <td>0.000000</td>\n      <td>0.738173</td>\n      <td>16.109261</td>\n      <td>0.383140</td>\n      <td>0.000000</td>\n      <td>4.432935</td>\n      <td>2.898650</td>\n      <td>0.416252</td>\n      <td>12.830476</td>\n    </tr>\n    <tr>\n      <th>2294</th>\n      <td>4.801172</td>\n      <td>16.536064</td>\n      <td>2.132150</td>\n      <td>2.630906</td>\n      <td>1.190370</td>\n      <td>0.243107</td>\n      <td>1.454644</td>\n      <td>3.500423</td>\n      <td>0.627453</td>\n      <td>5.221931</td>\n      <td>...</td>\n      <td>0.000000</td>\n      <td>1.886256</td>\n      <td>3.294083</td>\n      <td>17.186272</td>\n      <td>0.000000</td>\n      <td>2.014549</td>\n      <td>1.663332</td>\n      <td>2.118907</td>\n      <td>0.000000</td>\n      <td>6.815829</td>\n    </tr>\n    <tr>\n      <th>2295</th>\n      <td>3.184294</td>\n      <td>14.538852</td>\n      <td>6.306130</td>\n      <td>0.000000</td>\n      <td>3.361131</td>\n      <td>6.701039</td>\n      <td>0.729837</td>\n      <td>0.295319</td>\n      <td>0.252367</td>\n      <td>3.175583</td>\n      <td>...</td>\n      <td>0.000000</td>\n      <td>1.471544</td>\n      <td>1.482233</td>\n      <td>22.654318</td>\n      <td>2.425646</td>\n      <td>12.427614</td>\n      <td>8.393599</td>\n      <td>0.000000</td>\n      <td>9.616654</td>\n      <td>3.375090</td>\n    </tr>\n    <tr>\n      <th>2296</th>\n      <td>2.876276</td>\n      <td>25.317070</td>\n      <td>0.000000</td>\n      <td>2.869397</td>\n      <td>4.971409</td>\n      <td>0.568798</td>\n      <td>0.000000</td>\n      <td>5.165745</td>\n      <td>0.000000</td>\n      <td>0.000000</td>\n      <td>...</td>\n      <td>3.623354</td>\n      <td>0.000000</td>\n      <td>9.653894</td>\n      <td>3.372160</td>\n      <td>0.000000</td>\n      <td>0.000000</td>\n      <td>11.082531</td>\n      <td>0.000000</td>\n      <td>0.000000</td>\n      <td>15.469978</td>\n    </tr>\n  </tbody>\n</table>\n<p>2297 rows × 2048 columns</p>\n</div>"
     },
     "metadata": {},
     "execution_count": 7
    }
   ],
   "source": [
    "embs_filtered = []\n",
    "for i, row in df_embs.iterrows():\n",
    "    if i in  df_filtered_idx:\n",
    "        embs_filtered.append(row)\n",
    "df_embs_filtered = pd.DataFrame(embs_filtered)\n",
    "df_embs_filtered = df_embs_filtered.reset_index(drop=True)\n",
    "df_embs_filtered"
   ]
  },
  {
   "cell_type": "code",
   "execution_count": 8,
   "metadata": {},
   "outputs": [
    {
     "output_type": "execute_result",
     "data": {
      "text/plain": [
       "             0          1          2          3          4          5   \\\n",
       "0    -64.281143  -0.382205  10.129696 -22.772249 -38.307953  10.126498   \n",
       "1    -50.859028 -78.791443 -48.603302  -5.542873  57.489609 -30.835249   \n",
       "2    -21.894361 -69.084808 -56.701500 -13.024251  48.613518 -35.151257   \n",
       "3    -52.814491 -30.695797  24.538797  18.532673 -15.459093  -4.578689   \n",
       "4    -26.194769 -12.308703  56.018478  28.274584   4.040716   0.309535   \n",
       "...         ...        ...        ...        ...        ...        ...   \n",
       "2292  99.575600 -30.713911 -20.068457 -25.830212 -22.531929  51.434818   \n",
       "2293 -26.236425 -12.102087  52.941200  21.009840  -2.619732 -23.604729   \n",
       "2294 -29.318752  36.647446  31.197523  14.334846  26.817392  -5.634312   \n",
       "2295  54.131592  63.903698  -8.761909 -63.546356  17.439548   9.300051   \n",
       "2296  38.495075 -52.470432 -66.317261 -36.051521  10.185783  22.410589   \n",
       "\n",
       "             6          7          8          9   ...         90        91  \\\n",
       "0     36.410583 -46.646549 -34.147324   8.802656  ...   2.473552  0.815058   \n",
       "1     -2.337715 -15.355863  -7.670314  -7.935178  ...  -0.244214  6.119100   \n",
       "2      6.533604  12.986296   1.046202 -23.648275  ...   1.546429 -1.480428   \n",
       "3    -20.258471   5.052539 -18.399326  14.211835  ...   0.487577  5.164029   \n",
       "4     20.197052  11.746017 -15.117895   0.661892  ...  -1.006946  2.984005   \n",
       "...         ...        ...        ...        ...  ...        ...       ...   \n",
       "2292 -40.079025 -24.682705 -38.467987  53.920879  ...  -7.343183 -8.435580   \n",
       "2293   3.913823   4.513413  -3.499752 -43.001534  ...  10.254016  5.801165   \n",
       "2294 -21.891565  -2.816176 -21.250431   2.923815  ...   3.307360 -3.007015   \n",
       "2295  16.524513  42.935131  53.400990  43.313881  ...  13.089308 -3.970719   \n",
       "2296  -4.825860  18.685816   5.898645 -20.394505  ...  -7.625935 -7.191411   \n",
       "\n",
       "             92         93        94         95        96         97  \\\n",
       "0     -1.324206   6.417312  3.944019   2.259099 -4.700742   8.086054   \n",
       "1     -2.582830  -6.156396  1.553834   5.651353  9.528061  -4.089435   \n",
       "2    -13.130416   8.454337  3.512072  -1.920022  5.721154   7.489941   \n",
       "3     -6.627130  -7.596750 -1.990091  -1.946972  5.223144   8.517446   \n",
       "4     -1.661335   6.169484  0.039874  -6.870212  4.883084   1.605334   \n",
       "...         ...        ...       ...        ...       ...        ...   \n",
       "2292 -10.091974   4.403514  2.639768  14.398014  3.600716  -2.999894   \n",
       "2293  -2.908997   7.767170 -4.840563  -2.381317 -5.673163  -6.208100   \n",
       "2294   1.464625  11.379956 -1.496132   4.083375 -9.034772   6.651826   \n",
       "2295  -6.844429  -4.788764  4.900023   9.523685  7.353218  10.253664   \n",
       "2296  -4.605135   2.532459 -4.737644  -1.768197 -8.686935  -3.157719   \n",
       "\n",
       "             98        99  \n",
       "0     -0.300124 -1.886420  \n",
       "1      7.066453 -6.111871  \n",
       "2      5.329553 -1.222036  \n",
       "3      2.530492  5.019147  \n",
       "4      4.553557  3.243586  \n",
       "...         ...       ...  \n",
       "2292 -10.551106  1.857587  \n",
       "2293   4.520116 -8.425411  \n",
       "2294   5.763023  1.647731  \n",
       "2295  -6.021593  0.498545  \n",
       "2296   5.329644 -0.798913  \n",
       "\n",
       "[2297 rows x 100 columns]"
      ],
      "text/html": "<div>\n<style scoped>\n    .dataframe tbody tr th:only-of-type {\n        vertical-align: middle;\n    }\n\n    .dataframe tbody tr th {\n        vertical-align: top;\n    }\n\n    .dataframe thead th {\n        text-align: right;\n    }\n</style>\n<table border=\"1\" class=\"dataframe\">\n  <thead>\n    <tr style=\"text-align: right;\">\n      <th></th>\n      <th>0</th>\n      <th>1</th>\n      <th>2</th>\n      <th>3</th>\n      <th>4</th>\n      <th>5</th>\n      <th>6</th>\n      <th>7</th>\n      <th>8</th>\n      <th>9</th>\n      <th>...</th>\n      <th>90</th>\n      <th>91</th>\n      <th>92</th>\n      <th>93</th>\n      <th>94</th>\n      <th>95</th>\n      <th>96</th>\n      <th>97</th>\n      <th>98</th>\n      <th>99</th>\n    </tr>\n  </thead>\n  <tbody>\n    <tr>\n      <th>0</th>\n      <td>-64.281143</td>\n      <td>-0.382205</td>\n      <td>10.129696</td>\n      <td>-22.772249</td>\n      <td>-38.307953</td>\n      <td>10.126498</td>\n      <td>36.410583</td>\n      <td>-46.646549</td>\n      <td>-34.147324</td>\n      <td>8.802656</td>\n      <td>...</td>\n      <td>2.473552</td>\n      <td>0.815058</td>\n      <td>-1.324206</td>\n      <td>6.417312</td>\n      <td>3.944019</td>\n      <td>2.259099</td>\n      <td>-4.700742</td>\n      <td>8.086054</td>\n      <td>-0.300124</td>\n      <td>-1.886420</td>\n    </tr>\n    <tr>\n      <th>1</th>\n      <td>-50.859028</td>\n      <td>-78.791443</td>\n      <td>-48.603302</td>\n      <td>-5.542873</td>\n      <td>57.489609</td>\n      <td>-30.835249</td>\n      <td>-2.337715</td>\n      <td>-15.355863</td>\n      <td>-7.670314</td>\n      <td>-7.935178</td>\n      <td>...</td>\n      <td>-0.244214</td>\n      <td>6.119100</td>\n      <td>-2.582830</td>\n      <td>-6.156396</td>\n      <td>1.553834</td>\n      <td>5.651353</td>\n      <td>9.528061</td>\n      <td>-4.089435</td>\n      <td>7.066453</td>\n      <td>-6.111871</td>\n    </tr>\n    <tr>\n      <th>2</th>\n      <td>-21.894361</td>\n      <td>-69.084808</td>\n      <td>-56.701500</td>\n      <td>-13.024251</td>\n      <td>48.613518</td>\n      <td>-35.151257</td>\n      <td>6.533604</td>\n      <td>12.986296</td>\n      <td>1.046202</td>\n      <td>-23.648275</td>\n      <td>...</td>\n      <td>1.546429</td>\n      <td>-1.480428</td>\n      <td>-13.130416</td>\n      <td>8.454337</td>\n      <td>3.512072</td>\n      <td>-1.920022</td>\n      <td>5.721154</td>\n      <td>7.489941</td>\n      <td>5.329553</td>\n      <td>-1.222036</td>\n    </tr>\n    <tr>\n      <th>3</th>\n      <td>-52.814491</td>\n      <td>-30.695797</td>\n      <td>24.538797</td>\n      <td>18.532673</td>\n      <td>-15.459093</td>\n      <td>-4.578689</td>\n      <td>-20.258471</td>\n      <td>5.052539</td>\n      <td>-18.399326</td>\n      <td>14.211835</td>\n      <td>...</td>\n      <td>0.487577</td>\n      <td>5.164029</td>\n      <td>-6.627130</td>\n      <td>-7.596750</td>\n      <td>-1.990091</td>\n      <td>-1.946972</td>\n      <td>5.223144</td>\n      <td>8.517446</td>\n      <td>2.530492</td>\n      <td>5.019147</td>\n    </tr>\n    <tr>\n      <th>4</th>\n      <td>-26.194769</td>\n      <td>-12.308703</td>\n      <td>56.018478</td>\n      <td>28.274584</td>\n      <td>4.040716</td>\n      <td>0.309535</td>\n      <td>20.197052</td>\n      <td>11.746017</td>\n      <td>-15.117895</td>\n      <td>0.661892</td>\n      <td>...</td>\n      <td>-1.006946</td>\n      <td>2.984005</td>\n      <td>-1.661335</td>\n      <td>6.169484</td>\n      <td>0.039874</td>\n      <td>-6.870212</td>\n      <td>4.883084</td>\n      <td>1.605334</td>\n      <td>4.553557</td>\n      <td>3.243586</td>\n    </tr>\n    <tr>\n      <th>...</th>\n      <td>...</td>\n      <td>...</td>\n      <td>...</td>\n      <td>...</td>\n      <td>...</td>\n      <td>...</td>\n      <td>...</td>\n      <td>...</td>\n      <td>...</td>\n      <td>...</td>\n      <td>...</td>\n      <td>...</td>\n      <td>...</td>\n      <td>...</td>\n      <td>...</td>\n      <td>...</td>\n      <td>...</td>\n      <td>...</td>\n      <td>...</td>\n      <td>...</td>\n      <td>...</td>\n    </tr>\n    <tr>\n      <th>2292</th>\n      <td>99.575600</td>\n      <td>-30.713911</td>\n      <td>-20.068457</td>\n      <td>-25.830212</td>\n      <td>-22.531929</td>\n      <td>51.434818</td>\n      <td>-40.079025</td>\n      <td>-24.682705</td>\n      <td>-38.467987</td>\n      <td>53.920879</td>\n      <td>...</td>\n      <td>-7.343183</td>\n      <td>-8.435580</td>\n      <td>-10.091974</td>\n      <td>4.403514</td>\n      <td>2.639768</td>\n      <td>14.398014</td>\n      <td>3.600716</td>\n      <td>-2.999894</td>\n      <td>-10.551106</td>\n      <td>1.857587</td>\n    </tr>\n    <tr>\n      <th>2293</th>\n      <td>-26.236425</td>\n      <td>-12.102087</td>\n      <td>52.941200</td>\n      <td>21.009840</td>\n      <td>-2.619732</td>\n      <td>-23.604729</td>\n      <td>3.913823</td>\n      <td>4.513413</td>\n      <td>-3.499752</td>\n      <td>-43.001534</td>\n      <td>...</td>\n      <td>10.254016</td>\n      <td>5.801165</td>\n      <td>-2.908997</td>\n      <td>7.767170</td>\n      <td>-4.840563</td>\n      <td>-2.381317</td>\n      <td>-5.673163</td>\n      <td>-6.208100</td>\n      <td>4.520116</td>\n      <td>-8.425411</td>\n    </tr>\n    <tr>\n      <th>2294</th>\n      <td>-29.318752</td>\n      <td>36.647446</td>\n      <td>31.197523</td>\n      <td>14.334846</td>\n      <td>26.817392</td>\n      <td>-5.634312</td>\n      <td>-21.891565</td>\n      <td>-2.816176</td>\n      <td>-21.250431</td>\n      <td>2.923815</td>\n      <td>...</td>\n      <td>3.307360</td>\n      <td>-3.007015</td>\n      <td>1.464625</td>\n      <td>11.379956</td>\n      <td>-1.496132</td>\n      <td>4.083375</td>\n      <td>-9.034772</td>\n      <td>6.651826</td>\n      <td>5.763023</td>\n      <td>1.647731</td>\n    </tr>\n    <tr>\n      <th>2295</th>\n      <td>54.131592</td>\n      <td>63.903698</td>\n      <td>-8.761909</td>\n      <td>-63.546356</td>\n      <td>17.439548</td>\n      <td>9.300051</td>\n      <td>16.524513</td>\n      <td>42.935131</td>\n      <td>53.400990</td>\n      <td>43.313881</td>\n      <td>...</td>\n      <td>13.089308</td>\n      <td>-3.970719</td>\n      <td>-6.844429</td>\n      <td>-4.788764</td>\n      <td>4.900023</td>\n      <td>9.523685</td>\n      <td>7.353218</td>\n      <td>10.253664</td>\n      <td>-6.021593</td>\n      <td>0.498545</td>\n    </tr>\n    <tr>\n      <th>2296</th>\n      <td>38.495075</td>\n      <td>-52.470432</td>\n      <td>-66.317261</td>\n      <td>-36.051521</td>\n      <td>10.185783</td>\n      <td>22.410589</td>\n      <td>-4.825860</td>\n      <td>18.685816</td>\n      <td>5.898645</td>\n      <td>-20.394505</td>\n      <td>...</td>\n      <td>-7.625935</td>\n      <td>-7.191411</td>\n      <td>-4.605135</td>\n      <td>2.532459</td>\n      <td>-4.737644</td>\n      <td>-1.768197</td>\n      <td>-8.686935</td>\n      <td>-3.157719</td>\n      <td>5.329644</td>\n      <td>-0.798913</td>\n    </tr>\n  </tbody>\n</table>\n<p>2297 rows × 100 columns</p>\n</div>"
     },
     "metadata": {},
     "execution_count": 8
    }
   ],
   "source": [
    "# Perform PCA over the embeddings to reduce dimensionality\n",
    "num_feature_dimensions = 100  # Set the number of embedding dimensions\n",
    "pca = PCA(n_components = num_feature_dimensions)\n",
    "embs_compressed = pca.fit_transform(df_embs_filtered)\n",
    "df_embs_filtered_compressed = pd.DataFrame(embs_compressed)\n",
    "df_embs_filtered_compressed"
   ]
  },
  {
   "cell_type": "code",
   "execution_count": 9,
   "metadata": {},
   "outputs": [
    {
     "output_type": "execute_result",
     "data": {
      "text/plain": [
       "array(['Winter', 'Summer'], dtype=object)"
      ]
     },
     "metadata": {},
     "execution_count": 9
    }
   ],
   "source": [
    "# Map season values to either Spring or Winter\n",
    "for i, row in df_filtered.iterrows():\n",
    "    if df_filtered.at[i, 'season'] == \"Spring\":\n",
    "        df_filtered.at[i, 'season'] = \"Summer\"\n",
    "    elif df_filtered.at[i, 'season'] == \"Fall\":\n",
    "        df_filtered.at[i, 'season'] = \"Winter\"\n",
    "df_filtered.season.unique()"
   ]
  },
  {
   "cell_type": "code",
   "execution_count": 9,
   "metadata": {},
   "outputs": [
    {
     "output_type": "execute_result",
     "data": {
      "text/plain": [
       "LinearSVC(C=1, max_iter=10000000)"
      ]
     },
     "metadata": {},
     "execution_count": 9
    }
   ],
   "source": [
    "# Application of SVM to create the axis for a given feature\n",
    "X = df_embs_filtered_compressed\n",
    "y = df_filtered[\"season\"]\n",
    "scaler = StandardScaler()\n",
    "X_scaled = scaler.fit_transform(X)\n",
    "svm_clf = LinearSVC(C=1, max_iter=10000000)\n",
    "svm_clf.fit(X_scaled, y)"
   ]
  },
  {
   "cell_type": "code",
   "execution_count": 10,
   "metadata": {},
   "outputs": [
    {
     "output_type": "execute_result",
     "data": {
      "text/plain": [
       "True"
      ]
     },
     "metadata": {},
     "execution_count": 10
    }
   ],
   "source": [
    "number_of_embeddings = df_filtered.shape[0]\n",
    "\n",
    "f = 100\n",
    "t = AnnoyIndex(f, 'euclidean')\n",
    "for index, row in df_embs_filtered_compressed.iterrows():\n",
    "    v = row.iloc[row.index].values.tolist()\n",
    "    t.add_item(index, v)\n",
    "\n",
    "t.build(10)\n",
    "t.save('annoy_index_100d.ann')"
   ]
  },
  {
   "cell_type": "code",
   "execution_count": 28,
   "metadata": {},
   "outputs": [
    {
     "output_type": "execute_result",
     "data": {
      "text/plain": [
       "15785"
      ]
     },
     "metadata": {},
     "execution_count": 28
    }
   ],
   "source": [
    "get_nearest_neighbour(user_position, df_filtered)"
   ]
  },
  {
   "cell_type": "code",
   "execution_count": 22,
   "metadata": {},
   "outputs": [],
   "source": [
    "def get_nearest_neighbour(user_position, df):\n",
    "   i = t.get_nns_by_vector(user_position, 1)\n",
    "   nearest_neighbour = df.iloc[i]['id'].values[0]\n",
    "   return nearest_neighbour"
   ]
  },
  {
   "cell_type": "code",
   "execution_count": 12,
   "metadata": {},
   "outputs": [],
   "source": [
    "def annotate_nearest_neighbour(nearest_neighbour, df):\n",
    "    arr_img = plt.imread(get_img_path(df.loc[df['id'] == nearest_neighbour].image.values[0]))\n",
    "    plt.imshow(arr_img)"
   ]
  },
  {
   "cell_type": "code",
   "execution_count": 13,
   "metadata": {
    "tags": []
   },
   "outputs": [],
   "source": [
    "def compute_navigation_axis(emb, w, range):\n",
    "    nav_axis = []\n",
    "    for i, feature in enumerate(emb):\n",
    "        feature_val = emb[feature].values[0]\n",
    "        if w[i] > 0:\n",
    "            pos_range = np.arange(start=feature_val, stop=feature_val + range, step=w[i])\n",
    "            neg_range = np.arange(start=feature_val, stop=feature_val - range, step=-w[i])\n",
    "            nav_axis.append(np.sort(np.concatenate((pos_range, neg_range))))\n",
    "        else:\n",
    "            pos_range = np.arange(start=feature_val, stop=feature_val + range, step=-w[i])\n",
    "            neg_range = np.arange(start=feature_val, stop=feature_val - range, step=w[i])\n",
    "            nav_axis.append(np.sort(np.concatenate((pos_range, neg_range))))\n",
    "    return nav_axis"
   ]
  },
  {
   "cell_type": "code",
   "execution_count": 14,
   "metadata": {},
   "outputs": [],
   "source": [
    "def initialize_user_position(axis, idx):\n",
    "    user_position = []\n",
    "    for dim in axis:\n",
    "        user_position.append(dim[idx])\n",
    "    return user_position"
   ]
  },
  {
   "cell_type": "code",
   "execution_count": 35,
   "metadata": {},
   "outputs": [],
   "source": [
    "def update_user_position(change):\n",
    "    \"\"\"Update the user position after the slider value has changed\"\"\"\n",
    "    idx = np.where(np.isclose(nav_axis[0], min(nav_axis[0], key=lambda x:abs(x-change.new))))[0][0]\n",
    "    new_user_pos = []\n",
    "    for i in range(len(nav_axis)):\n",
    "        new_user_pos.append(nav_axis[i][idx])\n",
    "    user_position = new_user_pos\n",
    "    nearest_neighbour = get_nearest_neighbour(user_position, df_filtered)\n",
    "    annotate_nearest_neighbour(nearest_neighbour, df_filtered)\n",
    "    plt.title('Nearest Embedding: {} with season: {}'.format(nearest_neighbour, df_filtered.loc[df_filtered['id'] == nearest_neighbour].season.values[0]))\n",
    "    fig.canvas.draw()\n",
    "    fig.canvas.flush_events()"
   ]
  },
  {
   "cell_type": "code",
   "execution_count": 55,
   "metadata": {},
   "outputs": [
    {
     "output_type": "display_data",
     "data": {
      "text/plain": "Canvas(toolbar=Toolbar(toolitems=[('Home', 'Reset original view', 'home', 'home'), ('Back', 'Back to previous …",
      "application/vnd.jupyter.widget-view+json": {
       "version_major": 2,
       "version_minor": 0,
       "model_id": "58c53de8fdf04825ab67303fffcf4064"
      }
     },
     "metadata": {}
    },
    {
     "output_type": "display_data",
     "data": {
      "text/plain": "FloatSlider(value=-12.079179763793945, description='x-Position:', layout=Layout(margin='0px 10% 0px 10%', widt…",
      "application/vnd.jupyter.widget-view+json": {
       "version_major": 2,
       "version_minor": 0,
       "model_id": "5657538b850a4bd8ad37782b467772a7"
      }
     },
     "metadata": {}
    }
   ],
   "source": [
    "from ipywidgets import AppLayout, FloatSlider\n",
    "\n",
    "# Create matplotlib figure for displaying fashion items\n",
    "fig = plt.figure(figsize=(7, 7))\n",
    "\n",
    "# Create orthogonal navigation axis\n",
    "w = svm_clf.coef_[0]\n",
    "rand_emb = df_embs_filtered_compressed.sample()\n",
    "nav_axis = compute_navigation_axis(rand_emb, w, 100)\n",
    "\n",
    "min_axis_len = 100000\n",
    "for i in range(len(nav_axis)):\n",
    "    if len(nav_axis[i]) < min_axis_len:\n",
    "        min_axis_len = len(nav_axis[i])\n",
    "min_axis_len\n",
    "\n",
    "starting_idx = np.where(np.isclose(nav_axis[0], min(nav_axis[0], key=lambda x:abs(x-rand_emb[0].values[0]))))[0][0]\n",
    "user_position = initialize_user_position(nav_axis, starting_idx)\n",
    "\n",
    "nearest_neighbour = get_nearest_neighbour(user_position, df_filtered)\n",
    "annotate_nearest_neighbour(nearest_neighbour, df_filtered)\n",
    "\n",
    "plt.title('Nearest Embedding: {} with season: {}, user_pos:'.format(nearest_neighbour, df_filtered.loc[df_filtered['id'] == nearest_neighbour].season.values[0], user_position[0]))\n",
    "\n",
    "# Create Slider to navigate in embedding space\n",
    "slider = FloatSlider(\n",
    "    orientation=\"horizontal\",\n",
    "    description=\"x-Position:\",\n",
    "    value=user_position[0],\n",
    "    min=min(nav_axis[0][:min_axis_len]),\n",
    "    max=max(nav_axis[0][:min_axis_len])\n",
    ")\n",
    "slider.layout.margin = '0px 10% 0px 10%'\n",
    "slider.layout.width = '40%'\n",
    "\n",
    "slider.observe(update_user_position, names='value')\n",
    "\n",
    "display(slider)"
   ]
  },
  {
   "cell_type": "code",
   "execution_count": null,
   "metadata": {},
   "outputs": [],
   "source": []
  }
 ]
}