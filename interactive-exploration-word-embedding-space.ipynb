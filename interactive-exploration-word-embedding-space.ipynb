{
 "metadata": {
  "language_info": {
   "codemirror_mode": {
    "name": "ipython",
    "version": 3
   },
   "file_extension": ".py",
   "mimetype": "text/x-python",
   "name": "python",
   "nbconvert_exporter": "python",
   "pygments_lexer": "ipython3",
   "version": "3.8.7"
  },
  "orig_nbformat": 2,
  "kernelspec": {
   "name": "pythonjvsc74a57bd0b901928082f1ec87d941fbfe662b5d67b83eac03f17ebd508798d07a7e995cb7",
   "display_name": "Python 3.8.7  ('venv': venv)"
  },
  "metadata": {
   "interpreter": {
    "hash": "b901928082f1ec87d941fbfe662b5d67b83eac03f17ebd508798d07a7e995cb7"
   }
  }
 },
 "nbformat": 4,
 "nbformat_minor": 2,
 "cells": [
  {
   "cell_type": "code",
   "execution_count": 23,
   "metadata": {},
   "outputs": [],
   "source": [
    "import numpy as np\n",
    "import pandas as pd\n",
    "import matplotlib.pyplot as plt\n",
    "import seaborn as sns\n",
    "import pickle\n",
    "import csv\n",
    "\n",
    "from sklearn.decomposition import PCA"
   ]
  },
  {
   "cell_type": "code",
   "execution_count": 19,
   "metadata": {},
   "outputs": [
    {
     "output_type": "stream",
     "name": "stdout",
     "text": [
      "['glove.6B.300d.txt', 'glove.6B.100d.txt', 'glove.6B.50d.txt', 'glove.6B.200d.txt']\n"
     ]
    }
   ],
   "source": [
    "DATASET_PATH = \"/Users/jeremy/Google Drive/datasets/glove.6B/\"\n",
    "print(os.listdir(DATASET_PATH))"
   ]
  },
  {
   "cell_type": "code",
   "execution_count": 24,
   "metadata": {},
   "outputs": [
    {
     "output_type": "execute_result",
     "data": {
      "text/plain": [
       "                  1         2        3         4        5         6   \\\n",
       "0                                                                      \n",
       "the         0.418000  0.249680 -0.41242  0.121700  0.34527 -0.044457   \n",
       ",           0.013441  0.236820 -0.16899  0.409510  0.63812  0.477090   \n",
       ".           0.151640  0.301770 -0.16763  0.176840  0.31719  0.339730   \n",
       "of          0.708530  0.570880 -0.47160  0.180480  0.54449  0.726030   \n",
       "to          0.680470 -0.039263  0.30186 -0.177920  0.42962  0.032246   \n",
       "...              ...       ...      ...       ...      ...       ...   \n",
       "chanty      0.232040  0.025672 -0.70699 -0.045465  0.13989 -0.628070   \n",
       "kronik     -0.609210 -0.672180  0.23521 -0.111950 -0.46094 -0.007462   \n",
       "rolonda    -0.511810  0.058706  1.09130 -0.551630 -0.10249 -0.126500   \n",
       "zsombor    -0.758980 -0.474260  0.47370  0.772500 -0.78064  0.232330   \n",
       "sandberger  0.072617 -0.513930  0.47280 -0.522020 -0.35534  0.346290   \n",
       "\n",
       "                  7         8         9         10  ...        41        42  \\\n",
       "0                                                   ...                       \n",
       "the        -0.496880 -0.178620 -0.000660 -0.656600  ... -0.298710 -0.157490   \n",
       ",          -0.428520 -0.556410 -0.364000 -0.239380  ... -0.080262  0.630030   \n",
       ".          -0.434780 -0.310860 -0.449990 -0.294860  ... -0.000064  0.068987   \n",
       "of          0.181570 -0.523930  0.103810 -0.175660  ... -0.347270  0.284830   \n",
       "to         -0.413760  0.132280 -0.298470 -0.085253  ... -0.094375  0.018324   \n",
       "...              ...       ...       ...       ...  ...       ...       ...   \n",
       "chanty      0.726250  0.341080  0.446140  0.163290  ... -0.095526 -0.296050   \n",
       "kronik      0.255780  0.856320  0.055977 -0.237920  ...  0.672050 -0.598220   \n",
       "rolonda     0.995030  0.079711 -0.162460  0.564880  ...  0.024747  0.200920   \n",
       "zsombor     0.046114  0.840140  0.243710  0.022978  ...  0.454390 -0.842540   \n",
       "sandberger  0.232110  0.230960  0.266940  0.410280  ...  0.688800 -0.179860   \n",
       "\n",
       "                  43        44        45        46        47        48  \\\n",
       "0                                                                        \n",
       "the        -0.347580 -0.045637 -0.442510  0.187850  0.002785 -0.184110   \n",
       ",           0.321110 -0.467650  0.227860  0.360340 -0.378180 -0.566570   \n",
       ".           0.087939 -0.102850 -0.139310  0.223140 -0.080803 -0.356520   \n",
       "of          0.075693 -0.062178 -0.389880  0.229020 -0.216170 -0.225620   \n",
       "to          0.210480 -0.030880 -0.197220  0.082279 -0.094340 -0.073297   \n",
       "...              ...       ...       ...       ...       ...       ...   \n",
       "chanty      0.385670  0.136840  0.593310 -0.694860  0.124100 -0.180690   \n",
       "kronik     -0.202590  0.392430  0.028873  0.030003 -0.106170 -0.114110   \n",
       "rolonda    -1.085100 -0.136260  0.350520 -0.858910  0.067858 -0.250030   \n",
       "zsombor     0.106500 -0.059397  0.090449  0.305810 -0.614240  0.789540   \n",
       "sandberger -0.066569 -0.480440 -0.559460 -0.275940  0.056072 -0.189070   \n",
       "\n",
       "                  49        50  \n",
       "0                               \n",
       "the        -0.115140 -0.785810  \n",
       ",           0.044691  0.303920  \n",
       ".           0.016413  0.102160  \n",
       "of         -0.093918 -0.803750  \n",
       "to         -0.064699 -0.260440  \n",
       "...              ...       ...  \n",
       "chanty     -0.258300 -0.039673  \n",
       "kronik     -0.249010 -0.120260  \n",
       "rolonda    -1.125000  1.586300  \n",
       "zsombor    -0.014116  0.644800  \n",
       "sandberger -0.590210  0.555590  \n",
       "\n",
       "[400000 rows x 50 columns]"
      ],
      "text/html": "<div>\n<style scoped>\n    .dataframe tbody tr th:only-of-type {\n        vertical-align: middle;\n    }\n\n    .dataframe tbody tr th {\n        vertical-align: top;\n    }\n\n    .dataframe thead th {\n        text-align: right;\n    }\n</style>\n<table border=\"1\" class=\"dataframe\">\n  <thead>\n    <tr style=\"text-align: right;\">\n      <th></th>\n      <th>1</th>\n      <th>2</th>\n      <th>3</th>\n      <th>4</th>\n      <th>5</th>\n      <th>6</th>\n      <th>7</th>\n      <th>8</th>\n      <th>9</th>\n      <th>10</th>\n      <th>...</th>\n      <th>41</th>\n      <th>42</th>\n      <th>43</th>\n      <th>44</th>\n      <th>45</th>\n      <th>46</th>\n      <th>47</th>\n      <th>48</th>\n      <th>49</th>\n      <th>50</th>\n    </tr>\n    <tr>\n      <th>0</th>\n      <th></th>\n      <th></th>\n      <th></th>\n      <th></th>\n      <th></th>\n      <th></th>\n      <th></th>\n      <th></th>\n      <th></th>\n      <th></th>\n      <th></th>\n      <th></th>\n      <th></th>\n      <th></th>\n      <th></th>\n      <th></th>\n      <th></th>\n      <th></th>\n      <th></th>\n      <th></th>\n      <th></th>\n    </tr>\n  </thead>\n  <tbody>\n    <tr>\n      <th>the</th>\n      <td>0.418000</td>\n      <td>0.249680</td>\n      <td>-0.41242</td>\n      <td>0.121700</td>\n      <td>0.34527</td>\n      <td>-0.044457</td>\n      <td>-0.496880</td>\n      <td>-0.178620</td>\n      <td>-0.000660</td>\n      <td>-0.656600</td>\n      <td>...</td>\n      <td>-0.298710</td>\n      <td>-0.157490</td>\n      <td>-0.347580</td>\n      <td>-0.045637</td>\n      <td>-0.442510</td>\n      <td>0.187850</td>\n      <td>0.002785</td>\n      <td>-0.184110</td>\n      <td>-0.115140</td>\n      <td>-0.785810</td>\n    </tr>\n    <tr>\n      <th>,</th>\n      <td>0.013441</td>\n      <td>0.236820</td>\n      <td>-0.16899</td>\n      <td>0.409510</td>\n      <td>0.63812</td>\n      <td>0.477090</td>\n      <td>-0.428520</td>\n      <td>-0.556410</td>\n      <td>-0.364000</td>\n      <td>-0.239380</td>\n      <td>...</td>\n      <td>-0.080262</td>\n      <td>0.630030</td>\n      <td>0.321110</td>\n      <td>-0.467650</td>\n      <td>0.227860</td>\n      <td>0.360340</td>\n      <td>-0.378180</td>\n      <td>-0.566570</td>\n      <td>0.044691</td>\n      <td>0.303920</td>\n    </tr>\n    <tr>\n      <th>.</th>\n      <td>0.151640</td>\n      <td>0.301770</td>\n      <td>-0.16763</td>\n      <td>0.176840</td>\n      <td>0.31719</td>\n      <td>0.339730</td>\n      <td>-0.434780</td>\n      <td>-0.310860</td>\n      <td>-0.449990</td>\n      <td>-0.294860</td>\n      <td>...</td>\n      <td>-0.000064</td>\n      <td>0.068987</td>\n      <td>0.087939</td>\n      <td>-0.102850</td>\n      <td>-0.139310</td>\n      <td>0.223140</td>\n      <td>-0.080803</td>\n      <td>-0.356520</td>\n      <td>0.016413</td>\n      <td>0.102160</td>\n    </tr>\n    <tr>\n      <th>of</th>\n      <td>0.708530</td>\n      <td>0.570880</td>\n      <td>-0.47160</td>\n      <td>0.180480</td>\n      <td>0.54449</td>\n      <td>0.726030</td>\n      <td>0.181570</td>\n      <td>-0.523930</td>\n      <td>0.103810</td>\n      <td>-0.175660</td>\n      <td>...</td>\n      <td>-0.347270</td>\n      <td>0.284830</td>\n      <td>0.075693</td>\n      <td>-0.062178</td>\n      <td>-0.389880</td>\n      <td>0.229020</td>\n      <td>-0.216170</td>\n      <td>-0.225620</td>\n      <td>-0.093918</td>\n      <td>-0.803750</td>\n    </tr>\n    <tr>\n      <th>to</th>\n      <td>0.680470</td>\n      <td>-0.039263</td>\n      <td>0.30186</td>\n      <td>-0.177920</td>\n      <td>0.42962</td>\n      <td>0.032246</td>\n      <td>-0.413760</td>\n      <td>0.132280</td>\n      <td>-0.298470</td>\n      <td>-0.085253</td>\n      <td>...</td>\n      <td>-0.094375</td>\n      <td>0.018324</td>\n      <td>0.210480</td>\n      <td>-0.030880</td>\n      <td>-0.197220</td>\n      <td>0.082279</td>\n      <td>-0.094340</td>\n      <td>-0.073297</td>\n      <td>-0.064699</td>\n      <td>-0.260440</td>\n    </tr>\n    <tr>\n      <th>...</th>\n      <td>...</td>\n      <td>...</td>\n      <td>...</td>\n      <td>...</td>\n      <td>...</td>\n      <td>...</td>\n      <td>...</td>\n      <td>...</td>\n      <td>...</td>\n      <td>...</td>\n      <td>...</td>\n      <td>...</td>\n      <td>...</td>\n      <td>...</td>\n      <td>...</td>\n      <td>...</td>\n      <td>...</td>\n      <td>...</td>\n      <td>...</td>\n      <td>...</td>\n      <td>...</td>\n    </tr>\n    <tr>\n      <th>chanty</th>\n      <td>0.232040</td>\n      <td>0.025672</td>\n      <td>-0.70699</td>\n      <td>-0.045465</td>\n      <td>0.13989</td>\n      <td>-0.628070</td>\n      <td>0.726250</td>\n      <td>0.341080</td>\n      <td>0.446140</td>\n      <td>0.163290</td>\n      <td>...</td>\n      <td>-0.095526</td>\n      <td>-0.296050</td>\n      <td>0.385670</td>\n      <td>0.136840</td>\n      <td>0.593310</td>\n      <td>-0.694860</td>\n      <td>0.124100</td>\n      <td>-0.180690</td>\n      <td>-0.258300</td>\n      <td>-0.039673</td>\n    </tr>\n    <tr>\n      <th>kronik</th>\n      <td>-0.609210</td>\n      <td>-0.672180</td>\n      <td>0.23521</td>\n      <td>-0.111950</td>\n      <td>-0.46094</td>\n      <td>-0.007462</td>\n      <td>0.255780</td>\n      <td>0.856320</td>\n      <td>0.055977</td>\n      <td>-0.237920</td>\n      <td>...</td>\n      <td>0.672050</td>\n      <td>-0.598220</td>\n      <td>-0.202590</td>\n      <td>0.392430</td>\n      <td>0.028873</td>\n      <td>0.030003</td>\n      <td>-0.106170</td>\n      <td>-0.114110</td>\n      <td>-0.249010</td>\n      <td>-0.120260</td>\n    </tr>\n    <tr>\n      <th>rolonda</th>\n      <td>-0.511810</td>\n      <td>0.058706</td>\n      <td>1.09130</td>\n      <td>-0.551630</td>\n      <td>-0.10249</td>\n      <td>-0.126500</td>\n      <td>0.995030</td>\n      <td>0.079711</td>\n      <td>-0.162460</td>\n      <td>0.564880</td>\n      <td>...</td>\n      <td>0.024747</td>\n      <td>0.200920</td>\n      <td>-1.085100</td>\n      <td>-0.136260</td>\n      <td>0.350520</td>\n      <td>-0.858910</td>\n      <td>0.067858</td>\n      <td>-0.250030</td>\n      <td>-1.125000</td>\n      <td>1.586300</td>\n    </tr>\n    <tr>\n      <th>zsombor</th>\n      <td>-0.758980</td>\n      <td>-0.474260</td>\n      <td>0.47370</td>\n      <td>0.772500</td>\n      <td>-0.78064</td>\n      <td>0.232330</td>\n      <td>0.046114</td>\n      <td>0.840140</td>\n      <td>0.243710</td>\n      <td>0.022978</td>\n      <td>...</td>\n      <td>0.454390</td>\n      <td>-0.842540</td>\n      <td>0.106500</td>\n      <td>-0.059397</td>\n      <td>0.090449</td>\n      <td>0.305810</td>\n      <td>-0.614240</td>\n      <td>0.789540</td>\n      <td>-0.014116</td>\n      <td>0.644800</td>\n    </tr>\n    <tr>\n      <th>sandberger</th>\n      <td>0.072617</td>\n      <td>-0.513930</td>\n      <td>0.47280</td>\n      <td>-0.522020</td>\n      <td>-0.35534</td>\n      <td>0.346290</td>\n      <td>0.232110</td>\n      <td>0.230960</td>\n      <td>0.266940</td>\n      <td>0.410280</td>\n      <td>...</td>\n      <td>0.688800</td>\n      <td>-0.179860</td>\n      <td>-0.066569</td>\n      <td>-0.480440</td>\n      <td>-0.559460</td>\n      <td>-0.275940</td>\n      <td>0.056072</td>\n      <td>-0.189070</td>\n      <td>-0.590210</td>\n      <td>0.555590</td>\n    </tr>\n  </tbody>\n</table>\n<p>400000 rows × 50 columns</p>\n</div>"
     },
     "metadata": {},
     "execution_count": 24
    }
   ],
   "source": [
    "glove_df = pd.read_csv(DATASET_PATH + \"glove.6B.50d.txt\", sep=\" \", index_col=0, header=None, quoting=csv.QUOTE_NONE)\n",
    "glove_df"
   ]
  },
  {
   "cell_type": "code",
   "execution_count": 22,
   "metadata": {},
   "outputs": [
    {
     "output_type": "execute_result",
     "data": {
      "text/plain": [
       "               0         1\n",
       "0       5.217612  2.079355\n",
       "1       4.079314  3.067489\n",
       "2       4.606941  2.448297\n",
       "3       5.049645  2.108906\n",
       "4       5.047567  2.345556\n",
       "...          ...       ...\n",
       "399995 -0.423870 -0.636069\n",
       "399996 -0.584769 -0.058490\n",
       "399997 -1.031502 -0.106568\n",
       "399998 -1.440306 -0.485549\n",
       "399999 -0.975814  0.449639\n",
       "\n",
       "[400000 rows x 2 columns]"
      ],
      "text/html": "<div>\n<style scoped>\n    .dataframe tbody tr th:only-of-type {\n        vertical-align: middle;\n    }\n\n    .dataframe tbody tr th {\n        vertical-align: top;\n    }\n\n    .dataframe thead th {\n        text-align: right;\n    }\n</style>\n<table border=\"1\" class=\"dataframe\">\n  <thead>\n    <tr style=\"text-align: right;\">\n      <th></th>\n      <th>0</th>\n      <th>1</th>\n    </tr>\n  </thead>\n  <tbody>\n    <tr>\n      <th>0</th>\n      <td>5.217612</td>\n      <td>2.079355</td>\n    </tr>\n    <tr>\n      <th>1</th>\n      <td>4.079314</td>\n      <td>3.067489</td>\n    </tr>\n    <tr>\n      <th>2</th>\n      <td>4.606941</td>\n      <td>2.448297</td>\n    </tr>\n    <tr>\n      <th>3</th>\n      <td>5.049645</td>\n      <td>2.108906</td>\n    </tr>\n    <tr>\n      <th>4</th>\n      <td>5.047567</td>\n      <td>2.345556</td>\n    </tr>\n    <tr>\n      <th>...</th>\n      <td>...</td>\n      <td>...</td>\n    </tr>\n    <tr>\n      <th>399995</th>\n      <td>-0.423870</td>\n      <td>-0.636069</td>\n    </tr>\n    <tr>\n      <th>399996</th>\n      <td>-0.584769</td>\n      <td>-0.058490</td>\n    </tr>\n    <tr>\n      <th>399997</th>\n      <td>-1.031502</td>\n      <td>-0.106568</td>\n    </tr>\n    <tr>\n      <th>399998</th>\n      <td>-1.440306</td>\n      <td>-0.485549</td>\n    </tr>\n    <tr>\n      <th>399999</th>\n      <td>-0.975814</td>\n      <td>0.449639</td>\n    </tr>\n  </tbody>\n</table>\n<p>400000 rows × 2 columns</p>\n</div>"
     },
     "metadata": {},
     "execution_count": 22
    }
   ],
   "source": [
    "# Perform PCA over the embeddings to reduce dimensionality before applying t-sne\n",
    "num_feature_dimensions = 2  # Set the number of embedding dimensions\n",
    "pca = PCA(n_components = num_feature_dimensions)\n",
    "glove_df_compressed = pca.fit_transform(glove_df)\n",
    "glove_df_compressed = pd.DataFrame(glove_df_compressed)\n",
    "glove_df_compressed"
   ]
  },
  {
   "cell_type": "code",
   "execution_count": null,
   "metadata": {},
   "outputs": [],
   "source": [
    "sns.scatterplot(x=\"x\", y=\"y\",\n",
    "                  hue=\"season\",\n",
    "                  data=glove_df_compressed,\n",
    "                  legend=\"full\",\n",
    "                  alpha=0.8)"
   ]
  }
 ]
}