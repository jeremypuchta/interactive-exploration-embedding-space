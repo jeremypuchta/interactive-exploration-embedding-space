{
 "metadata": {
  "language_info": {
   "codemirror_mode": {
    "name": "ipython",
    "version": 3
   },
   "file_extension": ".py",
   "mimetype": "text/x-python",
   "name": "python",
   "nbconvert_exporter": "python",
   "pygments_lexer": "ipython3",
   "version": "3.8.7"
  },
  "orig_nbformat": 2,
  "kernelspec": {
   "name": "python3",
   "display_name": "Python 3",
   "language": "python"
  }
 },
 "nbformat": 4,
 "nbformat_minor": 2,
 "cells": [
  {
   "cell_type": "code",
   "execution_count": 110,
   "metadata": {},
   "outputs": [],
   "source": [
    "%matplotlib widget\n",
    "\n",
    "import tensorflow as tf\n",
    "import os\n",
    "import sys\n",
    "import cv2\n",
    "import pickle\n",
    "import numpy as np\n",
    "import pandas as pd\n",
    "import matplotlib.pyplot as plt\n",
    "import matplotlib.image as mpimg\n",
    "import seaborn as sns\n",
    "import random\n",
    "\n",
    "from tensorflow import keras\n",
    "from tensorflow.keras.preprocessing import image\n",
    "from tensorflow.keras.applications.resnet50 import ResNet50, preprocess_input\n",
    "from tensorflow.keras.layers import GlobalMaxPooling2D\n",
    "from numpy.linalg import norm\n",
    "from sklearn.decomposition import PCA\n",
    "from sklearn.preprocessing import StandardScaler\n",
    "from sklearn.svm import LinearSVC"
   ]
  },
  {
   "cell_type": "code",
   "execution_count": 2,
   "metadata": {},
   "outputs": [
    {
     "output_type": "stream",
     "name": "stdout",
     "text": [
      "['embeddings.tsv', '.DS_Store', 'images.csv', 'images', 'styles', 'styles.csv', '.ipynb_checkpoints', 'embeddings.csv', 'resnet50-embeddings.pkl']\n"
     ]
    }
   ],
   "source": [
    "DATASET_PATH = \"/Users/jeremy/Google Drive/datasets/fashion-dataset/\"\n",
    "print(os.listdir(DATASET_PATH))"
   ]
  },
  {
   "cell_type": "code",
   "execution_count": 3,
   "metadata": {},
   "outputs": [
    {
     "output_type": "execute_result",
     "data": {
      "text/plain": [
       "      id gender masterCategory subCategory  articleType baseColour  season  \\\n",
       "0  15970    Men        Apparel     Topwear       Shirts  Navy Blue    Fall   \n",
       "1  39386    Men        Apparel  Bottomwear        Jeans       Blue  Summer   \n",
       "2  59263  Women    Accessories     Watches      Watches     Silver  Winter   \n",
       "3  21379    Men        Apparel  Bottomwear  Track Pants      Black    Fall   \n",
       "4  53759    Men        Apparel     Topwear      Tshirts       Grey  Summer   \n",
       "5   1855    Men        Apparel     Topwear      Tshirts       Grey  Summer   \n",
       "6  30805    Men        Apparel     Topwear       Shirts      Green  Summer   \n",
       "7  26960  Women        Apparel     Topwear       Shirts     Purple  Summer   \n",
       "8  29114    Men    Accessories       Socks        Socks  Navy Blue  Summer   \n",
       "9  30039    Men    Accessories     Watches      Watches      Black  Winter   \n",
       "\n",
       "   year   usage                             productDisplayName      image  \n",
       "0  2011  Casual               Turtle Check Men Navy Blue Shirt  15970.jpg  \n",
       "1  2012  Casual             Peter England Men Party Blue Jeans  39386.jpg  \n",
       "2  2016  Casual                       Titan Women Silver Watch  59263.jpg  \n",
       "3  2011  Casual  Manchester United Men Solid Black Track Pants  21379.jpg  \n",
       "4  2012  Casual                          Puma Men Grey T-shirt  53759.jpg  \n",
       "5  2011  Casual           Inkfruit Mens Chain Reaction T-shirt   1855.jpg  \n",
       "6  2012  Ethnic               Fabindia Men Striped Green Shirt  30805.jpg  \n",
       "7  2012  Casual                  Jealous 21 Women Purple Shirt  26960.jpg  \n",
       "8  2012  Casual                       Puma Men Pack of 3 Socks  29114.jpg  \n",
       "9  2016  Casual                         Skagen Men Black Watch  30039.jpg  "
      ],
      "text/html": "<div>\n<style scoped>\n    .dataframe tbody tr th:only-of-type {\n        vertical-align: middle;\n    }\n\n    .dataframe tbody tr th {\n        vertical-align: top;\n    }\n\n    .dataframe thead th {\n        text-align: right;\n    }\n</style>\n<table border=\"1\" class=\"dataframe\">\n  <thead>\n    <tr style=\"text-align: right;\">\n      <th></th>\n      <th>id</th>\n      <th>gender</th>\n      <th>masterCategory</th>\n      <th>subCategory</th>\n      <th>articleType</th>\n      <th>baseColour</th>\n      <th>season</th>\n      <th>year</th>\n      <th>usage</th>\n      <th>productDisplayName</th>\n      <th>image</th>\n    </tr>\n  </thead>\n  <tbody>\n    <tr>\n      <th>0</th>\n      <td>15970</td>\n      <td>Men</td>\n      <td>Apparel</td>\n      <td>Topwear</td>\n      <td>Shirts</td>\n      <td>Navy Blue</td>\n      <td>Fall</td>\n      <td>2011</td>\n      <td>Casual</td>\n      <td>Turtle Check Men Navy Blue Shirt</td>\n      <td>15970.jpg</td>\n    </tr>\n    <tr>\n      <th>1</th>\n      <td>39386</td>\n      <td>Men</td>\n      <td>Apparel</td>\n      <td>Bottomwear</td>\n      <td>Jeans</td>\n      <td>Blue</td>\n      <td>Summer</td>\n      <td>2012</td>\n      <td>Casual</td>\n      <td>Peter England Men Party Blue Jeans</td>\n      <td>39386.jpg</td>\n    </tr>\n    <tr>\n      <th>2</th>\n      <td>59263</td>\n      <td>Women</td>\n      <td>Accessories</td>\n      <td>Watches</td>\n      <td>Watches</td>\n      <td>Silver</td>\n      <td>Winter</td>\n      <td>2016</td>\n      <td>Casual</td>\n      <td>Titan Women Silver Watch</td>\n      <td>59263.jpg</td>\n    </tr>\n    <tr>\n      <th>3</th>\n      <td>21379</td>\n      <td>Men</td>\n      <td>Apparel</td>\n      <td>Bottomwear</td>\n      <td>Track Pants</td>\n      <td>Black</td>\n      <td>Fall</td>\n      <td>2011</td>\n      <td>Casual</td>\n      <td>Manchester United Men Solid Black Track Pants</td>\n      <td>21379.jpg</td>\n    </tr>\n    <tr>\n      <th>4</th>\n      <td>53759</td>\n      <td>Men</td>\n      <td>Apparel</td>\n      <td>Topwear</td>\n      <td>Tshirts</td>\n      <td>Grey</td>\n      <td>Summer</td>\n      <td>2012</td>\n      <td>Casual</td>\n      <td>Puma Men Grey T-shirt</td>\n      <td>53759.jpg</td>\n    </tr>\n    <tr>\n      <th>5</th>\n      <td>1855</td>\n      <td>Men</td>\n      <td>Apparel</td>\n      <td>Topwear</td>\n      <td>Tshirts</td>\n      <td>Grey</td>\n      <td>Summer</td>\n      <td>2011</td>\n      <td>Casual</td>\n      <td>Inkfruit Mens Chain Reaction T-shirt</td>\n      <td>1855.jpg</td>\n    </tr>\n    <tr>\n      <th>6</th>\n      <td>30805</td>\n      <td>Men</td>\n      <td>Apparel</td>\n      <td>Topwear</td>\n      <td>Shirts</td>\n      <td>Green</td>\n      <td>Summer</td>\n      <td>2012</td>\n      <td>Ethnic</td>\n      <td>Fabindia Men Striped Green Shirt</td>\n      <td>30805.jpg</td>\n    </tr>\n    <tr>\n      <th>7</th>\n      <td>26960</td>\n      <td>Women</td>\n      <td>Apparel</td>\n      <td>Topwear</td>\n      <td>Shirts</td>\n      <td>Purple</td>\n      <td>Summer</td>\n      <td>2012</td>\n      <td>Casual</td>\n      <td>Jealous 21 Women Purple Shirt</td>\n      <td>26960.jpg</td>\n    </tr>\n    <tr>\n      <th>8</th>\n      <td>29114</td>\n      <td>Men</td>\n      <td>Accessories</td>\n      <td>Socks</td>\n      <td>Socks</td>\n      <td>Navy Blue</td>\n      <td>Summer</td>\n      <td>2012</td>\n      <td>Casual</td>\n      <td>Puma Men Pack of 3 Socks</td>\n      <td>29114.jpg</td>\n    </tr>\n    <tr>\n      <th>9</th>\n      <td>30039</td>\n      <td>Men</td>\n      <td>Accessories</td>\n      <td>Watches</td>\n      <td>Watches</td>\n      <td>Black</td>\n      <td>Winter</td>\n      <td>2016</td>\n      <td>Casual</td>\n      <td>Skagen Men Black Watch</td>\n      <td>30039.jpg</td>\n    </tr>\n  </tbody>\n</table>\n</div>"
     },
     "metadata": {},
     "execution_count": 3
    }
   ],
   "source": [
    "df = pd.read_csv(DATASET_PATH + \"styles.csv\", nrows=5000, error_bad_lines=False)\n",
    "df['image'] = df.apply(lambda row: str(row['id']) + \".jpg\", axis=1)\n",
    "df = df.reset_index(drop=True)\n",
    "df.head(10)"
   ]
  },
  {
   "cell_type": "code",
   "execution_count": 204,
   "metadata": {},
   "outputs": [
    {
     "output_type": "error",
     "ename": "ValueError",
     "evalue": "could not convert string to float: 'Fall'",
     "traceback": [
      "\u001b[0;31m---------------------------------------------------------------------------\u001b[0m",
      "\u001b[0;31mValueError\u001b[0m                                Traceback (most recent call last)",
      "\u001b[0;32m<ipython-input-204-5e0e62a78142>\u001b[0m in \u001b[0;36m<module>\u001b[0;34m\u001b[0m\n\u001b[0;32m----> 1\u001b[0;31m \u001b[0mdf\u001b[0m\u001b[0;34m[\u001b[0m\u001b[0;34m'season'\u001b[0m\u001b[0;34m]\u001b[0m\u001b[0;34m.\u001b[0m\u001b[0mastype\u001b[0m\u001b[0;34m(\u001b[0m\u001b[0mfloat\u001b[0m\u001b[0;34m)\u001b[0m\u001b[0;34m\u001b[0m\u001b[0;34m\u001b[0m\u001b[0m\n\u001b[0m",
      "\u001b[0;32m~/Code/interactive-exploration-embedding-space/venv/lib/python3.8/site-packages/pandas/core/generic.py\u001b[0m in \u001b[0;36mastype\u001b[0;34m(self, dtype, copy, errors)\u001b[0m\n\u001b[1;32m   5872\u001b[0m         \u001b[0;32melse\u001b[0m\u001b[0;34m:\u001b[0m\u001b[0;34m\u001b[0m\u001b[0;34m\u001b[0m\u001b[0m\n\u001b[1;32m   5873\u001b[0m             \u001b[0;31m# else, only a single dtype is given\u001b[0m\u001b[0;34m\u001b[0m\u001b[0;34m\u001b[0m\u001b[0;34m\u001b[0m\u001b[0m\n\u001b[0;32m-> 5874\u001b[0;31m             \u001b[0mnew_data\u001b[0m \u001b[0;34m=\u001b[0m \u001b[0mself\u001b[0m\u001b[0;34m.\u001b[0m\u001b[0m_mgr\u001b[0m\u001b[0;34m.\u001b[0m\u001b[0mastype\u001b[0m\u001b[0;34m(\u001b[0m\u001b[0mdtype\u001b[0m\u001b[0;34m=\u001b[0m\u001b[0mdtype\u001b[0m\u001b[0;34m,\u001b[0m \u001b[0mcopy\u001b[0m\u001b[0;34m=\u001b[0m\u001b[0mcopy\u001b[0m\u001b[0;34m,\u001b[0m \u001b[0merrors\u001b[0m\u001b[0;34m=\u001b[0m\u001b[0merrors\u001b[0m\u001b[0;34m)\u001b[0m\u001b[0;34m\u001b[0m\u001b[0;34m\u001b[0m\u001b[0m\n\u001b[0m\u001b[1;32m   5875\u001b[0m             \u001b[0;32mreturn\u001b[0m \u001b[0mself\u001b[0m\u001b[0;34m.\u001b[0m\u001b[0m_constructor\u001b[0m\u001b[0;34m(\u001b[0m\u001b[0mnew_data\u001b[0m\u001b[0;34m)\u001b[0m\u001b[0;34m.\u001b[0m\u001b[0m__finalize__\u001b[0m\u001b[0;34m(\u001b[0m\u001b[0mself\u001b[0m\u001b[0;34m,\u001b[0m \u001b[0mmethod\u001b[0m\u001b[0;34m=\u001b[0m\u001b[0;34m\"astype\"\u001b[0m\u001b[0;34m)\u001b[0m\u001b[0;34m\u001b[0m\u001b[0;34m\u001b[0m\u001b[0m\n\u001b[1;32m   5876\u001b[0m \u001b[0;34m\u001b[0m\u001b[0m\n",
      "\u001b[0;32m~/Code/interactive-exploration-embedding-space/venv/lib/python3.8/site-packages/pandas/core/internals/managers.py\u001b[0m in \u001b[0;36mastype\u001b[0;34m(self, dtype, copy, errors)\u001b[0m\n\u001b[1;32m    629\u001b[0m         \u001b[0mself\u001b[0m\u001b[0;34m,\u001b[0m \u001b[0mdtype\u001b[0m\u001b[0;34m,\u001b[0m \u001b[0mcopy\u001b[0m\u001b[0;34m:\u001b[0m \u001b[0mbool\u001b[0m \u001b[0;34m=\u001b[0m \u001b[0;32mFalse\u001b[0m\u001b[0;34m,\u001b[0m \u001b[0merrors\u001b[0m\u001b[0;34m:\u001b[0m \u001b[0mstr\u001b[0m \u001b[0;34m=\u001b[0m \u001b[0;34m\"raise\"\u001b[0m\u001b[0;34m\u001b[0m\u001b[0;34m\u001b[0m\u001b[0m\n\u001b[1;32m    630\u001b[0m     ) -> \"BlockManager\":\n\u001b[0;32m--> 631\u001b[0;31m         \u001b[0;32mreturn\u001b[0m \u001b[0mself\u001b[0m\u001b[0;34m.\u001b[0m\u001b[0mapply\u001b[0m\u001b[0;34m(\u001b[0m\u001b[0;34m\"astype\"\u001b[0m\u001b[0;34m,\u001b[0m \u001b[0mdtype\u001b[0m\u001b[0;34m=\u001b[0m\u001b[0mdtype\u001b[0m\u001b[0;34m,\u001b[0m \u001b[0mcopy\u001b[0m\u001b[0;34m=\u001b[0m\u001b[0mcopy\u001b[0m\u001b[0;34m,\u001b[0m \u001b[0merrors\u001b[0m\u001b[0;34m=\u001b[0m\u001b[0merrors\u001b[0m\u001b[0;34m)\u001b[0m\u001b[0;34m\u001b[0m\u001b[0;34m\u001b[0m\u001b[0m\n\u001b[0m\u001b[1;32m    632\u001b[0m \u001b[0;34m\u001b[0m\u001b[0m\n\u001b[1;32m    633\u001b[0m     def convert(\n",
      "\u001b[0;32m~/Code/interactive-exploration-embedding-space/venv/lib/python3.8/site-packages/pandas/core/internals/managers.py\u001b[0m in \u001b[0;36mapply\u001b[0;34m(self, f, align_keys, ignore_failures, **kwargs)\u001b[0m\n\u001b[1;32m    425\u001b[0m                     \u001b[0mapplied\u001b[0m \u001b[0;34m=\u001b[0m \u001b[0mb\u001b[0m\u001b[0;34m.\u001b[0m\u001b[0mapply\u001b[0m\u001b[0;34m(\u001b[0m\u001b[0mf\u001b[0m\u001b[0;34m,\u001b[0m \u001b[0;34m**\u001b[0m\u001b[0mkwargs\u001b[0m\u001b[0;34m)\u001b[0m\u001b[0;34m\u001b[0m\u001b[0;34m\u001b[0m\u001b[0m\n\u001b[1;32m    426\u001b[0m                 \u001b[0;32melse\u001b[0m\u001b[0;34m:\u001b[0m\u001b[0;34m\u001b[0m\u001b[0;34m\u001b[0m\u001b[0m\n\u001b[0;32m--> 427\u001b[0;31m                     \u001b[0mapplied\u001b[0m \u001b[0;34m=\u001b[0m \u001b[0mgetattr\u001b[0m\u001b[0;34m(\u001b[0m\u001b[0mb\u001b[0m\u001b[0;34m,\u001b[0m \u001b[0mf\u001b[0m\u001b[0;34m)\u001b[0m\u001b[0;34m(\u001b[0m\u001b[0;34m**\u001b[0m\u001b[0mkwargs\u001b[0m\u001b[0;34m)\u001b[0m\u001b[0;34m\u001b[0m\u001b[0;34m\u001b[0m\u001b[0m\n\u001b[0m\u001b[1;32m    428\u001b[0m             \u001b[0;32mexcept\u001b[0m \u001b[0;34m(\u001b[0m\u001b[0mTypeError\u001b[0m\u001b[0;34m,\u001b[0m \u001b[0mNotImplementedError\u001b[0m\u001b[0;34m)\u001b[0m\u001b[0;34m:\u001b[0m\u001b[0;34m\u001b[0m\u001b[0;34m\u001b[0m\u001b[0m\n\u001b[1;32m    429\u001b[0m                 \u001b[0;32mif\u001b[0m \u001b[0;32mnot\u001b[0m \u001b[0mignore_failures\u001b[0m\u001b[0;34m:\u001b[0m\u001b[0;34m\u001b[0m\u001b[0;34m\u001b[0m\u001b[0m\n",
      "\u001b[0;32m~/Code/interactive-exploration-embedding-space/venv/lib/python3.8/site-packages/pandas/core/internals/blocks.py\u001b[0m in \u001b[0;36mastype\u001b[0;34m(self, dtype, copy, errors)\u001b[0m\n\u001b[1;32m    671\u001b[0m             \u001b[0mvals1d\u001b[0m \u001b[0;34m=\u001b[0m \u001b[0mvalues\u001b[0m\u001b[0;34m.\u001b[0m\u001b[0mravel\u001b[0m\u001b[0;34m(\u001b[0m\u001b[0;34m)\u001b[0m\u001b[0;34m\u001b[0m\u001b[0;34m\u001b[0m\u001b[0m\n\u001b[1;32m    672\u001b[0m             \u001b[0;32mtry\u001b[0m\u001b[0;34m:\u001b[0m\u001b[0;34m\u001b[0m\u001b[0;34m\u001b[0m\u001b[0m\n\u001b[0;32m--> 673\u001b[0;31m                 \u001b[0mvalues\u001b[0m \u001b[0;34m=\u001b[0m \u001b[0mastype_nansafe\u001b[0m\u001b[0;34m(\u001b[0m\u001b[0mvals1d\u001b[0m\u001b[0;34m,\u001b[0m \u001b[0mdtype\u001b[0m\u001b[0;34m,\u001b[0m \u001b[0mcopy\u001b[0m\u001b[0;34m=\u001b[0m\u001b[0;32mTrue\u001b[0m\u001b[0;34m)\u001b[0m\u001b[0;34m\u001b[0m\u001b[0;34m\u001b[0m\u001b[0m\n\u001b[0m\u001b[1;32m    674\u001b[0m             \u001b[0;32mexcept\u001b[0m \u001b[0;34m(\u001b[0m\u001b[0mValueError\u001b[0m\u001b[0;34m,\u001b[0m \u001b[0mTypeError\u001b[0m\u001b[0;34m)\u001b[0m\u001b[0;34m:\u001b[0m\u001b[0;34m\u001b[0m\u001b[0;34m\u001b[0m\u001b[0m\n\u001b[1;32m    675\u001b[0m                 \u001b[0;31m# e.g. astype_nansafe can fail on object-dtype of strings\u001b[0m\u001b[0;34m\u001b[0m\u001b[0;34m\u001b[0m\u001b[0;34m\u001b[0m\u001b[0m\n",
      "\u001b[0;32m~/Code/interactive-exploration-embedding-space/venv/lib/python3.8/site-packages/pandas/core/dtypes/cast.py\u001b[0m in \u001b[0;36mastype_nansafe\u001b[0;34m(arr, dtype, copy, skipna)\u001b[0m\n\u001b[1;32m   1095\u001b[0m     \u001b[0;32mif\u001b[0m \u001b[0mcopy\u001b[0m \u001b[0;32mor\u001b[0m \u001b[0mis_object_dtype\u001b[0m\u001b[0;34m(\u001b[0m\u001b[0marr\u001b[0m\u001b[0;34m)\u001b[0m \u001b[0;32mor\u001b[0m \u001b[0mis_object_dtype\u001b[0m\u001b[0;34m(\u001b[0m\u001b[0mdtype\u001b[0m\u001b[0;34m)\u001b[0m\u001b[0;34m:\u001b[0m\u001b[0;34m\u001b[0m\u001b[0;34m\u001b[0m\u001b[0m\n\u001b[1;32m   1096\u001b[0m         \u001b[0;31m# Explicit copy, or required since NumPy can't view from / to object.\u001b[0m\u001b[0;34m\u001b[0m\u001b[0;34m\u001b[0m\u001b[0;34m\u001b[0m\u001b[0m\n\u001b[0;32m-> 1097\u001b[0;31m         \u001b[0;32mreturn\u001b[0m \u001b[0marr\u001b[0m\u001b[0;34m.\u001b[0m\u001b[0mastype\u001b[0m\u001b[0;34m(\u001b[0m\u001b[0mdtype\u001b[0m\u001b[0;34m,\u001b[0m \u001b[0mcopy\u001b[0m\u001b[0;34m=\u001b[0m\u001b[0;32mTrue\u001b[0m\u001b[0;34m)\u001b[0m\u001b[0;34m\u001b[0m\u001b[0;34m\u001b[0m\u001b[0m\n\u001b[0m\u001b[1;32m   1098\u001b[0m \u001b[0;34m\u001b[0m\u001b[0m\n\u001b[1;32m   1099\u001b[0m     \u001b[0;32mreturn\u001b[0m \u001b[0marr\u001b[0m\u001b[0;34m.\u001b[0m\u001b[0mview\u001b[0m\u001b[0;34m(\u001b[0m\u001b[0mdtype\u001b[0m\u001b[0;34m)\u001b[0m\u001b[0;34m\u001b[0m\u001b[0;34m\u001b[0m\u001b[0m\n",
      "\u001b[0;31mValueError\u001b[0m: could not convert string to float: 'Fall'"
     ]
    }
   ],
   "source": [
    "df['season'].astype(float)"
   ]
  },
  {
   "cell_type": "code",
   "execution_count": 4,
   "metadata": {},
   "outputs": [
    {
     "output_type": "stream",
     "name": "stdout",
     "text": [
      "Model: \"sequential\"\n_________________________________________________________________\nLayer (type)                 Output Shape              Param #   \n=================================================================\nresnet50 (Functional)        (None, 7, 7, 2048)        23587712  \n_________________________________________________________________\nglobal_max_pooling2d (Global (None, 2048)              0         \n=================================================================\nTotal params: 23,587,712\nTrainable params: 23,534,592\nNon-trainable params: 53,120\n_________________________________________________________________\n"
     ]
    }
   ],
   "source": [
    "# Load ResNet-50 model pretrained on Imagenet without the classifying layers on top.\n",
    "base_model = ResNet50(weights='imagenet', include_top=False, input_shape=(224, 224, 3))\n",
    "\n",
    "# Add Global Max Pooling layer on top\n",
    "model = keras.Sequential([\n",
    "    base_model,\n",
    "    GlobalMaxPooling2D()\n",
    "])\n",
    "\n",
    "model.summary()"
   ]
  },
  {
   "cell_type": "code",
   "execution_count": 4,
   "metadata": {},
   "outputs": [],
   "source": [
    "def get_img_path(img):\n",
    "  return DATASET_PATH + \"images/\" + img"
   ]
  },
  {
   "cell_type": "code",
   "execution_count": 5,
   "metadata": {},
   "outputs": [],
   "source": [
    "def extract_embeddings(img_name, model):\n",
    "  input_shape = (224, 224, 3)\n",
    "  img = image.load_img(get_img_path(img_name), target_size=(input_shape[0], input_shape[1]))\n",
    "  img_array = image.img_to_array(img)\n",
    "  expanded_img_array = np.expand_dims(img_array, axis=0)\n",
    "  preprocessed_img = preprocess_input(expanded_img_array)\n",
    "  embeddings = model.predict(preprocessed_img)\n",
    "  return embeddings.reshape(-1)"
   ]
  },
  {
   "cell_type": "code",
   "execution_count": 6,
   "metadata": {},
   "outputs": [
    {
     "output_type": "error",
     "ename": "NameError",
     "evalue": "name 'model' is not defined",
     "traceback": [
      "\u001b[0;31m---------------------------------------------------------------------------\u001b[0m",
      "\u001b[0;31mNameError\u001b[0m                                 Traceback (most recent call last)",
      "\u001b[0;32m<ipython-input-6-6ffe523cac93>\u001b[0m in \u001b[0;36m<module>\u001b[0;34m\u001b[0m\n\u001b[0;32m----> 1\u001b[0;31m \u001b[0memb\u001b[0m \u001b[0;34m=\u001b[0m \u001b[0mextract_embeddings\u001b[0m\u001b[0;34m(\u001b[0m\u001b[0mdf\u001b[0m\u001b[0;34m.\u001b[0m\u001b[0miloc\u001b[0m\u001b[0;34m[\u001b[0m\u001b[0;36m0\u001b[0m\u001b[0;34m]\u001b[0m\u001b[0;34m.\u001b[0m\u001b[0mimage\u001b[0m\u001b[0;34m,\u001b[0m \u001b[0mmodel\u001b[0m\u001b[0;34m)\u001b[0m\u001b[0;34m\u001b[0m\u001b[0;34m\u001b[0m\u001b[0m\n\u001b[0m\u001b[1;32m      2\u001b[0m \u001b[0memb\u001b[0m\u001b[0;34m.\u001b[0m\u001b[0mshape\u001b[0m\u001b[0;34m\u001b[0m\u001b[0;34m\u001b[0m\u001b[0m\n",
      "\u001b[0;31mNameError\u001b[0m: name 'model' is not defined"
     ]
    }
   ],
   "source": [
    "emb = extract_embeddings(df.iloc[0].image, model)\n",
    "emb.shape"
   ]
  },
  {
   "cell_type": "code",
   "execution_count": 47,
   "metadata": {},
   "outputs": [
    {
     "output_type": "execute_result",
     "data": {
      "text/plain": [
       "'/Users/jeremy/Google Drive/datasets/fashion-dataset/images/5402.jpg'"
      ]
     },
     "metadata": {},
     "execution_count": 47
    }
   ],
   "source": [
    "get_img_path(df.iloc[282].image)"
   ]
  },
  {
   "cell_type": "code",
   "execution_count": 48,
   "metadata": {},
   "outputs": [
    {
     "output_type": "error",
     "ename": "TypeError",
     "evalue": "Expected Ptr<cv::UMat> for argument 'src'",
     "traceback": [
      "\u001b[0;31m---------------------------------------------------------------------------\u001b[0m",
      "\u001b[0;31mTypeError\u001b[0m                                 Traceback (most recent call last)",
      "\u001b[0;32m<ipython-input-48-12be8979827a>\u001b[0m in \u001b[0;36m<module>\u001b[0;34m\u001b[0m\n\u001b[1;32m      1\u001b[0m \u001b[0mimg_array\u001b[0m \u001b[0;34m=\u001b[0m \u001b[0mget_img_path\u001b[0m\u001b[0;34m(\u001b[0m\u001b[0mdf\u001b[0m\u001b[0;34m.\u001b[0m\u001b[0miloc\u001b[0m\u001b[0;34m[\u001b[0m\u001b[0;36m0\u001b[0m\u001b[0;34m]\u001b[0m\u001b[0;34m.\u001b[0m\u001b[0mimage\u001b[0m\u001b[0;34m)\u001b[0m\u001b[0;34m\u001b[0m\u001b[0;34m\u001b[0m\u001b[0m\n\u001b[0;32m----> 2\u001b[0;31m \u001b[0mplt\u001b[0m\u001b[0;34m.\u001b[0m\u001b[0mimshow\u001b[0m\u001b[0;34m(\u001b[0m\u001b[0mcv2\u001b[0m\u001b[0;34m.\u001b[0m\u001b[0mcvtColor\u001b[0m\u001b[0;34m(\u001b[0m\u001b[0mimg_array\u001b[0m\u001b[0;34m,\u001b[0m \u001b[0mcv2\u001b[0m\u001b[0;34m.\u001b[0m\u001b[0mCOLOR_BGR2RGB\u001b[0m\u001b[0;34m)\u001b[0m\u001b[0;34m)\u001b[0m\u001b[0;34m\u001b[0m\u001b[0;34m\u001b[0m\u001b[0m\n\u001b[0m",
      "\u001b[0;31mTypeError\u001b[0m: Expected Ptr<cv::UMat> for argument 'src'"
     ]
    }
   ],
   "source": [
    "img_array = get_img_path(df.iloc[0].image)\n",
    "plt.imshow(img_array)"
   ]
  },
  {
   "cell_type": "code",
   "execution_count": null,
   "metadata": {},
   "outputs": [],
   "source": [
    "# Create embeddings and store them into dataframe\n",
    "df_sample      = df#.sample(10)\n",
    "map_embeddings = df_sample['image'].apply(lambda img: extract_embeddings(img, model))\n",
    "df_embs        = map_embeddings.apply(pd.Series)"
   ]
  },
  {
   "cell_type": "code",
   "execution_count": null,
   "metadata": {},
   "outputs": [],
   "source": [
    "# Serialize dataframe to pickle file\n",
    "df_embs.to_pickle(DATASET_PATH + \"resnet50-embeddings.pkl\")"
   ]
  },
  {
   "cell_type": "code",
   "execution_count": 6,
   "metadata": {},
   "outputs": [],
   "source": [
    "df_embs = pickle.load(open(DATASET_PATH + \"resnet50-embeddings.pkl\", \"rb\"))"
   ]
  },
  {
   "cell_type": "code",
   "execution_count": 7,
   "metadata": {},
   "outputs": [],
   "source": [
    "# Perform PCA over the embeddings to reduce dimensionality before applying t-sne\n",
    "num_feature_dimensions = 2  # Set the number of embedding dimensions\n",
    "pca = PCA(n_components = num_feature_dimensions)\n",
    "embs_compressed = pca.fit_transform(df_embs)\n",
    "df_embs_compressed = pd.DataFrame(embs_compressed)"
   ]
  },
  {
   "cell_type": "code",
   "execution_count": 8,
   "metadata": {},
   "outputs": [
    {
     "output_type": "execute_result",
     "data": {
      "text/plain": [
       "       0          1         2          3         4         5          6     \\\n",
       "0  5.661316   2.366165  0.000000   3.255730  0.845208  2.673841   8.780870   \n",
       "1  5.790417   9.593648  0.000000   9.431670  0.287235  0.259945  17.028748   \n",
       "2  0.000000   3.162254  0.484691   0.172299  2.609548  3.840852   3.426139   \n",
       "3  5.882203   1.958606  0.000000  12.519882  0.000000  0.000000   9.383594   \n",
       "4  0.245968  17.383430  0.493824   3.374468  2.567368  0.000000   6.482537   \n",
       "\n",
       "       7         8         9     ...       2038       2039       2040  \\\n",
       "0  6.280786  0.787188  1.587657  ...   2.463610   0.000000   1.825994   \n",
       "1  3.037453  0.136341  0.000000  ...   1.670570   0.013891  10.338681   \n",
       "2  0.253253  1.098907  1.418282  ...   0.434926  14.092834   3.018744   \n",
       "3  3.781614  0.000000  1.490617  ...  17.825478   0.000000   3.592507   \n",
       "4  5.862639  0.000000  3.164866  ...   4.464024   0.447075   1.448143   \n",
       "\n",
       "        2041      2042      2043      2044      2045       2046       2047  \n",
       "0  20.485268  3.902863  0.000000  8.225969  1.313863   0.000000  10.820526  \n",
       "1   4.784722  0.189140  0.000000  7.739144  0.372693   0.000000   8.903802  \n",
       "2   2.134506  2.549062  0.377385  6.180348  0.636620  14.018165  11.415048  \n",
       "3   2.042305  0.000000  0.000000  6.656779  1.457314   1.694204   1.403327  \n",
       "4  12.884138  0.000000  0.397501  5.028075  1.939697   0.000000  11.485400  \n",
       "\n",
       "[5 rows x 2048 columns]"
      ],
      "text/html": "<div>\n<style scoped>\n    .dataframe tbody tr th:only-of-type {\n        vertical-align: middle;\n    }\n\n    .dataframe tbody tr th {\n        vertical-align: top;\n    }\n\n    .dataframe thead th {\n        text-align: right;\n    }\n</style>\n<table border=\"1\" class=\"dataframe\">\n  <thead>\n    <tr style=\"text-align: right;\">\n      <th></th>\n      <th>0</th>\n      <th>1</th>\n      <th>2</th>\n      <th>3</th>\n      <th>4</th>\n      <th>5</th>\n      <th>6</th>\n      <th>7</th>\n      <th>8</th>\n      <th>9</th>\n      <th>...</th>\n      <th>2038</th>\n      <th>2039</th>\n      <th>2040</th>\n      <th>2041</th>\n      <th>2042</th>\n      <th>2043</th>\n      <th>2044</th>\n      <th>2045</th>\n      <th>2046</th>\n      <th>2047</th>\n    </tr>\n  </thead>\n  <tbody>\n    <tr>\n      <th>0</th>\n      <td>5.661316</td>\n      <td>2.366165</td>\n      <td>0.000000</td>\n      <td>3.255730</td>\n      <td>0.845208</td>\n      <td>2.673841</td>\n      <td>8.780870</td>\n      <td>6.280786</td>\n      <td>0.787188</td>\n      <td>1.587657</td>\n      <td>...</td>\n      <td>2.463610</td>\n      <td>0.000000</td>\n      <td>1.825994</td>\n      <td>20.485268</td>\n      <td>3.902863</td>\n      <td>0.000000</td>\n      <td>8.225969</td>\n      <td>1.313863</td>\n      <td>0.000000</td>\n      <td>10.820526</td>\n    </tr>\n    <tr>\n      <th>1</th>\n      <td>5.790417</td>\n      <td>9.593648</td>\n      <td>0.000000</td>\n      <td>9.431670</td>\n      <td>0.287235</td>\n      <td>0.259945</td>\n      <td>17.028748</td>\n      <td>3.037453</td>\n      <td>0.136341</td>\n      <td>0.000000</td>\n      <td>...</td>\n      <td>1.670570</td>\n      <td>0.013891</td>\n      <td>10.338681</td>\n      <td>4.784722</td>\n      <td>0.189140</td>\n      <td>0.000000</td>\n      <td>7.739144</td>\n      <td>0.372693</td>\n      <td>0.000000</td>\n      <td>8.903802</td>\n    </tr>\n    <tr>\n      <th>2</th>\n      <td>0.000000</td>\n      <td>3.162254</td>\n      <td>0.484691</td>\n      <td>0.172299</td>\n      <td>2.609548</td>\n      <td>3.840852</td>\n      <td>3.426139</td>\n      <td>0.253253</td>\n      <td>1.098907</td>\n      <td>1.418282</td>\n      <td>...</td>\n      <td>0.434926</td>\n      <td>14.092834</td>\n      <td>3.018744</td>\n      <td>2.134506</td>\n      <td>2.549062</td>\n      <td>0.377385</td>\n      <td>6.180348</td>\n      <td>0.636620</td>\n      <td>14.018165</td>\n      <td>11.415048</td>\n    </tr>\n    <tr>\n      <th>3</th>\n      <td>5.882203</td>\n      <td>1.958606</td>\n      <td>0.000000</td>\n      <td>12.519882</td>\n      <td>0.000000</td>\n      <td>0.000000</td>\n      <td>9.383594</td>\n      <td>3.781614</td>\n      <td>0.000000</td>\n      <td>1.490617</td>\n      <td>...</td>\n      <td>17.825478</td>\n      <td>0.000000</td>\n      <td>3.592507</td>\n      <td>2.042305</td>\n      <td>0.000000</td>\n      <td>0.000000</td>\n      <td>6.656779</td>\n      <td>1.457314</td>\n      <td>1.694204</td>\n      <td>1.403327</td>\n    </tr>\n    <tr>\n      <th>4</th>\n      <td>0.245968</td>\n      <td>17.383430</td>\n      <td>0.493824</td>\n      <td>3.374468</td>\n      <td>2.567368</td>\n      <td>0.000000</td>\n      <td>6.482537</td>\n      <td>5.862639</td>\n      <td>0.000000</td>\n      <td>3.164866</td>\n      <td>...</td>\n      <td>4.464024</td>\n      <td>0.447075</td>\n      <td>1.448143</td>\n      <td>12.884138</td>\n      <td>0.000000</td>\n      <td>0.397501</td>\n      <td>5.028075</td>\n      <td>1.939697</td>\n      <td>0.000000</td>\n      <td>11.485400</td>\n    </tr>\n  </tbody>\n</table>\n<p>5 rows × 2048 columns</p>\n</div>"
     },
     "metadata": {},
     "execution_count": 8
    }
   ],
   "source": [
    "df_embs.head()"
   ]
  },
  {
   "cell_type": "code",
   "execution_count": 159,
   "metadata": {},
   "outputs": [
    {
     "output_type": "execute_result",
     "data": {
      "text/plain": [
       "               0           1\n",
       "0    -106.874687  -38.914036\n",
       "1     -97.877335  -42.474579\n",
       "2      24.955183  105.210495\n",
       "3     -83.753189  -23.996069\n",
       "4    -106.195755  -32.475075\n",
       "...          ...         ...\n",
       "4995  107.943764  -54.752693\n",
       "4996   36.390488   52.702984\n",
       "4997  -44.724003    7.185936\n",
       "4998  121.626785  -42.053097\n",
       "4999  -29.845287  -13.115038\n",
       "\n",
       "[5000 rows x 2 columns]"
      ],
      "text/html": "<div>\n<style scoped>\n    .dataframe tbody tr th:only-of-type {\n        vertical-align: middle;\n    }\n\n    .dataframe tbody tr th {\n        vertical-align: top;\n    }\n\n    .dataframe thead th {\n        text-align: right;\n    }\n</style>\n<table border=\"1\" class=\"dataframe\">\n  <thead>\n    <tr style=\"text-align: right;\">\n      <th></th>\n      <th>0</th>\n      <th>1</th>\n    </tr>\n  </thead>\n  <tbody>\n    <tr>\n      <th>0</th>\n      <td>-106.874687</td>\n      <td>-38.914036</td>\n    </tr>\n    <tr>\n      <th>1</th>\n      <td>-97.877335</td>\n      <td>-42.474579</td>\n    </tr>\n    <tr>\n      <th>2</th>\n      <td>24.955183</td>\n      <td>105.210495</td>\n    </tr>\n    <tr>\n      <th>3</th>\n      <td>-83.753189</td>\n      <td>-23.996069</td>\n    </tr>\n    <tr>\n      <th>4</th>\n      <td>-106.195755</td>\n      <td>-32.475075</td>\n    </tr>\n    <tr>\n      <th>...</th>\n      <td>...</td>\n      <td>...</td>\n    </tr>\n    <tr>\n      <th>4995</th>\n      <td>107.943764</td>\n      <td>-54.752693</td>\n    </tr>\n    <tr>\n      <th>4996</th>\n      <td>36.390488</td>\n      <td>52.702984</td>\n    </tr>\n    <tr>\n      <th>4997</th>\n      <td>-44.724003</td>\n      <td>7.185936</td>\n    </tr>\n    <tr>\n      <th>4998</th>\n      <td>121.626785</td>\n      <td>-42.053097</td>\n    </tr>\n    <tr>\n      <th>4999</th>\n      <td>-29.845287</td>\n      <td>-13.115038</td>\n    </tr>\n  </tbody>\n</table>\n<p>5000 rows × 2 columns</p>\n</div>"
     },
     "metadata": {},
     "execution_count": 159
    }
   ],
   "source": [
    "df_embs_compressed"
   ]
  },
  {
   "cell_type": "code",
   "execution_count": 103,
   "metadata": {},
   "outputs": [
    {
     "output_type": "display_data",
     "data": {
      "text/plain": "<Figure size 432x288 with 1 Axes>",
      "image/svg+xml": "<?xml version=\"1.0\" encoding=\"utf-8\" standalone=\"no\"?>\n<!DOCTYPE svg PUBLIC \"-//W3C//DTD SVG 1.1//EN\"\n  \"http://www.w3.org/Graphics/SVG/1.1/DTD/svg11.dtd\">\n<!-- Created with matplotlib (https://matplotlib.org/) -->\n<svg height=\"252.241844pt\" version=\"1.1\" viewBox=\"0 0 210.6505 252.241844\" width=\"210.6505pt\" xmlns=\"http://www.w3.org/2000/svg\" xmlns:xlink=\"http://www.w3.org/1999/xlink\">\n <metadata>\n  <rdf:RDF xmlns:cc=\"http://creativecommons.org/ns#\" xmlns:dc=\"http://purl.org/dc/elements/1.1/\" xmlns:rdf=\"http://www.w3.org/1999/02/22-rdf-syntax-ns#\">\n   <cc:Work>\n    <dc:type rdf:resource=\"http://purl.org/dc/dcmitype/StillImage\"/>\n    <dc:date>2021-03-20T17:10:40.567254</dc:date>\n    <dc:format>image/svg+xml</dc:format>\n    <dc:creator>\n     <cc:Agent>\n      <dc:title>Matplotlib v3.3.4, https://matplotlib.org/</dc:title>\n     </cc:Agent>\n    </dc:creator>\n   </cc:Work>\n  </rdf:RDF>\n </metadata>\n <defs>\n  <style type=\"text/css\">*{stroke-linecap:butt;stroke-linejoin:round;}</style>\n </defs>\n <g id=\"figure_1\">\n  <g id=\"patch_1\">\n   <path d=\"M 0 252.241844 \nL 210.6505 252.241844 \nL 210.6505 0 \nL 0 0 \nz\n\" style=\"fill:none;\"/>\n  </g>\n  <g id=\"axes_1\">\n   <g id=\"patch_2\">\n    <path d=\"M 39.65 228.363719 \nL 202.73 228.363719 \nL 202.73 10.923719 \nL 39.65 10.923719 \nz\n\" style=\"fill:#ffffff;\"/>\n   </g>\n   <g clip-path=\"url(#pfe46b8e0fb)\">\n    <image height=\"218\" id=\"image079b7d8c13\" transform=\"scale(1 -1)translate(0 -218)\" width=\"164\" x=\"39.65\" xlink:href=\"data:image/png;base64,\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\" y=\"-10.363719\"/>\n   </g>\n   <g id=\"matplotlib.axis_1\">\n    <g id=\"xtick_1\">\n     <g id=\"line2d_1\">\n      <defs>\n       <path d=\"M 0 0 \nL 0 3.5 \n\" id=\"mb99a5d07f4\" style=\"stroke:#000000;stroke-width:0.8;\"/>\n      </defs>\n      <g>\n       <use style=\"stroke:#000000;stroke-width:0.8;\" x=\"39.7255\" xlink:href=\"#mb99a5d07f4\" y=\"228.363719\"/>\n      </g>\n     </g>\n     <g id=\"text_1\">\n      <!-- 0 -->\n      <g transform=\"translate(36.54425 242.962156)scale(0.1 -0.1)\">\n       <defs>\n        <path d=\"M 31.78125 66.40625 \nQ 24.171875 66.40625 20.328125 58.90625 \nQ 16.5 51.421875 16.5 36.375 \nQ 16.5 21.390625 20.328125 13.890625 \nQ 24.171875 6.390625 31.78125 6.390625 \nQ 39.453125 6.390625 43.28125 13.890625 \nQ 47.125 21.390625 47.125 36.375 \nQ 47.125 51.421875 43.28125 58.90625 \nQ 39.453125 66.40625 31.78125 66.40625 \nz\nM 31.78125 74.21875 \nQ 44.046875 74.21875 50.515625 64.515625 \nQ 56.984375 54.828125 56.984375 36.375 \nQ 56.984375 17.96875 50.515625 8.265625 \nQ 44.046875 -1.421875 31.78125 -1.421875 \nQ 19.53125 -1.421875 13.0625 8.265625 \nQ 6.59375 17.96875 6.59375 36.375 \nQ 6.59375 54.828125 13.0625 64.515625 \nQ 19.53125 74.21875 31.78125 74.21875 \nz\n\" id=\"DejaVuSans-48\"/>\n       </defs>\n       <use xlink:href=\"#DejaVuSans-48\"/>\n      </g>\n     </g>\n    </g>\n    <g id=\"xtick_2\">\n     <g id=\"line2d_2\">\n      <g>\n       <use style=\"stroke:#000000;stroke-width:0.8;\" x=\"77.4755\" xlink:href=\"#mb99a5d07f4\" y=\"228.363719\"/>\n      </g>\n     </g>\n     <g id=\"text_2\">\n      <!-- 250 -->\n      <g transform=\"translate(67.93175 242.962156)scale(0.1 -0.1)\">\n       <defs>\n        <path d=\"M 19.1875 8.296875 \nL 53.609375 8.296875 \nL 53.609375 0 \nL 7.328125 0 \nL 7.328125 8.296875 \nQ 12.9375 14.109375 22.625 23.890625 \nQ 32.328125 33.6875 34.8125 36.53125 \nQ 39.546875 41.84375 41.421875 45.53125 \nQ 43.3125 49.21875 43.3125 52.78125 \nQ 43.3125 58.59375 39.234375 62.25 \nQ 35.15625 65.921875 28.609375 65.921875 \nQ 23.96875 65.921875 18.8125 64.3125 \nQ 13.671875 62.703125 7.8125 59.421875 \nL 7.8125 69.390625 \nQ 13.765625 71.78125 18.9375 73 \nQ 24.125 74.21875 28.421875 74.21875 \nQ 39.75 74.21875 46.484375 68.546875 \nQ 53.21875 62.890625 53.21875 53.421875 \nQ 53.21875 48.921875 51.53125 44.890625 \nQ 49.859375 40.875 45.40625 35.40625 \nQ 44.1875 33.984375 37.640625 27.21875 \nQ 31.109375 20.453125 19.1875 8.296875 \nz\n\" id=\"DejaVuSans-50\"/>\n        <path d=\"M 10.796875 72.90625 \nL 49.515625 72.90625 \nL 49.515625 64.59375 \nL 19.828125 64.59375 \nL 19.828125 46.734375 \nQ 21.96875 47.46875 24.109375 47.828125 \nQ 26.265625 48.1875 28.421875 48.1875 \nQ 40.625 48.1875 47.75 41.5 \nQ 54.890625 34.8125 54.890625 23.390625 \nQ 54.890625 11.625 47.5625 5.09375 \nQ 40.234375 -1.421875 26.90625 -1.421875 \nQ 22.3125 -1.421875 17.546875 -0.640625 \nQ 12.796875 0.140625 7.71875 1.703125 \nL 7.71875 11.625 \nQ 12.109375 9.234375 16.796875 8.0625 \nQ 21.484375 6.890625 26.703125 6.890625 \nQ 35.15625 6.890625 40.078125 11.328125 \nQ 45.015625 15.765625 45.015625 23.390625 \nQ 45.015625 31 40.078125 35.4375 \nQ 35.15625 39.890625 26.703125 39.890625 \nQ 22.75 39.890625 18.8125 39.015625 \nQ 14.890625 38.140625 10.796875 36.28125 \nz\n\" id=\"DejaVuSans-53\"/>\n       </defs>\n       <use xlink:href=\"#DejaVuSans-50\"/>\n       <use x=\"63.623047\" xlink:href=\"#DejaVuSans-53\"/>\n       <use x=\"127.246094\" xlink:href=\"#DejaVuSans-48\"/>\n      </g>\n     </g>\n    </g>\n    <g id=\"xtick_3\">\n     <g id=\"line2d_3\">\n      <g>\n       <use style=\"stroke:#000000;stroke-width:0.8;\" x=\"115.2255\" xlink:href=\"#mb99a5d07f4\" y=\"228.363719\"/>\n      </g>\n     </g>\n     <g id=\"text_3\">\n      <!-- 500 -->\n      <g transform=\"translate(105.68175 242.962156)scale(0.1 -0.1)\">\n       <use xlink:href=\"#DejaVuSans-53\"/>\n       <use x=\"63.623047\" xlink:href=\"#DejaVuSans-48\"/>\n       <use x=\"127.246094\" xlink:href=\"#DejaVuSans-48\"/>\n      </g>\n     </g>\n    </g>\n    <g id=\"xtick_4\">\n     <g id=\"line2d_4\">\n      <g>\n       <use style=\"stroke:#000000;stroke-width:0.8;\" x=\"152.9755\" xlink:href=\"#mb99a5d07f4\" y=\"228.363719\"/>\n      </g>\n     </g>\n     <g id=\"text_4\">\n      <!-- 750 -->\n      <g transform=\"translate(143.43175 242.962156)scale(0.1 -0.1)\">\n       <defs>\n        <path d=\"M 8.203125 72.90625 \nL 55.078125 72.90625 \nL 55.078125 68.703125 \nL 28.609375 0 \nL 18.3125 0 \nL 43.21875 64.59375 \nL 8.203125 64.59375 \nz\n\" id=\"DejaVuSans-55\"/>\n       </defs>\n       <use xlink:href=\"#DejaVuSans-55\"/>\n       <use x=\"63.623047\" xlink:href=\"#DejaVuSans-53\"/>\n       <use x=\"127.246094\" xlink:href=\"#DejaVuSans-48\"/>\n      </g>\n     </g>\n    </g>\n    <g id=\"xtick_5\">\n     <g id=\"line2d_5\">\n      <g>\n       <use style=\"stroke:#000000;stroke-width:0.8;\" x=\"190.7255\" xlink:href=\"#mb99a5d07f4\" y=\"228.363719\"/>\n      </g>\n     </g>\n     <g id=\"text_5\">\n      <!-- 1000 -->\n      <g transform=\"translate(178.0005 242.962156)scale(0.1 -0.1)\">\n       <defs>\n        <path d=\"M 12.40625 8.296875 \nL 28.515625 8.296875 \nL 28.515625 63.921875 \nL 10.984375 60.40625 \nL 10.984375 69.390625 \nL 28.421875 72.90625 \nL 38.28125 72.90625 \nL 38.28125 8.296875 \nL 54.390625 8.296875 \nL 54.390625 0 \nL 12.40625 0 \nz\n\" id=\"DejaVuSans-49\"/>\n       </defs>\n       <use xlink:href=\"#DejaVuSans-49\"/>\n       <use x=\"63.623047\" xlink:href=\"#DejaVuSans-48\"/>\n       <use x=\"127.246094\" xlink:href=\"#DejaVuSans-48\"/>\n       <use x=\"190.869141\" xlink:href=\"#DejaVuSans-48\"/>\n      </g>\n     </g>\n    </g>\n   </g>\n   <g id=\"matplotlib.axis_2\">\n    <g id=\"ytick_1\">\n     <g id=\"line2d_6\">\n      <defs>\n       <path d=\"M 0 0 \nL -3.5 0 \n\" id=\"m44c6ffeea7\" style=\"stroke:#000000;stroke-width:0.8;\"/>\n      </defs>\n      <g>\n       <use style=\"stroke:#000000;stroke-width:0.8;\" x=\"39.65\" xlink:href=\"#m44c6ffeea7\" y=\"10.999219\"/>\n      </g>\n     </g>\n     <g id=\"text_6\">\n      <!-- 0 -->\n      <g transform=\"translate(26.2875 14.798438)scale(0.1 -0.1)\">\n       <use xlink:href=\"#DejaVuSans-48\"/>\n      </g>\n     </g>\n    </g>\n    <g id=\"ytick_2\">\n     <g id=\"line2d_7\">\n      <g>\n       <use style=\"stroke:#000000;stroke-width:0.8;\" x=\"39.65\" xlink:href=\"#m44c6ffeea7\" y=\"41.199219\"/>\n      </g>\n     </g>\n     <g id=\"text_7\">\n      <!-- 200 -->\n      <g transform=\"translate(13.5625 44.998437)scale(0.1 -0.1)\">\n       <use xlink:href=\"#DejaVuSans-50\"/>\n       <use x=\"63.623047\" xlink:href=\"#DejaVuSans-48\"/>\n       <use x=\"127.246094\" xlink:href=\"#DejaVuSans-48\"/>\n      </g>\n     </g>\n    </g>\n    <g id=\"ytick_3\">\n     <g id=\"line2d_8\">\n      <g>\n       <use style=\"stroke:#000000;stroke-width:0.8;\" x=\"39.65\" xlink:href=\"#m44c6ffeea7\" y=\"71.399219\"/>\n      </g>\n     </g>\n     <g id=\"text_8\">\n      <!-- 400 -->\n      <g transform=\"translate(13.5625 75.198438)scale(0.1 -0.1)\">\n       <defs>\n        <path d=\"M 37.796875 64.3125 \nL 12.890625 25.390625 \nL 37.796875 25.390625 \nz\nM 35.203125 72.90625 \nL 47.609375 72.90625 \nL 47.609375 25.390625 \nL 58.015625 25.390625 \nL 58.015625 17.1875 \nL 47.609375 17.1875 \nL 47.609375 0 \nL 37.796875 0 \nL 37.796875 17.1875 \nL 4.890625 17.1875 \nL 4.890625 26.703125 \nz\n\" id=\"DejaVuSans-52\"/>\n       </defs>\n       <use xlink:href=\"#DejaVuSans-52\"/>\n       <use x=\"63.623047\" xlink:href=\"#DejaVuSans-48\"/>\n       <use x=\"127.246094\" xlink:href=\"#DejaVuSans-48\"/>\n      </g>\n     </g>\n    </g>\n    <g id=\"ytick_4\">\n     <g id=\"line2d_9\">\n      <g>\n       <use style=\"stroke:#000000;stroke-width:0.8;\" x=\"39.65\" xlink:href=\"#m44c6ffeea7\" y=\"101.599219\"/>\n      </g>\n     </g>\n     <g id=\"text_9\">\n      <!-- 600 -->\n      <g transform=\"translate(13.5625 105.398438)scale(0.1 -0.1)\">\n       <defs>\n        <path d=\"M 33.015625 40.375 \nQ 26.375 40.375 22.484375 35.828125 \nQ 18.609375 31.296875 18.609375 23.390625 \nQ 18.609375 15.53125 22.484375 10.953125 \nQ 26.375 6.390625 33.015625 6.390625 \nQ 39.65625 6.390625 43.53125 10.953125 \nQ 47.40625 15.53125 47.40625 23.390625 \nQ 47.40625 31.296875 43.53125 35.828125 \nQ 39.65625 40.375 33.015625 40.375 \nz\nM 52.59375 71.296875 \nL 52.59375 62.3125 \nQ 48.875 64.0625 45.09375 64.984375 \nQ 41.3125 65.921875 37.59375 65.921875 \nQ 27.828125 65.921875 22.671875 59.328125 \nQ 17.53125 52.734375 16.796875 39.40625 \nQ 19.671875 43.65625 24.015625 45.921875 \nQ 28.375 48.1875 33.59375 48.1875 \nQ 44.578125 48.1875 50.953125 41.515625 \nQ 57.328125 34.859375 57.328125 23.390625 \nQ 57.328125 12.15625 50.6875 5.359375 \nQ 44.046875 -1.421875 33.015625 -1.421875 \nQ 20.359375 -1.421875 13.671875 8.265625 \nQ 6.984375 17.96875 6.984375 36.375 \nQ 6.984375 53.65625 15.1875 63.9375 \nQ 23.390625 74.21875 37.203125 74.21875 \nQ 40.921875 74.21875 44.703125 73.484375 \nQ 48.484375 72.75 52.59375 71.296875 \nz\n\" id=\"DejaVuSans-54\"/>\n       </defs>\n       <use xlink:href=\"#DejaVuSans-54\"/>\n       <use x=\"63.623047\" xlink:href=\"#DejaVuSans-48\"/>\n       <use x=\"127.246094\" xlink:href=\"#DejaVuSans-48\"/>\n      </g>\n     </g>\n    </g>\n    <g id=\"ytick_5\">\n     <g id=\"line2d_10\">\n      <g>\n       <use style=\"stroke:#000000;stroke-width:0.8;\" x=\"39.65\" xlink:href=\"#m44c6ffeea7\" y=\"131.799219\"/>\n      </g>\n     </g>\n     <g id=\"text_10\">\n      <!-- 800 -->\n      <g transform=\"translate(13.5625 135.598437)scale(0.1 -0.1)\">\n       <defs>\n        <path d=\"M 31.78125 34.625 \nQ 24.75 34.625 20.71875 30.859375 \nQ 16.703125 27.09375 16.703125 20.515625 \nQ 16.703125 13.921875 20.71875 10.15625 \nQ 24.75 6.390625 31.78125 6.390625 \nQ 38.8125 6.390625 42.859375 10.171875 \nQ 46.921875 13.96875 46.921875 20.515625 \nQ 46.921875 27.09375 42.890625 30.859375 \nQ 38.875 34.625 31.78125 34.625 \nz\nM 21.921875 38.8125 \nQ 15.578125 40.375 12.03125 44.71875 \nQ 8.5 49.078125 8.5 55.328125 \nQ 8.5 64.0625 14.71875 69.140625 \nQ 20.953125 74.21875 31.78125 74.21875 \nQ 42.671875 74.21875 48.875 69.140625 \nQ 55.078125 64.0625 55.078125 55.328125 \nQ 55.078125 49.078125 51.53125 44.71875 \nQ 48 40.375 41.703125 38.8125 \nQ 48.828125 37.15625 52.796875 32.3125 \nQ 56.78125 27.484375 56.78125 20.515625 \nQ 56.78125 9.90625 50.3125 4.234375 \nQ 43.84375 -1.421875 31.78125 -1.421875 \nQ 19.734375 -1.421875 13.25 4.234375 \nQ 6.78125 9.90625 6.78125 20.515625 \nQ 6.78125 27.484375 10.78125 32.3125 \nQ 14.796875 37.15625 21.921875 38.8125 \nz\nM 18.3125 54.390625 \nQ 18.3125 48.734375 21.84375 45.5625 \nQ 25.390625 42.390625 31.78125 42.390625 \nQ 38.140625 42.390625 41.71875 45.5625 \nQ 45.3125 48.734375 45.3125 54.390625 \nQ 45.3125 60.0625 41.71875 63.234375 \nQ 38.140625 66.40625 31.78125 66.40625 \nQ 25.390625 66.40625 21.84375 63.234375 \nQ 18.3125 60.0625 18.3125 54.390625 \nz\n\" id=\"DejaVuSans-56\"/>\n       </defs>\n       <use xlink:href=\"#DejaVuSans-56\"/>\n       <use x=\"63.623047\" xlink:href=\"#DejaVuSans-48\"/>\n       <use x=\"127.246094\" xlink:href=\"#DejaVuSans-48\"/>\n      </g>\n     </g>\n    </g>\n    <g id=\"ytick_6\">\n     <g id=\"line2d_11\">\n      <g>\n       <use style=\"stroke:#000000;stroke-width:0.8;\" x=\"39.65\" xlink:href=\"#m44c6ffeea7\" y=\"161.999219\"/>\n      </g>\n     </g>\n     <g id=\"text_11\">\n      <!-- 1000 -->\n      <g transform=\"translate(7.2 165.798438)scale(0.1 -0.1)\">\n       <use xlink:href=\"#DejaVuSans-49\"/>\n       <use x=\"63.623047\" xlink:href=\"#DejaVuSans-48\"/>\n       <use x=\"127.246094\" xlink:href=\"#DejaVuSans-48\"/>\n       <use x=\"190.869141\" xlink:href=\"#DejaVuSans-48\"/>\n      </g>\n     </g>\n    </g>\n    <g id=\"ytick_7\">\n     <g id=\"line2d_12\">\n      <g>\n       <use style=\"stroke:#000000;stroke-width:0.8;\" x=\"39.65\" xlink:href=\"#m44c6ffeea7\" y=\"192.199219\"/>\n      </g>\n     </g>\n     <g id=\"text_12\">\n      <!-- 1200 -->\n      <g transform=\"translate(7.2 195.998437)scale(0.1 -0.1)\">\n       <use xlink:href=\"#DejaVuSans-49\"/>\n       <use x=\"63.623047\" xlink:href=\"#DejaVuSans-50\"/>\n       <use x=\"127.246094\" xlink:href=\"#DejaVuSans-48\"/>\n       <use x=\"190.869141\" xlink:href=\"#DejaVuSans-48\"/>\n      </g>\n     </g>\n    </g>\n    <g id=\"ytick_8\">\n     <g id=\"line2d_13\">\n      <g>\n       <use style=\"stroke:#000000;stroke-width:0.8;\" x=\"39.65\" xlink:href=\"#m44c6ffeea7\" y=\"222.399219\"/>\n      </g>\n     </g>\n     <g id=\"text_13\">\n      <!-- 1400 -->\n      <g transform=\"translate(7.2 226.198438)scale(0.1 -0.1)\">\n       <use xlink:href=\"#DejaVuSans-49\"/>\n       <use x=\"63.623047\" xlink:href=\"#DejaVuSans-52\"/>\n       <use x=\"127.246094\" xlink:href=\"#DejaVuSans-48\"/>\n       <use x=\"190.869141\" xlink:href=\"#DejaVuSans-48\"/>\n      </g>\n     </g>\n    </g>\n   </g>\n   <g id=\"patch_3\">\n    <path d=\"M 39.65 228.363719 \nL 39.65 10.923719 \n\" style=\"fill:none;stroke:#000000;stroke-linecap:square;stroke-linejoin:miter;stroke-width:0.8;\"/>\n   </g>\n   <g id=\"patch_4\">\n    <path d=\"M 202.73 228.363719 \nL 202.73 10.923719 \n\" style=\"fill:none;stroke:#000000;stroke-linecap:square;stroke-linejoin:miter;stroke-width:0.8;\"/>\n   </g>\n   <g id=\"patch_5\">\n    <path d=\"M 39.65 228.363719 \nL 202.73 228.363719 \n\" style=\"fill:none;stroke:#000000;stroke-linecap:square;stroke-linejoin:miter;stroke-width:0.8;\"/>\n   </g>\n   <g id=\"patch_6\">\n    <path d=\"M 39.65 10.923719 \nL 202.73 10.923719 \n\" style=\"fill:none;stroke:#000000;stroke-linecap:square;stroke-linejoin:miter;stroke-width:0.8;\"/>\n   </g>\n  </g>\n </g>\n <defs>\n  <clipPath id=\"pfe46b8e0fb\">\n   <rect height=\"217.44\" width=\"163.08\" x=\"39.65\" y=\"10.923719\"/>\n  </clipPath>\n </defs>\n</svg>\n",
      "image/png": "[encoded data removed]"
     },
     "metadata": {
      "needs_background": "light"
     }
    }
   ],
   "source": [
    "%matplotlib inline\n",
    "img = plt.imread(get_img_path(df.iloc[3677].image))\n",
    "plt.imshow(img)\n",
    "plt.show()"
   ]
  },
  {
   "cell_type": "code",
   "execution_count": 104,
   "metadata": {},
   "outputs": [],
   "source": [
    "# override any Null values\n",
    "df.at[87, 'usage'] = \"Casual\"\n",
    "df.at[92, 'usage'] = \"Travel\"\n",
    "df.at[292, 'usage'] = \"Casual\"\n",
    "df.at[479, 'usage'] = \"Smart Casual\"\n",
    "df.at[511, 'usage'] = \"Smart Casual\"\n",
    "df.at[559, 'usage'] = \"Casual\"\n",
    "df.at[699, 'usage'] = \"Travel\"\n",
    "df.at[899, 'usage'] = \"Smart Casual\"\n",
    "df.at[900, 'usage'] = \"Casual\"\n",
    "df.at[912, 'usage'] = \"Travel\"\n",
    "df.at[955, 'usage'] = \"Travel\"\n",
    "df.at[1166, 'usage'] = \"Smart Casual\"\n",
    "df.at[1184, 'usage'] = \"Formal\"\n",
    "df.at[1272, 'usage'] = \"Travel\"\n",
    "df.at[1286, 'usage'] = \"Casual\"\n",
    "df.at[1494, 'usage'] = \"Formal\"\n",
    "df.at[1529, 'usage'] = \"Casual\"\n",
    "df.at[1548, 'usage'] = \"Travel\"\n",
    "df.at[1799, 'usage'] = \"Ethnic\"\n",
    "df.at[1816, 'usage'] = \"Travel\"\n",
    "df.at[2088, 'usage'] = \"Formal\"\n",
    "df.at[2119, 'usage'] = \"Casual\"\n",
    "df.at[2587, 'usage'] = \"Casual\"\n",
    "df.at[2599, 'usage'] = \"Travel\"\n",
    "df.at[2604, 'usage'] = \"Formal\"\n",
    "df.at[2801, 'usage'] = \"Formal\"\n",
    "df.at[3220, 'usage'] = \"Travel\"\n",
    "df.at[3271, 'usage'] = \"Travel\"\n",
    "df.at[3307, 'usage'] = \"Casual\"\n",
    "df.at[3467, 'usage'] = \"Travel\"\n",
    "df.at[3472, 'usage'] = \"Casual\"\n",
    "df.at[3476, 'usage'] = \"Formal\"\n",
    "df.at[3537, 'usage'] = \"Casual\"\n",
    "df.at[3609, 'usage'] = \"Formal\"\n",
    "df.at[3677, 'usage'] = \"Formal\"\n",
    "df.at[3677, 'productDisplayName'] = \"Red Clutch\"\n",
    "df.at[3721, 'usage'] = \"Formal\"\n",
    "df.at[3795, 'usage'] = \"Travel\"\n",
    "df.at[3821, 'usage'] = \"Travel\"\n",
    "df.at[3843, 'usage'] = \"Travel\"\n",
    "df.at[4033, 'usage'] = \"Casual\"\n",
    "df.at[4053, 'usage'] = \"Travel\"\n",
    "df.at[4218, 'usage'] = \"Travel\"\n",
    "df.at[4234, 'usage'] = \"Casual\"\n",
    "df.at[4272, 'usage'] = \"Travel\"\n",
    "df.at[4639, 'usage'] = \"Travel\"\n",
    "df.at[4642, 'usage'] = \"Travel\"\n",
    "df.at[4657, 'usage'] = \"Formal\"\n",
    "df.at[4892, 'usage'] = \"Casual\"\n"
   ]
  },
  {
   "cell_type": "code",
   "execution_count": 115,
   "metadata": {},
   "outputs": [],
   "source": [
    "# Application of SVM to create the axis for a given feature\n",
    "X = df_embs\n",
    "y = df[\"season\"]\n",
    "scaler = StandardScaler()\n",
    "X_scaled = scaler.fit_transform(X)\n",
    "svm_clf = LinearSVC(C=1, max_iter=100000)\n",
    "decision_boundary = svm_clf.fit(X_scaled, y)"
   ]
  },
  {
   "cell_type": "code",
   "execution_count": 181,
   "metadata": {},
   "outputs": [],
   "source": [
    "dbxx, dbyy = calc_svm_decision_boundary(decision_boundary, -150, 150)"
   ]
  },
  {
   "cell_type": "code",
   "execution_count": 164,
   "metadata": {},
   "outputs": [],
   "source": [
    "df['x'] = df_embs_compressed[0]\n",
    "df['y'] = df_embs_compressed[1]"
   ]
  },
  {
   "cell_type": "code",
   "execution_count": 165,
   "metadata": {},
   "outputs": [],
   "source": [
    "def create_user_marker(x, y):\n",
    "    \"\"\"Creates and returns a user marker on a specific position\"\"\"\n",
    "    user_marker = plt.plot(x, y, 'yo', markersize=10)\n",
    "    user_position = np.array([x, y])\n",
    "    return user_marker, user_position"
   ]
  },
  {
   "cell_type": "code",
   "execution_count": 166,
   "metadata": {},
   "outputs": [],
   "source": [
    "def get_updated_user_pos(change):\n",
    "    \"\"\"\n",
    "    Computes the index of the element that is closest to the given change value in x0.\n",
    "    Returns the new user position.\n",
    "    \"\"\"\n",
    "    index = np.where(np.isclose(neg_decision_boundary, min(neg_decision_boundary, key=lambda x:abs(x-change))))\n",
    "    return neg_decision_boundary[index[0][0]], x0[index[0][0]]"
   ]
  },
  {
   "cell_type": "code",
   "execution_count": 167,
   "metadata": {},
   "outputs": [],
   "source": [
    "def update_user_position(change):\n",
    "    \"\"\"Update the user position after the slider value has changed\"\"\"\n",
    "    new_x, new_y = get_updated_user_pos(change.new)\n",
    "    user_marker[0].set_data(new_x, new_y)\n",
    "    new_user_pos = np.array([new_x, new_y])\n",
    "    nearest_neighbour, nearest_neighbour_pos = get_nearest_neighbour(new_user_pos, df)\n",
    "    annotate_nearest_neighbour(nearest_neighbour, nearest_neighbour_pos, ax, df)\n",
    "    plt.title('Nearest Embedding: {}'.format(nearest_neighbour))\n",
    "    fig.canvas.draw()\n",
    "    fig.canvas.flush_events()"
   ]
  },
  {
   "cell_type": "code",
   "execution_count": 174,
   "metadata": {},
   "outputs": [],
   "source": [
    "def calc_svm_decision_boundary(svm_clf, xmin, xmax):\n",
    "    \"\"\"Compute a decision boundary and ret\"\"\"\n",
    "    w = svm_clf.coef_[0]\n",
    "    a = svm_clf.intercept_[0]\n",
    "    xx = np.linspace(xmin, xmax)\n",
    "    yy = -w[0]/w[1] * xx - a/w[1]\n",
    "    return xx, yy"
   ]
  },
  {
   "cell_type": "code",
   "execution_count": 169,
   "metadata": {
    "tags": []
   },
   "outputs": [],
   "source": [
    "def get_nearest_neighbour(user_position, df):\n",
    "   nearest_neighbour = None\n",
    "   nearest_neighbour_pos = None\n",
    "   smallest_dist = sys.maxsize\n",
    "   for row in df.itertuples():\n",
    "      embedding_position = np.array([row.x, row.y])\n",
    "      dist = norm(user_position - embedding_position)\n",
    "      if dist < smallest_dist:\n",
    "         smallest_dist = dist\n",
    "         nearest_neighbour = row.id\n",
    "         nearest_neighbour_pos = embedding_position\n",
    "   return nearest_neighbour, nearest_neighbour_pos"
   ]
  },
  {
   "cell_type": "code",
   "execution_count": 170,
   "metadata": {},
   "outputs": [],
   "source": [
    "def highlight_nearest_neighbour(id, df):\n",
    "    x_nn = df.loc[df['id'] == id].x.values[0]\n",
    "    y_nn = df.loc[df['id'] == id].y.values[0]\n",
    "    plt.scatter(x=x_nn, y=y_nn, color='r')"
   ]
  },
  {
   "cell_type": "code",
   "execution_count": 171,
   "metadata": {},
   "outputs": [],
   "source": [
    "def annotate_nearest_neighbour(nearest_neighbour, nearest_neighbour_pos, ax, df):\n",
    "    if ax.artists != []:\n",
    "        ax.artists[0].remove()\n",
    "    arr_img = plt.imread(get_img_path(df.loc[df['id'] == nearest_neighbour].image.values[0]))\n",
    "    imagebox = OffsetImage(arr_img, zoom=0.025)\n",
    "    imagebox.image.axes = ax\n",
    "    ab = AnnotationBbox(imagebox, nearest_neighbour_pos, xybox=(-20, 40), xycoords='data', boxcoords=\"offset points\", arrowprops=dict(arrowstyle=\"->\"))\n",
    "    ax.add_artist(ab)"
   ]
  },
  {
   "cell_type": "code",
   "execution_count": 172,
   "metadata": {},
   "outputs": [
    {
     "output_type": "execute_result",
     "data": {
      "text/plain": [
       "         id gender masterCategory subCategory articleType baseColour  season  \\\n",
       "1334  45097  Women        Apparel   Innerwear         Bra       Pink  Winter   \n",
       "\n",
       "      year   usage    productDisplayName      image         x         y  \n",
       "1334  2015  Casual  Bwitch Pink Ruby Bra  45097.jpg -5.391746 -2.187279  "
      ],
      "text/html": "<div>\n<style scoped>\n    .dataframe tbody tr th:only-of-type {\n        vertical-align: middle;\n    }\n\n    .dataframe tbody tr th {\n        vertical-align: top;\n    }\n\n    .dataframe thead th {\n        text-align: right;\n    }\n</style>\n<table border=\"1\" class=\"dataframe\">\n  <thead>\n    <tr style=\"text-align: right;\">\n      <th></th>\n      <th>id</th>\n      <th>gender</th>\n      <th>masterCategory</th>\n      <th>subCategory</th>\n      <th>articleType</th>\n      <th>baseColour</th>\n      <th>season</th>\n      <th>year</th>\n      <th>usage</th>\n      <th>productDisplayName</th>\n      <th>image</th>\n      <th>x</th>\n      <th>y</th>\n    </tr>\n  </thead>\n  <tbody>\n    <tr>\n      <th>1334</th>\n      <td>45097</td>\n      <td>Women</td>\n      <td>Apparel</td>\n      <td>Innerwear</td>\n      <td>Bra</td>\n      <td>Pink</td>\n      <td>Winter</td>\n      <td>2015</td>\n      <td>Casual</td>\n      <td>Bwitch Pink Ruby Bra</td>\n      <td>45097.jpg</td>\n      <td>-5.391746</td>\n      <td>-2.187279</td>\n    </tr>\n  </tbody>\n</table>\n</div>"
     },
     "metadata": {},
     "execution_count": 172
    }
   ],
   "source": [
    "df.loc[df['id'] == 45097]"
   ]
  },
  {
   "cell_type": "code",
   "execution_count": 178,
   "metadata": {},
   "outputs": [],
   "source": [
    "plt.plot(dbxx, dbyy, \"k-\")\n",
    "plt.show()"
   ]
  },
  {
   "cell_type": "code",
   "execution_count": 203,
   "metadata": {
    "tags": []
   },
   "outputs": [
    {
     "output_type": "display_data",
     "data": {
      "text/plain": "AppLayout(children=(FloatSlider(value=101.0204081632653, description='Position:', layout=Layout(grid_area='foo…",
      "application/vnd.jupyter.widget-view+json": {
       "version_major": 2,
       "version_minor": 0,
       "model_id": "2addfafe0eca4a8a9a6a2592b5aed4e1"
      }
     },
     "metadata": {}
    }
   ],
   "source": [
    "from ipywidgets import AppLayout, FloatSlider\n",
    "from matplotlib.offsetbox import (AnnotationBbox, OffsetImage, TextArea)\n",
    "\n",
    "plt.ioff()\n",
    "\n",
    "fig, ax = plt.subplots(figsize=(12,7))\n",
    "fig.canvas.header_visible = False\n",
    "fig.canvas.layout.min_height = '400px'\n",
    "sns.scatterplot(x=\"x\", y=\"y\",\n",
    "                  hue=\"masterCategory\", # can be replaced with `subCategory` to see more details\n",
    "                  data=df,\n",
    "                  legend=\"full\",\n",
    "                  alpha=0.8)\n",
    "\n",
    "\n",
    "#neg_decision_boundary = np.negative(decision_boundary)\n",
    "\n",
    "plt.plot(dbxx, dbyy, \"k-\", linewidth=2)\n",
    "#plt.plot(neg_decision_boundary, x0, \"k-\", linewidth=2)\n",
    "\n",
    "rand_idx = random.choice(range(len(dbxx)))\n",
    "x = dbxx[rand_idx]\n",
    "y = dbyy[rand_idx]\n",
    "user_marker, user_positon = create_user_marker(x, y)\n",
    "\n",
    "nearest_neighbour, nearest_neighbour_pos = get_nearest_neighbour(user_positon, df)\n",
    "annotate_nearest_neighbour(nearest_neighbour, nearest_neighbour_pos, ax, df)\n",
    "\n",
    "plt.title('Nearest Embedding: {}'.format(nearest_neighbour))\n",
    "\n",
    "# Create Slider to interact with the plot\n",
    "slider = FloatSlider(\n",
    "    orientation=\"horizontal\",\n",
    "    description=\"Position:\",\n",
    "    value=user_positon[0],\n",
    "    min=min(dbxx),\n",
    "    max=max(dbxx)\n",
    ")\n",
    "slider.layout.margin = '0px 30% 0px 30%'\n",
    "slider.layout.width = '40%'\n",
    "\n",
    "slider.observe(update_user_position, names='value')\n",
    "\n",
    "AppLayout(\n",
    "    center=fig.canvas,\n",
    "    footer=slider,\n",
    "    pane_heights=[0, 6, 1]\n",
    ")"
   ]
  },
  {
   "cell_type": "code",
   "execution_count": null,
   "metadata": {},
   "outputs": [],
   "source": []
  }
 ]
}