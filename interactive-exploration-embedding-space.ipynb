{
 "metadata": {
  "language_info": {
   "codemirror_mode": {
    "name": "ipython",
    "version": 3
   },
   "file_extension": ".py",
   "mimetype": "text/x-python",
   "name": "python",
   "nbconvert_exporter": "python",
   "pygments_lexer": "ipython3",
   "version": "3.8.7"
  },
  "orig_nbformat": 2,
  "kernelspec": {
   "name": "python3",
   "display_name": "Python 3",
   "language": "python"
  }
 },
 "nbformat": 4,
 "nbformat_minor": 2,
 "cells": [
  {
   "cell_type": "code",
   "execution_count": 29,
   "metadata": {},
   "outputs": [],
   "source": [
    "%matplotlib widget\n",
    "\n",
    "import tensorflow as tf\n",
    "import os\n",
    "import sys\n",
    "import cv2\n",
    "import pickle\n",
    "import numpy as np\n",
    "import pandas as pd\n",
    "import matplotlib.pyplot as plt\n",
    "import matplotlib.image as mpimg\n",
    "import seaborn as sns\n",
    "import random\n",
    "\n",
    "from tensorflow import keras\n",
    "from tensorflow.keras.preprocessing import image\n",
    "from tensorflow.keras.applications.resnet50 import ResNet50, preprocess_input\n",
    "from tensorflow.keras.layers import GlobalMaxPooling2D\n",
    "from numpy.linalg import norm\n",
    "from sklearn.decomposition import PCA\n",
    "from sklearn.manifold import TSNE\n",
    "from sklearn.neighbors import RadiusNeighborsClassifier\n",
    "from sklearn.pipeline import Pipeline\n",
    "from sklearn.preprocessing import StandardScaler\n",
    "from sklearn.svm import LinearSVC\n",
    "from matplotlib.transforms import Affine2D"
   ]
  },
  {
   "cell_type": "code",
   "execution_count": 2,
   "metadata": {},
   "outputs": [
    {
     "output_type": "stream",
     "name": "stdout",
     "text": [
      "['embeddings.tsv', '.DS_Store', 'images.csv', 'images', 'styles', 'styles.csv', '.ipynb_checkpoints', 'embeddings.csv', 'resnet50-embeddings.pkl']\n"
     ]
    }
   ],
   "source": [
    "DATASET_PATH = \"/Users/jeremy/Google Drive/datasets/fashion-dataset/\"\n",
    "print(os.listdir(DATASET_PATH))"
   ]
  },
  {
   "cell_type": "code",
   "execution_count": 3,
   "metadata": {},
   "outputs": [
    {
     "output_type": "execute_result",
     "data": {
      "text/plain": [
       "      id gender masterCategory subCategory  articleType baseColour  season  \\\n",
       "0  15970    Men        Apparel     Topwear       Shirts  Navy Blue    Fall   \n",
       "1  39386    Men        Apparel  Bottomwear        Jeans       Blue  Summer   \n",
       "2  59263  Women    Accessories     Watches      Watches     Silver  Winter   \n",
       "3  21379    Men        Apparel  Bottomwear  Track Pants      Black    Fall   \n",
       "4  53759    Men        Apparel     Topwear      Tshirts       Grey  Summer   \n",
       "5   1855    Men        Apparel     Topwear      Tshirts       Grey  Summer   \n",
       "6  30805    Men        Apparel     Topwear       Shirts      Green  Summer   \n",
       "7  26960  Women        Apparel     Topwear       Shirts     Purple  Summer   \n",
       "8  29114    Men    Accessories       Socks        Socks  Navy Blue  Summer   \n",
       "9  30039    Men    Accessories     Watches      Watches      Black  Winter   \n",
       "\n",
       "   year   usage                             productDisplayName      image  \n",
       "0  2011  Casual               Turtle Check Men Navy Blue Shirt  15970.jpg  \n",
       "1  2012  Casual             Peter England Men Party Blue Jeans  39386.jpg  \n",
       "2  2016  Casual                       Titan Women Silver Watch  59263.jpg  \n",
       "3  2011  Casual  Manchester United Men Solid Black Track Pants  21379.jpg  \n",
       "4  2012  Casual                          Puma Men Grey T-shirt  53759.jpg  \n",
       "5  2011  Casual           Inkfruit Mens Chain Reaction T-shirt   1855.jpg  \n",
       "6  2012  Ethnic               Fabindia Men Striped Green Shirt  30805.jpg  \n",
       "7  2012  Casual                  Jealous 21 Women Purple Shirt  26960.jpg  \n",
       "8  2012  Casual                       Puma Men Pack of 3 Socks  29114.jpg  \n",
       "9  2016  Casual                         Skagen Men Black Watch  30039.jpg  "
      ],
      "text/html": "<div>\n<style scoped>\n    .dataframe tbody tr th:only-of-type {\n        vertical-align: middle;\n    }\n\n    .dataframe tbody tr th {\n        vertical-align: top;\n    }\n\n    .dataframe thead th {\n        text-align: right;\n    }\n</style>\n<table border=\"1\" class=\"dataframe\">\n  <thead>\n    <tr style=\"text-align: right;\">\n      <th></th>\n      <th>id</th>\n      <th>gender</th>\n      <th>masterCategory</th>\n      <th>subCategory</th>\n      <th>articleType</th>\n      <th>baseColour</th>\n      <th>season</th>\n      <th>year</th>\n      <th>usage</th>\n      <th>productDisplayName</th>\n      <th>image</th>\n    </tr>\n  </thead>\n  <tbody>\n    <tr>\n      <th>0</th>\n      <td>15970</td>\n      <td>Men</td>\n      <td>Apparel</td>\n      <td>Topwear</td>\n      <td>Shirts</td>\n      <td>Navy Blue</td>\n      <td>Fall</td>\n      <td>2011</td>\n      <td>Casual</td>\n      <td>Turtle Check Men Navy Blue Shirt</td>\n      <td>15970.jpg</td>\n    </tr>\n    <tr>\n      <th>1</th>\n      <td>39386</td>\n      <td>Men</td>\n      <td>Apparel</td>\n      <td>Bottomwear</td>\n      <td>Jeans</td>\n      <td>Blue</td>\n      <td>Summer</td>\n      <td>2012</td>\n      <td>Casual</td>\n      <td>Peter England Men Party Blue Jeans</td>\n      <td>39386.jpg</td>\n    </tr>\n    <tr>\n      <th>2</th>\n      <td>59263</td>\n      <td>Women</td>\n      <td>Accessories</td>\n      <td>Watches</td>\n      <td>Watches</td>\n      <td>Silver</td>\n      <td>Winter</td>\n      <td>2016</td>\n      <td>Casual</td>\n      <td>Titan Women Silver Watch</td>\n      <td>59263.jpg</td>\n    </tr>\n    <tr>\n      <th>3</th>\n      <td>21379</td>\n      <td>Men</td>\n      <td>Apparel</td>\n      <td>Bottomwear</td>\n      <td>Track Pants</td>\n      <td>Black</td>\n      <td>Fall</td>\n      <td>2011</td>\n      <td>Casual</td>\n      <td>Manchester United Men Solid Black Track Pants</td>\n      <td>21379.jpg</td>\n    </tr>\n    <tr>\n      <th>4</th>\n      <td>53759</td>\n      <td>Men</td>\n      <td>Apparel</td>\n      <td>Topwear</td>\n      <td>Tshirts</td>\n      <td>Grey</td>\n      <td>Summer</td>\n      <td>2012</td>\n      <td>Casual</td>\n      <td>Puma Men Grey T-shirt</td>\n      <td>53759.jpg</td>\n    </tr>\n    <tr>\n      <th>5</th>\n      <td>1855</td>\n      <td>Men</td>\n      <td>Apparel</td>\n      <td>Topwear</td>\n      <td>Tshirts</td>\n      <td>Grey</td>\n      <td>Summer</td>\n      <td>2011</td>\n      <td>Casual</td>\n      <td>Inkfruit Mens Chain Reaction T-shirt</td>\n      <td>1855.jpg</td>\n    </tr>\n    <tr>\n      <th>6</th>\n      <td>30805</td>\n      <td>Men</td>\n      <td>Apparel</td>\n      <td>Topwear</td>\n      <td>Shirts</td>\n      <td>Green</td>\n      <td>Summer</td>\n      <td>2012</td>\n      <td>Ethnic</td>\n      <td>Fabindia Men Striped Green Shirt</td>\n      <td>30805.jpg</td>\n    </tr>\n    <tr>\n      <th>7</th>\n      <td>26960</td>\n      <td>Women</td>\n      <td>Apparel</td>\n      <td>Topwear</td>\n      <td>Shirts</td>\n      <td>Purple</td>\n      <td>Summer</td>\n      <td>2012</td>\n      <td>Casual</td>\n      <td>Jealous 21 Women Purple Shirt</td>\n      <td>26960.jpg</td>\n    </tr>\n    <tr>\n      <th>8</th>\n      <td>29114</td>\n      <td>Men</td>\n      <td>Accessories</td>\n      <td>Socks</td>\n      <td>Socks</td>\n      <td>Navy Blue</td>\n      <td>Summer</td>\n      <td>2012</td>\n      <td>Casual</td>\n      <td>Puma Men Pack of 3 Socks</td>\n      <td>29114.jpg</td>\n    </tr>\n    <tr>\n      <th>9</th>\n      <td>30039</td>\n      <td>Men</td>\n      <td>Accessories</td>\n      <td>Watches</td>\n      <td>Watches</td>\n      <td>Black</td>\n      <td>Winter</td>\n      <td>2016</td>\n      <td>Casual</td>\n      <td>Skagen Men Black Watch</td>\n      <td>30039.jpg</td>\n    </tr>\n  </tbody>\n</table>\n</div>"
     },
     "metadata": {},
     "execution_count": 3
    }
   ],
   "source": [
    "df = pd.read_csv(DATASET_PATH + \"styles.csv\", nrows=5000, error_bad_lines=False)\n",
    "df['image'] = df.apply(lambda row: str(row['id']) + \".jpg\", axis=1)\n",
    "df = df.reset_index(drop=True)\n",
    "df.head(10)"
   ]
  },
  {
   "cell_type": "code",
   "execution_count": 4,
   "metadata": {},
   "outputs": [
    {
     "output_type": "stream",
     "name": "stdout",
     "text": [
      "Model: \"sequential\"\n_________________________________________________________________\nLayer (type)                 Output Shape              Param #   \n=================================================================\nresnet50 (Functional)        (None, 7, 7, 2048)        23587712  \n_________________________________________________________________\nglobal_max_pooling2d (Global (None, 2048)              0         \n=================================================================\nTotal params: 23,587,712\nTrainable params: 23,534,592\nNon-trainable params: 53,120\n_________________________________________________________________\n"
     ]
    }
   ],
   "source": [
    "# Load ResNet-50 model pretrained on Imagenet without the classifying layers on top.\n",
    "base_model = ResNet50(weights='imagenet', include_top=False, input_shape=(224, 224, 3))\n",
    "\n",
    "# Add Global Max Pooling layer on top\n",
    "model = keras.Sequential([\n",
    "    base_model,\n",
    "    GlobalMaxPooling2D()\n",
    "])\n",
    "\n",
    "model.summary()"
   ]
  },
  {
   "cell_type": "code",
   "execution_count": 4,
   "metadata": {},
   "outputs": [],
   "source": [
    "def get_img_path(img):\n",
    "  return DATASET_PATH + \"images/\" + img"
   ]
  },
  {
   "cell_type": "code",
   "execution_count": 5,
   "metadata": {},
   "outputs": [],
   "source": [
    "def extract_embeddings(img_name, model):\n",
    "  input_shape = (224, 224, 3)\n",
    "  img = image.load_img(get_img_path(img_name), target_size=(input_shape[0], input_shape[1]))\n",
    "  img_array = image.img_to_array(img)\n",
    "  expanded_img_array = np.expand_dims(img_array, axis=0)\n",
    "  preprocessed_img = preprocess_input(expanded_img_array)\n",
    "  embeddings = model.predict(preprocessed_img)\n",
    "  return embeddings.reshape(-1)"
   ]
  },
  {
   "cell_type": "code",
   "execution_count": 6,
   "metadata": {},
   "outputs": [
    {
     "output_type": "error",
     "ename": "NameError",
     "evalue": "name 'model' is not defined",
     "traceback": [
      "\u001b[0;31m---------------------------------------------------------------------------\u001b[0m",
      "\u001b[0;31mNameError\u001b[0m                                 Traceback (most recent call last)",
      "\u001b[0;32m<ipython-input-6-6ffe523cac93>\u001b[0m in \u001b[0;36m<module>\u001b[0;34m\u001b[0m\n\u001b[0;32m----> 1\u001b[0;31m \u001b[0memb\u001b[0m \u001b[0;34m=\u001b[0m \u001b[0mextract_embeddings\u001b[0m\u001b[0;34m(\u001b[0m\u001b[0mdf\u001b[0m\u001b[0;34m.\u001b[0m\u001b[0miloc\u001b[0m\u001b[0;34m[\u001b[0m\u001b[0;36m0\u001b[0m\u001b[0;34m]\u001b[0m\u001b[0;34m.\u001b[0m\u001b[0mimage\u001b[0m\u001b[0;34m,\u001b[0m \u001b[0mmodel\u001b[0m\u001b[0;34m)\u001b[0m\u001b[0;34m\u001b[0m\u001b[0;34m\u001b[0m\u001b[0m\n\u001b[0m\u001b[1;32m      2\u001b[0m \u001b[0memb\u001b[0m\u001b[0;34m.\u001b[0m\u001b[0mshape\u001b[0m\u001b[0;34m\u001b[0m\u001b[0;34m\u001b[0m\u001b[0m\n",
      "\u001b[0;31mNameError\u001b[0m: name 'model' is not defined"
     ]
    }
   ],
   "source": [
    "emb = extract_embeddings(df.iloc[0].image, model)\n",
    "emb.shape"
   ]
  },
  {
   "cell_type": "code",
   "execution_count": 84,
   "metadata": {},
   "outputs": [
    {
     "output_type": "display_data",
     "data": {
      "text/plain": "Canvas(toolbar=Toolbar(toolitems=[('Home', 'Reset original view', 'home', 'home'), ('Back', 'Back to previous …",
      "application/vnd.jupyter.widget-view+json": {
       "version_major": 2,
       "version_minor": 0,
       "model_id": "826fd4542d3b46e88d977bc0a90ca4d0"
      }
     },
     "metadata": {}
    },
    {
     "output_type": "stream",
     "name": "stdout",
     "text": [
      "(1440, 1080, 3)\n"
     ]
    },
    {
     "output_type": "error",
     "ename": "NameError",
     "evalue": "name 'emb' is not defined",
     "traceback": [
      "\u001b[0;31m---------------------------------------------------------------------------\u001b[0m",
      "\u001b[0;31mNameError\u001b[0m                                 Traceback (most recent call last)",
      "\u001b[0;32m<ipython-input-84-21441b94d19e>\u001b[0m in \u001b[0;36m<module>\u001b[0;34m\u001b[0m\n\u001b[1;32m      2\u001b[0m \u001b[0mplt\u001b[0m\u001b[0;34m.\u001b[0m\u001b[0mimshow\u001b[0m\u001b[0;34m(\u001b[0m\u001b[0mcv2\u001b[0m\u001b[0;34m.\u001b[0m\u001b[0mcvtColor\u001b[0m\u001b[0;34m(\u001b[0m\u001b[0mimg_array\u001b[0m\u001b[0;34m,\u001b[0m \u001b[0mcv2\u001b[0m\u001b[0;34m.\u001b[0m\u001b[0mCOLOR_BGR2RGB\u001b[0m\u001b[0;34m)\u001b[0m\u001b[0;34m)\u001b[0m\u001b[0;34m\u001b[0m\u001b[0;34m\u001b[0m\u001b[0m\n\u001b[1;32m      3\u001b[0m \u001b[0mprint\u001b[0m\u001b[0;34m(\u001b[0m\u001b[0mimg_array\u001b[0m\u001b[0;34m.\u001b[0m\u001b[0mshape\u001b[0m\u001b[0;34m)\u001b[0m\u001b[0;34m\u001b[0m\u001b[0;34m\u001b[0m\u001b[0m\n\u001b[0;32m----> 4\u001b[0;31m \u001b[0mprint\u001b[0m\u001b[0;34m(\u001b[0m\u001b[0memb\u001b[0m\u001b[0;34m)\u001b[0m\u001b[0;34m\u001b[0m\u001b[0;34m\u001b[0m\u001b[0m\n\u001b[0m",
      "\u001b[0;31mNameError\u001b[0m: name 'emb' is not defined"
     ]
    }
   ],
   "source": [
    "img_array = cv2.imread(get_img_path(df.iloc[282].image))\n",
    "plt.imshow(cv2.cvtColor(img_array, cv2.COLOR_BGR2RGB))\n",
    "print(img_array.shape)\n",
    "print(emb)"
   ]
  },
  {
   "cell_type": "code",
   "execution_count": null,
   "metadata": {},
   "outputs": [],
   "source": [
    "# Create embeddings and store them into dataframe\n",
    "df_sample      = df#.sample(10)\n",
    "map_embeddings = df_sample['image'].apply(lambda img: extract_embeddings(img, model))\n",
    "df_embs        = map_embeddings.apply(pd.Series)"
   ]
  },
  {
   "cell_type": "code",
   "execution_count": null,
   "metadata": {},
   "outputs": [],
   "source": [
    "# Serialize dataframe to pickle file\n",
    "df_embs.to_pickle(DATASET_PATH + \"resnet50-embeddings.pkl\")"
   ]
  },
  {
   "cell_type": "code",
   "execution_count": 7,
   "metadata": {},
   "outputs": [],
   "source": [
    "df_embs = pickle.load(open(DATASET_PATH + \"resnet50-embeddings.pkl\", \"rb\"))"
   ]
  },
  {
   "cell_type": "code",
   "execution_count": 8,
   "metadata": {},
   "outputs": [],
   "source": [
    "# Perform PCA over the embeddings to reduce dimensionality before applying t-sne\n",
    "num_feature_dimensions = 100  # Set the number of embedding dimensions\n",
    "pca = PCA(n_components = num_feature_dimensions)\n",
    "pca.fit(df_embs)\n",
    "embs_compressed = pca.transform(df_embs)\n",
    "df_embs_compressed = pd.DataFrame(embs_compressed)"
   ]
  },
  {
   "cell_type": "code",
   "execution_count": 9,
   "metadata": {},
   "outputs": [
    {
     "output_type": "execute_result",
     "data": {
      "text/plain": [
       "       0          1         2          3         4         5          6     \\\n",
       "0  5.661316   2.366165  0.000000   3.255730  0.845208  2.673841   8.780870   \n",
       "1  5.790417   9.593648  0.000000   9.431670  0.287235  0.259945  17.028748   \n",
       "2  0.000000   3.162254  0.484691   0.172299  2.609548  3.840852   3.426139   \n",
       "3  5.882203   1.958606  0.000000  12.519882  0.000000  0.000000   9.383594   \n",
       "4  0.245968  17.383430  0.493824   3.374468  2.567368  0.000000   6.482537   \n",
       "\n",
       "       7         8         9     ...       2038       2039       2040  \\\n",
       "0  6.280786  0.787188  1.587657  ...   2.463610   0.000000   1.825994   \n",
       "1  3.037453  0.136341  0.000000  ...   1.670570   0.013891  10.338681   \n",
       "2  0.253253  1.098907  1.418282  ...   0.434926  14.092834   3.018744   \n",
       "3  3.781614  0.000000  1.490617  ...  17.825478   0.000000   3.592507   \n",
       "4  5.862639  0.000000  3.164866  ...   4.464024   0.447075   1.448143   \n",
       "\n",
       "        2041      2042      2043      2044      2045       2046       2047  \n",
       "0  20.485268  3.902863  0.000000  8.225969  1.313863   0.000000  10.820526  \n",
       "1   4.784722  0.189140  0.000000  7.739144  0.372693   0.000000   8.903802  \n",
       "2   2.134506  2.549062  0.377385  6.180348  0.636620  14.018165  11.415048  \n",
       "3   2.042305  0.000000  0.000000  6.656779  1.457314   1.694204   1.403327  \n",
       "4  12.884138  0.000000  0.397501  5.028075  1.939697   0.000000  11.485400  \n",
       "\n",
       "[5 rows x 2048 columns]"
      ],
      "text/html": "<div>\n<style scoped>\n    .dataframe tbody tr th:only-of-type {\n        vertical-align: middle;\n    }\n\n    .dataframe tbody tr th {\n        vertical-align: top;\n    }\n\n    .dataframe thead th {\n        text-align: right;\n    }\n</style>\n<table border=\"1\" class=\"dataframe\">\n  <thead>\n    <tr style=\"text-align: right;\">\n      <th></th>\n      <th>0</th>\n      <th>1</th>\n      <th>2</th>\n      <th>3</th>\n      <th>4</th>\n      <th>5</th>\n      <th>6</th>\n      <th>7</th>\n      <th>8</th>\n      <th>9</th>\n      <th>...</th>\n      <th>2038</th>\n      <th>2039</th>\n      <th>2040</th>\n      <th>2041</th>\n      <th>2042</th>\n      <th>2043</th>\n      <th>2044</th>\n      <th>2045</th>\n      <th>2046</th>\n      <th>2047</th>\n    </tr>\n  </thead>\n  <tbody>\n    <tr>\n      <th>0</th>\n      <td>5.661316</td>\n      <td>2.366165</td>\n      <td>0.000000</td>\n      <td>3.255730</td>\n      <td>0.845208</td>\n      <td>2.673841</td>\n      <td>8.780870</td>\n      <td>6.280786</td>\n      <td>0.787188</td>\n      <td>1.587657</td>\n      <td>...</td>\n      <td>2.463610</td>\n      <td>0.000000</td>\n      <td>1.825994</td>\n      <td>20.485268</td>\n      <td>3.902863</td>\n      <td>0.000000</td>\n      <td>8.225969</td>\n      <td>1.313863</td>\n      <td>0.000000</td>\n      <td>10.820526</td>\n    </tr>\n    <tr>\n      <th>1</th>\n      <td>5.790417</td>\n      <td>9.593648</td>\n      <td>0.000000</td>\n      <td>9.431670</td>\n      <td>0.287235</td>\n      <td>0.259945</td>\n      <td>17.028748</td>\n      <td>3.037453</td>\n      <td>0.136341</td>\n      <td>0.000000</td>\n      <td>...</td>\n      <td>1.670570</td>\n      <td>0.013891</td>\n      <td>10.338681</td>\n      <td>4.784722</td>\n      <td>0.189140</td>\n      <td>0.000000</td>\n      <td>7.739144</td>\n      <td>0.372693</td>\n      <td>0.000000</td>\n      <td>8.903802</td>\n    </tr>\n    <tr>\n      <th>2</th>\n      <td>0.000000</td>\n      <td>3.162254</td>\n      <td>0.484691</td>\n      <td>0.172299</td>\n      <td>2.609548</td>\n      <td>3.840852</td>\n      <td>3.426139</td>\n      <td>0.253253</td>\n      <td>1.098907</td>\n      <td>1.418282</td>\n      <td>...</td>\n      <td>0.434926</td>\n      <td>14.092834</td>\n      <td>3.018744</td>\n      <td>2.134506</td>\n      <td>2.549062</td>\n      <td>0.377385</td>\n      <td>6.180348</td>\n      <td>0.636620</td>\n      <td>14.018165</td>\n      <td>11.415048</td>\n    </tr>\n    <tr>\n      <th>3</th>\n      <td>5.882203</td>\n      <td>1.958606</td>\n      <td>0.000000</td>\n      <td>12.519882</td>\n      <td>0.000000</td>\n      <td>0.000000</td>\n      <td>9.383594</td>\n      <td>3.781614</td>\n      <td>0.000000</td>\n      <td>1.490617</td>\n      <td>...</td>\n      <td>17.825478</td>\n      <td>0.000000</td>\n      <td>3.592507</td>\n      <td>2.042305</td>\n      <td>0.000000</td>\n      <td>0.000000</td>\n      <td>6.656779</td>\n      <td>1.457314</td>\n      <td>1.694204</td>\n      <td>1.403327</td>\n    </tr>\n    <tr>\n      <th>4</th>\n      <td>0.245968</td>\n      <td>17.383430</td>\n      <td>0.493824</td>\n      <td>3.374468</td>\n      <td>2.567368</td>\n      <td>0.000000</td>\n      <td>6.482537</td>\n      <td>5.862639</td>\n      <td>0.000000</td>\n      <td>3.164866</td>\n      <td>...</td>\n      <td>4.464024</td>\n      <td>0.447075</td>\n      <td>1.448143</td>\n      <td>12.884138</td>\n      <td>0.000000</td>\n      <td>0.397501</td>\n      <td>5.028075</td>\n      <td>1.939697</td>\n      <td>0.000000</td>\n      <td>11.485400</td>\n    </tr>\n  </tbody>\n</table>\n<p>5 rows × 2048 columns</p>\n</div>"
     },
     "metadata": {},
     "execution_count": 9
    }
   ],
   "source": [
    "df_embs.head()"
   ]
  },
  {
   "cell_type": "code",
   "execution_count": 10,
   "metadata": {},
   "outputs": [
    {
     "output_type": "execute_result",
     "data": {
      "text/plain": [
       "           0           1          2          3          4          5   \\\n",
       "0 -106.875046  -38.914074   0.338582  19.187395  14.934464 -24.085024   \n",
       "1  -97.877411  -42.474045  -8.299131 -21.014048  30.329428 -65.437843   \n",
       "2   24.955404  105.210358 -22.967981  69.645844  26.989948  -7.557901   \n",
       "3  -83.753212  -23.995602 -13.961559 -31.153425  28.798018 -46.638378   \n",
       "4 -106.195831  -32.474899 -13.414521  -0.511944  15.809506 -40.975006   \n",
       "\n",
       "          6          7          8          9   ...        90         91  \\\n",
       "0  -7.463277   3.361361  21.677273  -9.196501  ... -4.935802  -3.492597   \n",
       "1  18.467657  12.433277  29.025568  13.179996  ... -1.049231  -2.270698   \n",
       "2  29.480839 -29.776258   9.603676 -11.335986  ... -4.506676 -18.668793   \n",
       "3   9.314528  17.460184  31.331852  24.376375  ... -8.204684  -0.076949   \n",
       "4   8.317045   5.499529 -25.244246 -11.114835  ... -7.739303  -3.897014   \n",
       "\n",
       "         92        93         94        95        96         97         98  \\\n",
       "0  1.087426  5.433308  -2.735466  3.725077 -4.117372   8.961282  -3.351471   \n",
       "1  1.340682 -5.577066  -4.509120 -0.286678  7.625178   3.698329  -1.713583   \n",
       "2 -1.617678 -0.429638   3.474796  7.511673  8.463451  -7.963994  12.004653   \n",
       "3  7.707277 -4.246420 -10.643489 -3.513170 -4.615512  11.233521  -7.770840   \n",
       "4 -8.306621  8.673738  14.432875 -0.803122  4.329744   4.906906  -0.724789   \n",
       "\n",
       "          99  \n",
       "0  -4.428134  \n",
       "1  10.618638  \n",
       "2   2.734360  \n",
       "3  10.897155  \n",
       "4   0.433563  \n",
       "\n",
       "[5 rows x 100 columns]"
      ],
      "text/html": "<div>\n<style scoped>\n    .dataframe tbody tr th:only-of-type {\n        vertical-align: middle;\n    }\n\n    .dataframe tbody tr th {\n        vertical-align: top;\n    }\n\n    .dataframe thead th {\n        text-align: right;\n    }\n</style>\n<table border=\"1\" class=\"dataframe\">\n  <thead>\n    <tr style=\"text-align: right;\">\n      <th></th>\n      <th>0</th>\n      <th>1</th>\n      <th>2</th>\n      <th>3</th>\n      <th>4</th>\n      <th>5</th>\n      <th>6</th>\n      <th>7</th>\n      <th>8</th>\n      <th>9</th>\n      <th>...</th>\n      <th>90</th>\n      <th>91</th>\n      <th>92</th>\n      <th>93</th>\n      <th>94</th>\n      <th>95</th>\n      <th>96</th>\n      <th>97</th>\n      <th>98</th>\n      <th>99</th>\n    </tr>\n  </thead>\n  <tbody>\n    <tr>\n      <th>0</th>\n      <td>-106.875046</td>\n      <td>-38.914074</td>\n      <td>0.338582</td>\n      <td>19.187395</td>\n      <td>14.934464</td>\n      <td>-24.085024</td>\n      <td>-7.463277</td>\n      <td>3.361361</td>\n      <td>21.677273</td>\n      <td>-9.196501</td>\n      <td>...</td>\n      <td>-4.935802</td>\n      <td>-3.492597</td>\n      <td>1.087426</td>\n      <td>5.433308</td>\n      <td>-2.735466</td>\n      <td>3.725077</td>\n      <td>-4.117372</td>\n      <td>8.961282</td>\n      <td>-3.351471</td>\n      <td>-4.428134</td>\n    </tr>\n    <tr>\n      <th>1</th>\n      <td>-97.877411</td>\n      <td>-42.474045</td>\n      <td>-8.299131</td>\n      <td>-21.014048</td>\n      <td>30.329428</td>\n      <td>-65.437843</td>\n      <td>18.467657</td>\n      <td>12.433277</td>\n      <td>29.025568</td>\n      <td>13.179996</td>\n      <td>...</td>\n      <td>-1.049231</td>\n      <td>-2.270698</td>\n      <td>1.340682</td>\n      <td>-5.577066</td>\n      <td>-4.509120</td>\n      <td>-0.286678</td>\n      <td>7.625178</td>\n      <td>3.698329</td>\n      <td>-1.713583</td>\n      <td>10.618638</td>\n    </tr>\n    <tr>\n      <th>2</th>\n      <td>24.955404</td>\n      <td>105.210358</td>\n      <td>-22.967981</td>\n      <td>69.645844</td>\n      <td>26.989948</td>\n      <td>-7.557901</td>\n      <td>29.480839</td>\n      <td>-29.776258</td>\n      <td>9.603676</td>\n      <td>-11.335986</td>\n      <td>...</td>\n      <td>-4.506676</td>\n      <td>-18.668793</td>\n      <td>-1.617678</td>\n      <td>-0.429638</td>\n      <td>3.474796</td>\n      <td>7.511673</td>\n      <td>8.463451</td>\n      <td>-7.963994</td>\n      <td>12.004653</td>\n      <td>2.734360</td>\n    </tr>\n    <tr>\n      <th>3</th>\n      <td>-83.753212</td>\n      <td>-23.995602</td>\n      <td>-13.961559</td>\n      <td>-31.153425</td>\n      <td>28.798018</td>\n      <td>-46.638378</td>\n      <td>9.314528</td>\n      <td>17.460184</td>\n      <td>31.331852</td>\n      <td>24.376375</td>\n      <td>...</td>\n      <td>-8.204684</td>\n      <td>-0.076949</td>\n      <td>7.707277</td>\n      <td>-4.246420</td>\n      <td>-10.643489</td>\n      <td>-3.513170</td>\n      <td>-4.615512</td>\n      <td>11.233521</td>\n      <td>-7.770840</td>\n      <td>10.897155</td>\n    </tr>\n    <tr>\n      <th>4</th>\n      <td>-106.195831</td>\n      <td>-32.474899</td>\n      <td>-13.414521</td>\n      <td>-0.511944</td>\n      <td>15.809506</td>\n      <td>-40.975006</td>\n      <td>8.317045</td>\n      <td>5.499529</td>\n      <td>-25.244246</td>\n      <td>-11.114835</td>\n      <td>...</td>\n      <td>-7.739303</td>\n      <td>-3.897014</td>\n      <td>-8.306621</td>\n      <td>8.673738</td>\n      <td>14.432875</td>\n      <td>-0.803122</td>\n      <td>4.329744</td>\n      <td>4.906906</td>\n      <td>-0.724789</td>\n      <td>0.433563</td>\n    </tr>\n  </tbody>\n</table>\n<p>5 rows × 100 columns</p>\n</div>"
     },
     "metadata": {},
     "execution_count": 10
    }
   ],
   "source": [
    "df_embs_compressed.head()"
   ]
  },
  {
   "cell_type": "code",
   "execution_count": 11,
   "metadata": {},
   "outputs": [],
   "source": [
    "tsne = TSNE(n_components=2, verbose=0, perplexity=40, n_iter=300)\n",
    "tsne_results = tsne.fit_transform(df_embs_compressed)\n",
    "df['x'] = tsne_results[:,0]\n",
    "df['y'] = tsne_results[:,1]"
   ]
  },
  {
   "cell_type": "code",
   "execution_count": 12,
   "metadata": {
    "tags": []
   },
   "outputs": [
    {
     "output_type": "stream",
     "name": "stdout",
     "text": [
      "       id gender masterCategory subCategory   articleType baseColour season  \\\n282  5402  Women       Footwear       Shoes  Sports Shoes     Purple    NaN   \n\n     year   usage                 productDisplayName     image          x  \\\n282  2011  Sports  Kalenji Ekiden 200 Wn Purple 2011  5402.jpg -11.070682   \n\n            y  \n282 -6.741811  \n"
     ]
    }
   ],
   "source": [
    "# Check whether there are null values in data frame...\n",
    "print(df[df.season.isnull()])"
   ]
  },
  {
   "cell_type": "code",
   "execution_count": 13,
   "metadata": {},
   "outputs": [],
   "source": [
    "# ...and override if there are any,\n",
    "df.at[282, 'season'] = \"Summer\""
   ]
  },
  {
   "cell_type": "code",
   "execution_count": 14,
   "metadata": {},
   "outputs": [],
   "source": [
    "def create_user_marker(x, y):\n",
    "    \"\"\"Creates and returns a user marker on a specific position\"\"\"\n",
    "    user_marker = plt.plot(x, y, 'yo', markersize=10)\n",
    "    user_position = np.array([x, y])\n",
    "    return user_marker, user_position"
   ]
  },
  {
   "cell_type": "code",
   "execution_count": 61,
   "metadata": {},
   "outputs": [],
   "source": [
    "def get_updated_user_pos(change):\n",
    "    \"\"\"\n",
    "    Computes the index of the element that is closest to the given change value in x0.\n",
    "    Returns the new user position.\n",
    "    \"\"\"\n",
    "    index = np.where(np.isclose(neg_decision_boundary, min(neg_decision_boundary, key=lambda x:abs(x-change))))\n",
    "    return neg_decision_boundary[index[0][0]], x0[index[0][0]]"
   ]
  },
  {
   "cell_type": "code",
   "execution_count": 17,
   "metadata": {},
   "outputs": [],
   "source": [
    "def update_user_position(change):\n",
    "    \"\"\"Update the user position after the slider value has changed\"\"\"\n",
    "    new_x, new_y = get_updated_user_pos(change.new)\n",
    "    user_marker[0].set_data(new_x, new_y)\n",
    "    new_user_pos = np.array([new_x, new_y])\n",
    "    nearest_neighbour, nearest_neighbour_pos = get_nearest_neighbour(new_user_pos, df)\n",
    "    annotate_nearest_neighbour(nearest_neighbour, nearest_neighbour_pos, ax, df)\n",
    "    plt.title('Nearest Embedding: {}'.format(nearest_neighbour))\n",
    "    fig.canvas.draw()\n",
    "    fig.canvas.flush_events()"
   ]
  },
  {
   "cell_type": "code",
   "execution_count": 18,
   "metadata": {},
   "outputs": [],
   "source": [
    "def calc_svm_decision_boundary(svm_clf, xmin, xmax):\n",
    "    \"\"\"Compute a decision boundary and ret\"\"\"\n",
    "    w = svm_clf.coef_[0]\n",
    "    b = svm_clf.intercept_[0]\n",
    "    x0 = np.linspace(xmin, xmax, 200)\n",
    "    decision_boundary = -w[0]/w[1] * x0 - b/w[1]\n",
    "    return decision_boundary, x0"
   ]
  },
  {
   "cell_type": "code",
   "execution_count": 19,
   "metadata": {
    "tags": []
   },
   "outputs": [],
   "source": [
    "def get_nearest_neighbour(user_position, df):\n",
    "   nearest_neighbour = None\n",
    "   nearest_neighbour_pos = None\n",
    "   smallest_dist = sys.maxsize\n",
    "   for row in df.itertuples():\n",
    "      embedding_position = np.array([row.x, row.y])\n",
    "      dist = norm(user_position - embedding_position)\n",
    "      if dist < smallest_dist:\n",
    "         smallest_dist = dist\n",
    "         nearest_neighbour = row.id\n",
    "         nearest_neighbour_pos = embedding_position\n",
    "   return nearest_neighbour, nearest_neighbour_pos"
   ]
  },
  {
   "cell_type": "code",
   "execution_count": 20,
   "metadata": {},
   "outputs": [],
   "source": [
    "def highlight_nearest_neighbour(id, df):\n",
    "    x_nn = df.loc[df['id'] == id].x.values[0]\n",
    "    y_nn = df.loc[df['id'] == id].y.values[0]\n",
    "    plt.scatter(x=x_nn, y=y_nn, color='r')"
   ]
  },
  {
   "cell_type": "code",
   "execution_count": 79,
   "metadata": {},
   "outputs": [],
   "source": [
    "def annotate_nearest_neighbour(nearest_neighbour, nearest_neighbour_pos, ax, df):\n",
    "    if ax.artists != []:\n",
    "        ax.artists[0].remove()\n",
    "    arr_img = plt.imread(get_img_path(df.loc[df['id'] == nearest_neighbour].image.values[0]))\n",
    "    imagebox = OffsetImage(arr_img, zoom=0.025)\n",
    "    imagebox.image.axes = ax\n",
    "    ab = AnnotationBbox(imagebox, nearest_neighbour_pos, xybox=(-20, 40), xycoords='data', boxcoords=\"offset points\", arrowprops=dict(arrowstyle=\"->\"))\n",
    "    ax.add_artist(ab)"
   ]
  },
  {
   "cell_type": "code",
   "execution_count": 78,
   "metadata": {},
   "outputs": [
    {
     "output_type": "execute_result",
     "data": {
      "text/plain": [
       "         id gender masterCategory subCategory articleType baseColour  season  \\\n",
       "1334  45097  Women        Apparel   Innerwear         Bra       Pink  Winter   \n",
       "\n",
       "      year   usage    productDisplayName      image        x         y  \n",
       "1334  2015  Casual  Bwitch Pink Ruby Bra  45097.jpg  2.44717 -1.876208  "
      ],
      "text/html": "<div>\n<style scoped>\n    .dataframe tbody tr th:only-of-type {\n        vertical-align: middle;\n    }\n\n    .dataframe tbody tr th {\n        vertical-align: top;\n    }\n\n    .dataframe thead th {\n        text-align: right;\n    }\n</style>\n<table border=\"1\" class=\"dataframe\">\n  <thead>\n    <tr style=\"text-align: right;\">\n      <th></th>\n      <th>id</th>\n      <th>gender</th>\n      <th>masterCategory</th>\n      <th>subCategory</th>\n      <th>articleType</th>\n      <th>baseColour</th>\n      <th>season</th>\n      <th>year</th>\n      <th>usage</th>\n      <th>productDisplayName</th>\n      <th>image</th>\n      <th>x</th>\n      <th>y</th>\n    </tr>\n  </thead>\n  <tbody>\n    <tr>\n      <th>1334</th>\n      <td>45097</td>\n      <td>Women</td>\n      <td>Apparel</td>\n      <td>Innerwear</td>\n      <td>Bra</td>\n      <td>Pink</td>\n      <td>Winter</td>\n      <td>2015</td>\n      <td>Casual</td>\n      <td>Bwitch Pink Ruby Bra</td>\n      <td>45097.jpg</td>\n      <td>2.44717</td>\n      <td>-1.876208</td>\n    </tr>\n  </tbody>\n</table>\n</div>"
     },
     "metadata": {},
     "execution_count": 78
    }
   ],
   "source": [
    "df.loc[df['id'] == 45097]"
   ]
  },
  {
   "cell_type": "code",
   "execution_count": 80,
   "metadata": {
    "tags": []
   },
   "outputs": [
    {
     "output_type": "display_data",
     "data": {
      "text/plain": "AppLayout(children=(FloatSlider(value=1.4053269340377987, description='Position:', layout=Layout(grid_area='fo…",
      "application/vnd.jupyter.widget-view+json": {
       "version_major": 2,
       "version_minor": 0,
       "model_id": "188938186e604ee4a9418737a50d0d78"
      }
     },
     "metadata": {}
    }
   ],
   "source": [
    "from ipywidgets import AppLayout, FloatSlider\n",
    "from matplotlib.offsetbox import (AnnotationBbox, OffsetImage, TextArea)\n",
    "\n",
    "plt.ioff()\n",
    "\n",
    "fig, ax = plt.subplots(figsize=(12,7))\n",
    "fig.canvas.header_visible = False\n",
    "fig.canvas.layout.min_height = '400px'\n",
    "sns.scatterplot(x=\"x\", y=\"y\",\n",
    "                  hue=\"masterCategory\", # can be replaced with `subCategory` to see more details\n",
    "                  data=df,\n",
    "                  legend=\"full\",\n",
    "                  alpha=0.8)\n",
    "\n",
    "# Application of SVM to create the axis for a given feature\n",
    "X = df[[\"x\", \"y\"]]\n",
    "y = df[\"season\"]\n",
    "scaler = StandardScaler()\n",
    "X_scaled = scaler.fit_transform(X)\n",
    "svm_clf = LinearSVC(C=1)\n",
    "svm_clf.fit(X_scaled, y)\n",
    "\n",
    "decision_boundary, x0 = calc_svm_decision_boundary(svm_clf, -15, 15)\n",
    "neg_decision_boundary = np.negative(decision_boundary)\n",
    "plt.plot(x0, decision_boundary, \"k-\", linewidth=2)\n",
    "plt.plot(neg_decision_boundary, x0, \"k-\", linewidth=2)\n",
    "\n",
    "rand_idx = random.choice(range(len(neg_decision_boundary)))\n",
    "x = neg_decision_boundary[rand_idx]\n",
    "y = x0[rand_idx]\n",
    "user_marker, user_positon = create_user_marker(x, y)\n",
    "\n",
    "nearest_neighbour, nearest_neighbour_pos = get_nearest_neighbour(user_positon, df)\n",
    "annotate_nearest_neighbour(nearest_neighbour, nearest_neighbour_pos, ax, df)\n",
    "\n",
    "plt.title('Nearest Embedding: {}'.format(nearest_neighbour))\n",
    "\n",
    "# Create Slider to interact with the plot\n",
    "slider = FloatSlider(\n",
    "    orientation=\"horizontal\",\n",
    "    description=\"Position:\",\n",
    "    value=user_positon[0],\n",
    "    min=min(neg_decision_boundary),\n",
    "    max=max(neg_decision_boundary)\n",
    ")\n",
    "slider.layout.margin = '0px 30% 0px 30%'\n",
    "slider.layout.width = '40%'\n",
    "\n",
    "slider.observe(update_user_position, names='value')\n",
    "\n",
    "AppLayout(\n",
    "    center=fig.canvas,\n",
    "    footer=slider,\n",
    "    pane_heights=[0, 6, 1]\n",
    ")"
   ]
  },
  {
   "cell_type": "code",
   "execution_count": null,
   "metadata": {},
   "outputs": [],
   "source": []
  }
 ]
}