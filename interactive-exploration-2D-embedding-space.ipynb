{
 "metadata": {
  "language_info": {
   "codemirror_mode": {
    "name": "ipython",
    "version": 3
   },
   "file_extension": ".py",
   "mimetype": "text/x-python",
   "name": "python",
   "nbconvert_exporter": "python",
   "pygments_lexer": "ipython3",
   "version": "3.8.7"
  },
  "orig_nbformat": 2,
  "kernelspec": {
   "name": "python387jvsc74a57bd0b901928082f1ec87d941fbfe662b5d67b83eac03f17ebd508798d07a7e995cb7",
   "display_name": "Python 3.8.7 64-bit ('venv')"
  },
  "metadata": {
   "interpreter": {
    "hash": "b901928082f1ec87d941fbfe662b5d67b83eac03f17ebd508798d07a7e995cb7"
   }
  }
 },
 "nbformat": 4,
 "nbformat_minor": 2,
 "cells": [
  {
   "cell_type": "code",
   "execution_count": 1,
   "metadata": {},
   "outputs": [],
   "source": [
    "%matplotlib widget\n",
    "\n",
    "import tensorflow as tf\n",
    "import os\n",
    "import sys\n",
    "import cv2\n",
    "import pickle\n",
    "import numpy as np\n",
    "import pandas as pd\n",
    "import matplotlib.pyplot as plt\n",
    "import matplotlib.image as mpimg\n",
    "import seaborn as sns\n",
    "import random\n",
    "\n",
    "from tensorflow import keras\n",
    "from tensorflow.keras.preprocessing import image\n",
    "from tensorflow.keras.applications.resnet50 import ResNet50, preprocess_input\n",
    "from tensorflow.keras.layers import GlobalMaxPooling2D\n",
    "from numpy.linalg import norm\n",
    "from sklearn.decomposition import PCA\n",
    "from sklearn.preprocessing import StandardScaler\n",
    "from sklearn.svm import SVC\n",
    "from sklearn.svm import LinearSVC"
   ]
  },
  {
   "cell_type": "code",
   "execution_count": 2,
   "metadata": {},
   "outputs": [
    {
     "output_type": "stream",
     "name": "stdout",
     "text": [
      "['embeddings.tsv', '.DS_Store', 'images.csv', 'images', 'styles', 'styles.csv', '.ipynb_checkpoints', 'embeddings.csv', 'resnet50-embeddings.pkl']\n"
     ]
    }
   ],
   "source": [
    "DATASET_PATH = \"/Users/jeremy/Google Drive/datasets/fashion-dataset/\"\n",
    "print(os.listdir(DATASET_PATH))"
   ]
  },
  {
   "cell_type": "code",
   "execution_count": 3,
   "metadata": {},
   "outputs": [
    {
     "output_type": "execute_result",
     "data": {
      "text/plain": [
       "      id gender masterCategory subCategory  articleType baseColour  season  \\\n",
       "0  15970    Men        Apparel     Topwear       Shirts  Navy Blue    Fall   \n",
       "1  39386    Men        Apparel  Bottomwear        Jeans       Blue  Summer   \n",
       "2  59263  Women    Accessories     Watches      Watches     Silver  Winter   \n",
       "3  21379    Men        Apparel  Bottomwear  Track Pants      Black    Fall   \n",
       "4  53759    Men        Apparel     Topwear      Tshirts       Grey  Summer   \n",
       "5   1855    Men        Apparel     Topwear      Tshirts       Grey  Summer   \n",
       "6  30805    Men        Apparel     Topwear       Shirts      Green  Summer   \n",
       "7  26960  Women        Apparel     Topwear       Shirts     Purple  Summer   \n",
       "8  29114    Men    Accessories       Socks        Socks  Navy Blue  Summer   \n",
       "9  30039    Men    Accessories     Watches      Watches      Black  Winter   \n",
       "\n",
       "   year   usage                             productDisplayName      image  \n",
       "0  2011  Casual               Turtle Check Men Navy Blue Shirt  15970.jpg  \n",
       "1  2012  Casual             Peter England Men Party Blue Jeans  39386.jpg  \n",
       "2  2016  Casual                       Titan Women Silver Watch  59263.jpg  \n",
       "3  2011  Casual  Manchester United Men Solid Black Track Pants  21379.jpg  \n",
       "4  2012  Casual                          Puma Men Grey T-shirt  53759.jpg  \n",
       "5  2011  Casual           Inkfruit Mens Chain Reaction T-shirt   1855.jpg  \n",
       "6  2012  Ethnic               Fabindia Men Striped Green Shirt  30805.jpg  \n",
       "7  2012  Casual                  Jealous 21 Women Purple Shirt  26960.jpg  \n",
       "8  2012  Casual                       Puma Men Pack of 3 Socks  29114.jpg  \n",
       "9  2016  Casual                         Skagen Men Black Watch  30039.jpg  "
      ],
      "text/html": "<div>\n<style scoped>\n    .dataframe tbody tr th:only-of-type {\n        vertical-align: middle;\n    }\n\n    .dataframe tbody tr th {\n        vertical-align: top;\n    }\n\n    .dataframe thead th {\n        text-align: right;\n    }\n</style>\n<table border=\"1\" class=\"dataframe\">\n  <thead>\n    <tr style=\"text-align: right;\">\n      <th></th>\n      <th>id</th>\n      <th>gender</th>\n      <th>masterCategory</th>\n      <th>subCategory</th>\n      <th>articleType</th>\n      <th>baseColour</th>\n      <th>season</th>\n      <th>year</th>\n      <th>usage</th>\n      <th>productDisplayName</th>\n      <th>image</th>\n    </tr>\n  </thead>\n  <tbody>\n    <tr>\n      <th>0</th>\n      <td>15970</td>\n      <td>Men</td>\n      <td>Apparel</td>\n      <td>Topwear</td>\n      <td>Shirts</td>\n      <td>Navy Blue</td>\n      <td>Fall</td>\n      <td>2011</td>\n      <td>Casual</td>\n      <td>Turtle Check Men Navy Blue Shirt</td>\n      <td>15970.jpg</td>\n    </tr>\n    <tr>\n      <th>1</th>\n      <td>39386</td>\n      <td>Men</td>\n      <td>Apparel</td>\n      <td>Bottomwear</td>\n      <td>Jeans</td>\n      <td>Blue</td>\n      <td>Summer</td>\n      <td>2012</td>\n      <td>Casual</td>\n      <td>Peter England Men Party Blue Jeans</td>\n      <td>39386.jpg</td>\n    </tr>\n    <tr>\n      <th>2</th>\n      <td>59263</td>\n      <td>Women</td>\n      <td>Accessories</td>\n      <td>Watches</td>\n      <td>Watches</td>\n      <td>Silver</td>\n      <td>Winter</td>\n      <td>2016</td>\n      <td>Casual</td>\n      <td>Titan Women Silver Watch</td>\n      <td>59263.jpg</td>\n    </tr>\n    <tr>\n      <th>3</th>\n      <td>21379</td>\n      <td>Men</td>\n      <td>Apparel</td>\n      <td>Bottomwear</td>\n      <td>Track Pants</td>\n      <td>Black</td>\n      <td>Fall</td>\n      <td>2011</td>\n      <td>Casual</td>\n      <td>Manchester United Men Solid Black Track Pants</td>\n      <td>21379.jpg</td>\n    </tr>\n    <tr>\n      <th>4</th>\n      <td>53759</td>\n      <td>Men</td>\n      <td>Apparel</td>\n      <td>Topwear</td>\n      <td>Tshirts</td>\n      <td>Grey</td>\n      <td>Summer</td>\n      <td>2012</td>\n      <td>Casual</td>\n      <td>Puma Men Grey T-shirt</td>\n      <td>53759.jpg</td>\n    </tr>\n    <tr>\n      <th>5</th>\n      <td>1855</td>\n      <td>Men</td>\n      <td>Apparel</td>\n      <td>Topwear</td>\n      <td>Tshirts</td>\n      <td>Grey</td>\n      <td>Summer</td>\n      <td>2011</td>\n      <td>Casual</td>\n      <td>Inkfruit Mens Chain Reaction T-shirt</td>\n      <td>1855.jpg</td>\n    </tr>\n    <tr>\n      <th>6</th>\n      <td>30805</td>\n      <td>Men</td>\n      <td>Apparel</td>\n      <td>Topwear</td>\n      <td>Shirts</td>\n      <td>Green</td>\n      <td>Summer</td>\n      <td>2012</td>\n      <td>Ethnic</td>\n      <td>Fabindia Men Striped Green Shirt</td>\n      <td>30805.jpg</td>\n    </tr>\n    <tr>\n      <th>7</th>\n      <td>26960</td>\n      <td>Women</td>\n      <td>Apparel</td>\n      <td>Topwear</td>\n      <td>Shirts</td>\n      <td>Purple</td>\n      <td>Summer</td>\n      <td>2012</td>\n      <td>Casual</td>\n      <td>Jealous 21 Women Purple Shirt</td>\n      <td>26960.jpg</td>\n    </tr>\n    <tr>\n      <th>8</th>\n      <td>29114</td>\n      <td>Men</td>\n      <td>Accessories</td>\n      <td>Socks</td>\n      <td>Socks</td>\n      <td>Navy Blue</td>\n      <td>Summer</td>\n      <td>2012</td>\n      <td>Casual</td>\n      <td>Puma Men Pack of 3 Socks</td>\n      <td>29114.jpg</td>\n    </tr>\n    <tr>\n      <th>9</th>\n      <td>30039</td>\n      <td>Men</td>\n      <td>Accessories</td>\n      <td>Watches</td>\n      <td>Watches</td>\n      <td>Black</td>\n      <td>Winter</td>\n      <td>2016</td>\n      <td>Casual</td>\n      <td>Skagen Men Black Watch</td>\n      <td>30039.jpg</td>\n    </tr>\n  </tbody>\n</table>\n</div>"
     },
     "metadata": {},
     "execution_count": 3
    }
   ],
   "source": [
    "df = pd.read_csv(DATASET_PATH + \"styles.csv\", nrows=5000, error_bad_lines=False)\n",
    "df['image'] = df.apply(lambda row: str(row['id']) + \".jpg\", axis=1)\n",
    "df = df.reset_index(drop=True)\n",
    "df.head(10)"
   ]
  },
  {
   "cell_type": "code",
   "execution_count": 4,
   "metadata": {},
   "outputs": [
    {
     "output_type": "stream",
     "name": "stdout",
     "text": [
      "Model: \"sequential\"\n_________________________________________________________________\nLayer (type)                 Output Shape              Param #   \n=================================================================\nresnet50 (Functional)        (None, 7, 7, 2048)        23587712  \n_________________________________________________________________\nglobal_max_pooling2d (Global (None, 2048)              0         \n=================================================================\nTotal params: 23,587,712\nTrainable params: 23,534,592\nNon-trainable params: 53,120\n_________________________________________________________________\n"
     ]
    }
   ],
   "source": [
    "# Load ResNet-50 model pretrained on Imagenet without the classifying layers on top.\n",
    "base_model = ResNet50(weights='imagenet', include_top=False, input_shape=(224, 224, 3))\n",
    "\n",
    "# Add Global Max Pooling layer on top\n",
    "model = keras.Sequential([\n",
    "    base_model,\n",
    "    GlobalMaxPooling2D()\n",
    "])\n",
    "\n",
    "model.summary()"
   ]
  },
  {
   "cell_type": "code",
   "execution_count": 5,
   "metadata": {},
   "outputs": [],
   "source": [
    "def get_img_path(img):\n",
    "  return DATASET_PATH + \"images/\" + img"
   ]
  },
  {
   "cell_type": "code",
   "execution_count": 6,
   "metadata": {},
   "outputs": [],
   "source": [
    "def extract_embeddings(img_name, model):\n",
    "  input_shape = (224, 224, 3)\n",
    "  img = image.load_img(get_img_path(img_name), target_size=(input_shape[0], input_shape[1]))\n",
    "  img_array = image.img_to_array(img)\n",
    "  expanded_img_array = np.expand_dims(img_array, axis=0)\n",
    "  preprocessed_img = preprocess_input(expanded_img_array)\n",
    "  embeddings = model.predict(preprocessed_img)\n",
    "  return embeddings.reshape(-1)"
   ]
  },
  {
   "cell_type": "code",
   "execution_count": 8,
   "metadata": {},
   "outputs": [
    {
     "output_type": "execute_result",
     "data": {
      "text/plain": [
       "(2048,)"
      ]
     },
     "metadata": {},
     "execution_count": 8
    }
   ],
   "source": [
    "emb = extract_embeddings(df.iloc[0].image, model)\n",
    "emb.shape"
   ]
  },
  {
   "cell_type": "code",
   "execution_count": 9,
   "metadata": {},
   "outputs": [
    {
     "output_type": "display_data",
     "data": {
      "text/plain": "Canvas(toolbar=Toolbar(toolitems=[('Home', 'Reset original view', 'home', 'home'), ('Back', 'Back to previous …",
      "application/vnd.jupyter.widget-view+json": {
       "version_major": 2,
       "version_minor": 0,
       "model_id": "33395990d36e42f6b1cf5626ae45c382"
      }
     },
     "metadata": {}
    },
    {
     "output_type": "stream",
     "name": "stdout",
     "text": [
      "(1440, 1080, 3)\n[ 5.661311   2.366158   0.        ...  1.3138627  0.        10.820534 ]\n"
     ]
    }
   ],
   "source": [
    "img_array = cv2.imread(get_img_path(df.iloc[282].image))\n",
    "plt.imshow(cv2.cvtColor(img_array, cv2.COLOR_BGR2RGB))\n",
    "print(img_array.shape)\n",
    "print(emb)"
   ]
  },
  {
   "cell_type": "code",
   "execution_count": null,
   "metadata": {},
   "outputs": [],
   "source": [
    "# Create embeddings and store them into dataframe\n",
    "df_sample      = df#.sample(10)\n",
    "map_embeddings = df_sample['image'].apply(lambda img: extract_embeddings(img, model))\n",
    "df_embs        = map_embeddings.apply(pd.Series)"
   ]
  },
  {
   "cell_type": "code",
   "execution_count": null,
   "metadata": {},
   "outputs": [],
   "source": [
    "# Serialize dataframe to pickle file\n",
    "df_embs.to_pickle(DATASET_PATH + \"resnet50-embeddings.pkl\")"
   ]
  },
  {
   "cell_type": "code",
   "execution_count": 7,
   "metadata": {},
   "outputs": [],
   "source": [
    "df_embs = pickle.load(open(DATASET_PATH + \"resnet50-embeddings.pkl\", \"rb\"))"
   ]
  },
  {
   "cell_type": "code",
   "execution_count": 8,
   "metadata": {},
   "outputs": [
    {
     "output_type": "execute_result",
     "data": {
      "text/plain": [
       "(array(['Apparel'], dtype=object), (2297, 11), 2297)"
      ]
     },
     "metadata": {},
     "execution_count": 8
    }
   ],
   "source": [
    "# Filter only embeddings with master category 'Apparel' and save indices to filter for them later\n",
    "df_filtered = df.loc[df.masterCategory == 'Apparel']\n",
    "df_filtered_idx = df_filtered.index.values.tolist()\n",
    "df_filtered = df_filtered.reset_index(drop=True)\n",
    "df_filtered.masterCategory.unique(), df_filtered.shape, len(df_filtered_idx)"
   ]
  },
  {
   "cell_type": "code",
   "execution_count": 9,
   "metadata": {},
   "outputs": [
    {
     "output_type": "execute_result",
     "data": {
      "text/plain": [
       "          0          1         2          3         4         5          6     \\\n",
       "0     5.661316   2.366165  0.000000   3.255730  0.845208  2.673841   8.780870   \n",
       "1     5.790417   9.593648  0.000000   9.431670  0.287235  0.259945  17.028748   \n",
       "2     5.882203   1.958606  0.000000  12.519882  0.000000  0.000000   9.383594   \n",
       "3     0.245968  17.383430  0.493824   3.374468  2.567368  0.000000   6.482537   \n",
       "4     0.028546  18.567099  0.000000   0.757250  1.504949  0.000000   1.982024   \n",
       "...        ...        ...       ...        ...       ...       ...        ...   \n",
       "2292  3.134137  12.337814  3.281830   0.000000  6.123401  6.273666   3.345068   \n",
       "2293  2.800386  19.866081  3.215006   2.487933  0.147357  0.000000   7.958175   \n",
       "2294  4.801172  16.536064  2.132150   2.630906  1.190370  0.243107   1.454644   \n",
       "2295  3.184294  14.538852  6.306130   0.000000  3.361131  6.701039   0.729837   \n",
       "2296  2.876276  25.317070  0.000000   2.869397  4.971409  0.568798   0.000000   \n",
       "\n",
       "          7         8         9     ...       2038      2039       2040  \\\n",
       "0     6.280786  0.787188  1.587657  ...   2.463610  0.000000   1.825994   \n",
       "1     3.037453  0.136341  0.000000  ...   1.670570  0.013891  10.338681   \n",
       "2     3.781614  0.000000  1.490617  ...  17.825478  0.000000   3.592507   \n",
       "3     5.862639  0.000000  3.164866  ...   4.464024  0.447075   1.448143   \n",
       "4     2.963777  1.072765  4.539300  ...   3.247082  4.273134   3.088643   \n",
       "...        ...       ...       ...  ...        ...       ...        ...   \n",
       "2292  4.230134  2.082114  2.691854  ...   5.392367  2.139013   7.540308   \n",
       "2293  5.669247  0.706661  4.877097  ...  10.292748  0.000000   0.738173   \n",
       "2294  3.500423  0.627453  5.221931  ...   0.000000  1.886256   3.294083   \n",
       "2295  0.295319  0.252367  3.175583  ...   0.000000  1.471544   1.482233   \n",
       "2296  5.165745  0.000000  0.000000  ...   3.623354  0.000000   9.653894   \n",
       "\n",
       "           2041      2042       2043       2044      2045      2046       2047  \n",
       "0     20.485268  3.902863   0.000000   8.225969  1.313863  0.000000  10.820526  \n",
       "1      4.784722  0.189140   0.000000   7.739144  0.372693  0.000000   8.903802  \n",
       "2      2.042305  0.000000   0.000000   6.656779  1.457314  1.694204   1.403327  \n",
       "3     12.884138  0.000000   0.397501   5.028075  1.939697  0.000000  11.485400  \n",
       "4     16.997053  0.000000   0.000000   2.258095  1.595798  0.000000   7.674047  \n",
       "...         ...       ...        ...        ...       ...       ...        ...  \n",
       "2292   5.394151  6.070920   0.000000   0.000000  0.000000  0.000000  10.168349  \n",
       "2293  16.109261  0.383140   0.000000   4.432935  2.898650  0.416252  12.830476  \n",
       "2294  17.186272  0.000000   2.014549   1.663332  2.118907  0.000000   6.815829  \n",
       "2295  22.654318  2.425646  12.427614   8.393599  0.000000  9.616654   3.375090  \n",
       "2296   3.372160  0.000000   0.000000  11.082531  0.000000  0.000000  15.469978  \n",
       "\n",
       "[2297 rows x 2048 columns]"
      ],
      "text/html": "<div>\n<style scoped>\n    .dataframe tbody tr th:only-of-type {\n        vertical-align: middle;\n    }\n\n    .dataframe tbody tr th {\n        vertical-align: top;\n    }\n\n    .dataframe thead th {\n        text-align: right;\n    }\n</style>\n<table border=\"1\" class=\"dataframe\">\n  <thead>\n    <tr style=\"text-align: right;\">\n      <th></th>\n      <th>0</th>\n      <th>1</th>\n      <th>2</th>\n      <th>3</th>\n      <th>4</th>\n      <th>5</th>\n      <th>6</th>\n      <th>7</th>\n      <th>8</th>\n      <th>9</th>\n      <th>...</th>\n      <th>2038</th>\n      <th>2039</th>\n      <th>2040</th>\n      <th>2041</th>\n      <th>2042</th>\n      <th>2043</th>\n      <th>2044</th>\n      <th>2045</th>\n      <th>2046</th>\n      <th>2047</th>\n    </tr>\n  </thead>\n  <tbody>\n    <tr>\n      <th>0</th>\n      <td>5.661316</td>\n      <td>2.366165</td>\n      <td>0.000000</td>\n      <td>3.255730</td>\n      <td>0.845208</td>\n      <td>2.673841</td>\n      <td>8.780870</td>\n      <td>6.280786</td>\n      <td>0.787188</td>\n      <td>1.587657</td>\n      <td>...</td>\n      <td>2.463610</td>\n      <td>0.000000</td>\n      <td>1.825994</td>\n      <td>20.485268</td>\n      <td>3.902863</td>\n      <td>0.000000</td>\n      <td>8.225969</td>\n      <td>1.313863</td>\n      <td>0.000000</td>\n      <td>10.820526</td>\n    </tr>\n    <tr>\n      <th>1</th>\n      <td>5.790417</td>\n      <td>9.593648</td>\n      <td>0.000000</td>\n      <td>9.431670</td>\n      <td>0.287235</td>\n      <td>0.259945</td>\n      <td>17.028748</td>\n      <td>3.037453</td>\n      <td>0.136341</td>\n      <td>0.000000</td>\n      <td>...</td>\n      <td>1.670570</td>\n      <td>0.013891</td>\n      <td>10.338681</td>\n      <td>4.784722</td>\n      <td>0.189140</td>\n      <td>0.000000</td>\n      <td>7.739144</td>\n      <td>0.372693</td>\n      <td>0.000000</td>\n      <td>8.903802</td>\n    </tr>\n    <tr>\n      <th>2</th>\n      <td>5.882203</td>\n      <td>1.958606</td>\n      <td>0.000000</td>\n      <td>12.519882</td>\n      <td>0.000000</td>\n      <td>0.000000</td>\n      <td>9.383594</td>\n      <td>3.781614</td>\n      <td>0.000000</td>\n      <td>1.490617</td>\n      <td>...</td>\n      <td>17.825478</td>\n      <td>0.000000</td>\n      <td>3.592507</td>\n      <td>2.042305</td>\n      <td>0.000000</td>\n      <td>0.000000</td>\n      <td>6.656779</td>\n      <td>1.457314</td>\n      <td>1.694204</td>\n      <td>1.403327</td>\n    </tr>\n    <tr>\n      <th>3</th>\n      <td>0.245968</td>\n      <td>17.383430</td>\n      <td>0.493824</td>\n      <td>3.374468</td>\n      <td>2.567368</td>\n      <td>0.000000</td>\n      <td>6.482537</td>\n      <td>5.862639</td>\n      <td>0.000000</td>\n      <td>3.164866</td>\n      <td>...</td>\n      <td>4.464024</td>\n      <td>0.447075</td>\n      <td>1.448143</td>\n      <td>12.884138</td>\n      <td>0.000000</td>\n      <td>0.397501</td>\n      <td>5.028075</td>\n      <td>1.939697</td>\n      <td>0.000000</td>\n      <td>11.485400</td>\n    </tr>\n    <tr>\n      <th>4</th>\n      <td>0.028546</td>\n      <td>18.567099</td>\n      <td>0.000000</td>\n      <td>0.757250</td>\n      <td>1.504949</td>\n      <td>0.000000</td>\n      <td>1.982024</td>\n      <td>2.963777</td>\n      <td>1.072765</td>\n      <td>4.539300</td>\n      <td>...</td>\n      <td>3.247082</td>\n      <td>4.273134</td>\n      <td>3.088643</td>\n      <td>16.997053</td>\n      <td>0.000000</td>\n      <td>0.000000</td>\n      <td>2.258095</td>\n      <td>1.595798</td>\n      <td>0.000000</td>\n      <td>7.674047</td>\n    </tr>\n    <tr>\n      <th>...</th>\n      <td>...</td>\n      <td>...</td>\n      <td>...</td>\n      <td>...</td>\n      <td>...</td>\n      <td>...</td>\n      <td>...</td>\n      <td>...</td>\n      <td>...</td>\n      <td>...</td>\n      <td>...</td>\n      <td>...</td>\n      <td>...</td>\n      <td>...</td>\n      <td>...</td>\n      <td>...</td>\n      <td>...</td>\n      <td>...</td>\n      <td>...</td>\n      <td>...</td>\n      <td>...</td>\n    </tr>\n    <tr>\n      <th>2292</th>\n      <td>3.134137</td>\n      <td>12.337814</td>\n      <td>3.281830</td>\n      <td>0.000000</td>\n      <td>6.123401</td>\n      <td>6.273666</td>\n      <td>3.345068</td>\n      <td>4.230134</td>\n      <td>2.082114</td>\n      <td>2.691854</td>\n      <td>...</td>\n      <td>5.392367</td>\n      <td>2.139013</td>\n      <td>7.540308</td>\n      <td>5.394151</td>\n      <td>6.070920</td>\n      <td>0.000000</td>\n      <td>0.000000</td>\n      <td>0.000000</td>\n      <td>0.000000</td>\n      <td>10.168349</td>\n    </tr>\n    <tr>\n      <th>2293</th>\n      <td>2.800386</td>\n      <td>19.866081</td>\n      <td>3.215006</td>\n      <td>2.487933</td>\n      <td>0.147357</td>\n      <td>0.000000</td>\n      <td>7.958175</td>\n      <td>5.669247</td>\n      <td>0.706661</td>\n      <td>4.877097</td>\n      <td>...</td>\n      <td>10.292748</td>\n      <td>0.000000</td>\n      <td>0.738173</td>\n      <td>16.109261</td>\n      <td>0.383140</td>\n      <td>0.000000</td>\n      <td>4.432935</td>\n      <td>2.898650</td>\n      <td>0.416252</td>\n      <td>12.830476</td>\n    </tr>\n    <tr>\n      <th>2294</th>\n      <td>4.801172</td>\n      <td>16.536064</td>\n      <td>2.132150</td>\n      <td>2.630906</td>\n      <td>1.190370</td>\n      <td>0.243107</td>\n      <td>1.454644</td>\n      <td>3.500423</td>\n      <td>0.627453</td>\n      <td>5.221931</td>\n      <td>...</td>\n      <td>0.000000</td>\n      <td>1.886256</td>\n      <td>3.294083</td>\n      <td>17.186272</td>\n      <td>0.000000</td>\n      <td>2.014549</td>\n      <td>1.663332</td>\n      <td>2.118907</td>\n      <td>0.000000</td>\n      <td>6.815829</td>\n    </tr>\n    <tr>\n      <th>2295</th>\n      <td>3.184294</td>\n      <td>14.538852</td>\n      <td>6.306130</td>\n      <td>0.000000</td>\n      <td>3.361131</td>\n      <td>6.701039</td>\n      <td>0.729837</td>\n      <td>0.295319</td>\n      <td>0.252367</td>\n      <td>3.175583</td>\n      <td>...</td>\n      <td>0.000000</td>\n      <td>1.471544</td>\n      <td>1.482233</td>\n      <td>22.654318</td>\n      <td>2.425646</td>\n      <td>12.427614</td>\n      <td>8.393599</td>\n      <td>0.000000</td>\n      <td>9.616654</td>\n      <td>3.375090</td>\n    </tr>\n    <tr>\n      <th>2296</th>\n      <td>2.876276</td>\n      <td>25.317070</td>\n      <td>0.000000</td>\n      <td>2.869397</td>\n      <td>4.971409</td>\n      <td>0.568798</td>\n      <td>0.000000</td>\n      <td>5.165745</td>\n      <td>0.000000</td>\n      <td>0.000000</td>\n      <td>...</td>\n      <td>3.623354</td>\n      <td>0.000000</td>\n      <td>9.653894</td>\n      <td>3.372160</td>\n      <td>0.000000</td>\n      <td>0.000000</td>\n      <td>11.082531</td>\n      <td>0.000000</td>\n      <td>0.000000</td>\n      <td>15.469978</td>\n    </tr>\n  </tbody>\n</table>\n<p>2297 rows × 2048 columns</p>\n</div>"
     },
     "metadata": {},
     "execution_count": 9
    }
   ],
   "source": [
    "embs_filtered = []\n",
    "for i, row in df_embs.iterrows():\n",
    "    if i in  df_filtered_idx:\n",
    "        embs_filtered.append(row)\n",
    "df_embs_filtered = pd.DataFrame(embs_filtered)\n",
    "df_embs_filtered = df_embs_filtered.reset_index(drop=True)\n",
    "df_embs_filtered"
   ]
  },
  {
   "cell_type": "code",
   "execution_count": 10,
   "metadata": {},
   "outputs": [
    {
     "output_type": "execute_result",
     "data": {
      "text/plain": [
       "              0          1\n",
       "0    -64.281189  -0.382128\n",
       "1    -50.859043 -78.791481\n",
       "2    -21.894369 -69.084740\n",
       "3    -52.814461 -30.695751\n",
       "4    -26.194759 -12.308769\n",
       "...         ...        ...\n",
       "2292  99.575554 -30.713846\n",
       "2293 -26.236422 -12.102118\n",
       "2294 -29.318714  36.647404\n",
       "2295  54.131573  63.903694\n",
       "2296  38.495041 -52.470470\n",
       "\n",
       "[2297 rows x 2 columns]"
      ],
      "text/html": "<div>\n<style scoped>\n    .dataframe tbody tr th:only-of-type {\n        vertical-align: middle;\n    }\n\n    .dataframe tbody tr th {\n        vertical-align: top;\n    }\n\n    .dataframe thead th {\n        text-align: right;\n    }\n</style>\n<table border=\"1\" class=\"dataframe\">\n  <thead>\n    <tr style=\"text-align: right;\">\n      <th></th>\n      <th>0</th>\n      <th>1</th>\n    </tr>\n  </thead>\n  <tbody>\n    <tr>\n      <th>0</th>\n      <td>-64.281189</td>\n      <td>-0.382128</td>\n    </tr>\n    <tr>\n      <th>1</th>\n      <td>-50.859043</td>\n      <td>-78.791481</td>\n    </tr>\n    <tr>\n      <th>2</th>\n      <td>-21.894369</td>\n      <td>-69.084740</td>\n    </tr>\n    <tr>\n      <th>3</th>\n      <td>-52.814461</td>\n      <td>-30.695751</td>\n    </tr>\n    <tr>\n      <th>4</th>\n      <td>-26.194759</td>\n      <td>-12.308769</td>\n    </tr>\n    <tr>\n      <th>...</th>\n      <td>...</td>\n      <td>...</td>\n    </tr>\n    <tr>\n      <th>2292</th>\n      <td>99.575554</td>\n      <td>-30.713846</td>\n    </tr>\n    <tr>\n      <th>2293</th>\n      <td>-26.236422</td>\n      <td>-12.102118</td>\n    </tr>\n    <tr>\n      <th>2294</th>\n      <td>-29.318714</td>\n      <td>36.647404</td>\n    </tr>\n    <tr>\n      <th>2295</th>\n      <td>54.131573</td>\n      <td>63.903694</td>\n    </tr>\n    <tr>\n      <th>2296</th>\n      <td>38.495041</td>\n      <td>-52.470470</td>\n    </tr>\n  </tbody>\n</table>\n<p>2297 rows × 2 columns</p>\n</div>"
     },
     "metadata": {},
     "execution_count": 10
    }
   ],
   "source": [
    "# Perform PCA over the embeddings to reduce dimensionality before applying t-sne\n",
    "num_feature_dimensions = 2  # Set the number of embedding dimensions\n",
    "pca = PCA(n_components = num_feature_dimensions)\n",
    "embs_compressed = pca.fit_transform(df_embs_filtered)\n",
    "df_embs_filtered_compressed = pd.DataFrame(embs_compressed)\n",
    "df_embs_filtered_compressed"
   ]
  },
  {
   "cell_type": "code",
   "execution_count": 11,
   "metadata": {},
   "outputs": [
    {
     "output_type": "execute_result",
     "data": {
      "text/plain": [
       "       0          1         2          3         4         5          6     \\\n",
       "0  5.661316   2.366165  0.000000   3.255730  0.845208  2.673841   8.780870   \n",
       "1  5.790417   9.593648  0.000000   9.431670  0.287235  0.259945  17.028748   \n",
       "2  0.000000   3.162254  0.484691   0.172299  2.609548  3.840852   3.426139   \n",
       "3  5.882203   1.958606  0.000000  12.519882  0.000000  0.000000   9.383594   \n",
       "4  0.245968  17.383430  0.493824   3.374468  2.567368  0.000000   6.482537   \n",
       "\n",
       "       7         8         9     ...       2038       2039       2040  \\\n",
       "0  6.280786  0.787188  1.587657  ...   2.463610   0.000000   1.825994   \n",
       "1  3.037453  0.136341  0.000000  ...   1.670570   0.013891  10.338681   \n",
       "2  0.253253  1.098907  1.418282  ...   0.434926  14.092834   3.018744   \n",
       "3  3.781614  0.000000  1.490617  ...  17.825478   0.000000   3.592507   \n",
       "4  5.862639  0.000000  3.164866  ...   4.464024   0.447075   1.448143   \n",
       "\n",
       "        2041      2042      2043      2044      2045       2046       2047  \n",
       "0  20.485268  3.902863  0.000000  8.225969  1.313863   0.000000  10.820526  \n",
       "1   4.784722  0.189140  0.000000  7.739144  0.372693   0.000000   8.903802  \n",
       "2   2.134506  2.549062  0.377385  6.180348  0.636620  14.018165  11.415048  \n",
       "3   2.042305  0.000000  0.000000  6.656779  1.457314   1.694204   1.403327  \n",
       "4  12.884138  0.000000  0.397501  5.028075  1.939697   0.000000  11.485400  \n",
       "\n",
       "[5 rows x 2048 columns]"
      ],
      "text/html": "<div>\n<style scoped>\n    .dataframe tbody tr th:only-of-type {\n        vertical-align: middle;\n    }\n\n    .dataframe tbody tr th {\n        vertical-align: top;\n    }\n\n    .dataframe thead th {\n        text-align: right;\n    }\n</style>\n<table border=\"1\" class=\"dataframe\">\n  <thead>\n    <tr style=\"text-align: right;\">\n      <th></th>\n      <th>0</th>\n      <th>1</th>\n      <th>2</th>\n      <th>3</th>\n      <th>4</th>\n      <th>5</th>\n      <th>6</th>\n      <th>7</th>\n      <th>8</th>\n      <th>9</th>\n      <th>...</th>\n      <th>2038</th>\n      <th>2039</th>\n      <th>2040</th>\n      <th>2041</th>\n      <th>2042</th>\n      <th>2043</th>\n      <th>2044</th>\n      <th>2045</th>\n      <th>2046</th>\n      <th>2047</th>\n    </tr>\n  </thead>\n  <tbody>\n    <tr>\n      <th>0</th>\n      <td>5.661316</td>\n      <td>2.366165</td>\n      <td>0.000000</td>\n      <td>3.255730</td>\n      <td>0.845208</td>\n      <td>2.673841</td>\n      <td>8.780870</td>\n      <td>6.280786</td>\n      <td>0.787188</td>\n      <td>1.587657</td>\n      <td>...</td>\n      <td>2.463610</td>\n      <td>0.000000</td>\n      <td>1.825994</td>\n      <td>20.485268</td>\n      <td>3.902863</td>\n      <td>0.000000</td>\n      <td>8.225969</td>\n      <td>1.313863</td>\n      <td>0.000000</td>\n      <td>10.820526</td>\n    </tr>\n    <tr>\n      <th>1</th>\n      <td>5.790417</td>\n      <td>9.593648</td>\n      <td>0.000000</td>\n      <td>9.431670</td>\n      <td>0.287235</td>\n      <td>0.259945</td>\n      <td>17.028748</td>\n      <td>3.037453</td>\n      <td>0.136341</td>\n      <td>0.000000</td>\n      <td>...</td>\n      <td>1.670570</td>\n      <td>0.013891</td>\n      <td>10.338681</td>\n      <td>4.784722</td>\n      <td>0.189140</td>\n      <td>0.000000</td>\n      <td>7.739144</td>\n      <td>0.372693</td>\n      <td>0.000000</td>\n      <td>8.903802</td>\n    </tr>\n    <tr>\n      <th>2</th>\n      <td>0.000000</td>\n      <td>3.162254</td>\n      <td>0.484691</td>\n      <td>0.172299</td>\n      <td>2.609548</td>\n      <td>3.840852</td>\n      <td>3.426139</td>\n      <td>0.253253</td>\n      <td>1.098907</td>\n      <td>1.418282</td>\n      <td>...</td>\n      <td>0.434926</td>\n      <td>14.092834</td>\n      <td>3.018744</td>\n      <td>2.134506</td>\n      <td>2.549062</td>\n      <td>0.377385</td>\n      <td>6.180348</td>\n      <td>0.636620</td>\n      <td>14.018165</td>\n      <td>11.415048</td>\n    </tr>\n    <tr>\n      <th>3</th>\n      <td>5.882203</td>\n      <td>1.958606</td>\n      <td>0.000000</td>\n      <td>12.519882</td>\n      <td>0.000000</td>\n      <td>0.000000</td>\n      <td>9.383594</td>\n      <td>3.781614</td>\n      <td>0.000000</td>\n      <td>1.490617</td>\n      <td>...</td>\n      <td>17.825478</td>\n      <td>0.000000</td>\n      <td>3.592507</td>\n      <td>2.042305</td>\n      <td>0.000000</td>\n      <td>0.000000</td>\n      <td>6.656779</td>\n      <td>1.457314</td>\n      <td>1.694204</td>\n      <td>1.403327</td>\n    </tr>\n    <tr>\n      <th>4</th>\n      <td>0.245968</td>\n      <td>17.383430</td>\n      <td>0.493824</td>\n      <td>3.374468</td>\n      <td>2.567368</td>\n      <td>0.000000</td>\n      <td>6.482537</td>\n      <td>5.862639</td>\n      <td>0.000000</td>\n      <td>3.164866</td>\n      <td>...</td>\n      <td>4.464024</td>\n      <td>0.447075</td>\n      <td>1.448143</td>\n      <td>12.884138</td>\n      <td>0.000000</td>\n      <td>0.397501</td>\n      <td>5.028075</td>\n      <td>1.939697</td>\n      <td>0.000000</td>\n      <td>11.485400</td>\n    </tr>\n  </tbody>\n</table>\n<p>5 rows × 2048 columns</p>\n</div>"
     },
     "metadata": {},
     "execution_count": 11
    }
   ],
   "source": [
    "df_embs.head()"
   ]
  },
  {
   "cell_type": "code",
   "execution_count": 12,
   "metadata": {},
   "outputs": [
    {
     "output_type": "execute_result",
     "data": {
      "text/plain": [
       "Empty DataFrame\n",
       "Columns: [id, gender, masterCategory, subCategory, articleType, baseColour, season, year, usage, productDisplayName, image]\n",
       "Index: []"
      ],
      "text/html": "<div>\n<style scoped>\n    .dataframe tbody tr th:only-of-type {\n        vertical-align: middle;\n    }\n\n    .dataframe tbody tr th {\n        vertical-align: top;\n    }\n\n    .dataframe thead th {\n        text-align: right;\n    }\n</style>\n<table border=\"1\" class=\"dataframe\">\n  <thead>\n    <tr style=\"text-align: right;\">\n      <th></th>\n      <th>id</th>\n      <th>gender</th>\n      <th>masterCategory</th>\n      <th>subCategory</th>\n      <th>articleType</th>\n      <th>baseColour</th>\n      <th>season</th>\n      <th>year</th>\n      <th>usage</th>\n      <th>productDisplayName</th>\n      <th>image</th>\n    </tr>\n  </thead>\n  <tbody>\n  </tbody>\n</table>\n</div>"
     },
     "metadata": {},
     "execution_count": 12
    }
   ],
   "source": [
    "df_filtered[df_filtered['season'].isnull().values == True]"
   ]
  },
  {
   "cell_type": "code",
   "execution_count": 13,
   "metadata": {},
   "outputs": [],
   "source": [
    "# ...and override if there are any,\n",
    "df.at[282, 'season'] = \"Summer\""
   ]
  },
  {
   "cell_type": "code",
   "execution_count": 14,
   "metadata": {},
   "outputs": [
    {
     "output_type": "execute_result",
     "data": {
      "text/plain": [
       "array(['Winter', 'Summer'], dtype=object)"
      ]
     },
     "metadata": {},
     "execution_count": 14
    }
   ],
   "source": [
    "for i, row in df_filtered.iterrows():\n",
    "    if df_filtered.at[i, 'season'] == \"Spring\":\n",
    "        df_filtered.at[i, 'season'] = \"Summer\"\n",
    "    elif df_filtered.at[i, 'season'] == \"Fall\":\n",
    "        df_filtered.at[i, 'season'] = \"Winter\"\n",
    "df_filtered.season.unique()"
   ]
  },
  {
   "cell_type": "code",
   "execution_count": 15,
   "metadata": {},
   "outputs": [
    {
     "output_type": "execute_result",
     "data": {
      "text/plain": [
       "         id gender masterCategory subCategory  articleType baseColour  season  \\\n",
       "0     15970    Men        Apparel     Topwear       Shirts  Navy Blue  Winter   \n",
       "1     39386    Men        Apparel  Bottomwear        Jeans       Blue  Summer   \n",
       "2     21379    Men        Apparel  Bottomwear  Track Pants      Black  Winter   \n",
       "3     53759    Men        Apparel     Topwear      Tshirts       Grey  Summer   \n",
       "4      1855    Men        Apparel     Topwear      Tshirts       Grey  Summer   \n",
       "...     ...    ...            ...         ...          ...        ...     ...   \n",
       "2292  41001  Girls        Apparel  Bottomwear       Shorts       Blue  Summer   \n",
       "2293  11771    Men        Apparel     Topwear      Tshirts     Maroon  Winter   \n",
       "2294  25544  Women        Apparel     Topwear      Tshirts  Navy Blue  Summer   \n",
       "2295  57958  Women        Apparel       Saree       Sarees      Green  Summer   \n",
       "2296  20036  Women        Apparel  Bottomwear    Stockings      Black  Winter   \n",
       "\n",
       "      year   usage                                 productDisplayName  \\\n",
       "0     2011  Casual                   Turtle Check Men Navy Blue Shirt   \n",
       "1     2012  Casual                 Peter England Men Party Blue Jeans   \n",
       "2     2011  Casual      Manchester United Men Solid Black Track Pants   \n",
       "3     2012  Casual                              Puma Men Grey T-shirt   \n",
       "4     2011  Casual               Inkfruit Mens Chain Reaction T-shirt   \n",
       "...    ...     ...                                                ...   \n",
       "2292  2012  Casual             Gini and Jony  Girls Woven Blue Shorts   \n",
       "2293  2011  Casual                     Lee Men Printed Maroon Tshirts   \n",
       "2294  2012  Casual           Wrangler Women Sunrise Navy Blue T-shirt   \n",
       "2295  2012  Ethnic                         Prafful Green Printed Sari   \n",
       "2296  2011  Casual  United Colors of Benetton Women Solid Black Ti...   \n",
       "\n",
       "          image  \n",
       "0     15970.jpg  \n",
       "1     39386.jpg  \n",
       "2     21379.jpg  \n",
       "3     53759.jpg  \n",
       "4      1855.jpg  \n",
       "...         ...  \n",
       "2292  41001.jpg  \n",
       "2293  11771.jpg  \n",
       "2294  25544.jpg  \n",
       "2295  57958.jpg  \n",
       "2296  20036.jpg  \n",
       "\n",
       "[2297 rows x 11 columns]"
      ],
      "text/html": "<div>\n<style scoped>\n    .dataframe tbody tr th:only-of-type {\n        vertical-align: middle;\n    }\n\n    .dataframe tbody tr th {\n        vertical-align: top;\n    }\n\n    .dataframe thead th {\n        text-align: right;\n    }\n</style>\n<table border=\"1\" class=\"dataframe\">\n  <thead>\n    <tr style=\"text-align: right;\">\n      <th></th>\n      <th>id</th>\n      <th>gender</th>\n      <th>masterCategory</th>\n      <th>subCategory</th>\n      <th>articleType</th>\n      <th>baseColour</th>\n      <th>season</th>\n      <th>year</th>\n      <th>usage</th>\n      <th>productDisplayName</th>\n      <th>image</th>\n    </tr>\n  </thead>\n  <tbody>\n    <tr>\n      <th>0</th>\n      <td>15970</td>\n      <td>Men</td>\n      <td>Apparel</td>\n      <td>Topwear</td>\n      <td>Shirts</td>\n      <td>Navy Blue</td>\n      <td>Winter</td>\n      <td>2011</td>\n      <td>Casual</td>\n      <td>Turtle Check Men Navy Blue Shirt</td>\n      <td>15970.jpg</td>\n    </tr>\n    <tr>\n      <th>1</th>\n      <td>39386</td>\n      <td>Men</td>\n      <td>Apparel</td>\n      <td>Bottomwear</td>\n      <td>Jeans</td>\n      <td>Blue</td>\n      <td>Summer</td>\n      <td>2012</td>\n      <td>Casual</td>\n      <td>Peter England Men Party Blue Jeans</td>\n      <td>39386.jpg</td>\n    </tr>\n    <tr>\n      <th>2</th>\n      <td>21379</td>\n      <td>Men</td>\n      <td>Apparel</td>\n      <td>Bottomwear</td>\n      <td>Track Pants</td>\n      <td>Black</td>\n      <td>Winter</td>\n      <td>2011</td>\n      <td>Casual</td>\n      <td>Manchester United Men Solid Black Track Pants</td>\n      <td>21379.jpg</td>\n    </tr>\n    <tr>\n      <th>3</th>\n      <td>53759</td>\n      <td>Men</td>\n      <td>Apparel</td>\n      <td>Topwear</td>\n      <td>Tshirts</td>\n      <td>Grey</td>\n      <td>Summer</td>\n      <td>2012</td>\n      <td>Casual</td>\n      <td>Puma Men Grey T-shirt</td>\n      <td>53759.jpg</td>\n    </tr>\n    <tr>\n      <th>4</th>\n      <td>1855</td>\n      <td>Men</td>\n      <td>Apparel</td>\n      <td>Topwear</td>\n      <td>Tshirts</td>\n      <td>Grey</td>\n      <td>Summer</td>\n      <td>2011</td>\n      <td>Casual</td>\n      <td>Inkfruit Mens Chain Reaction T-shirt</td>\n      <td>1855.jpg</td>\n    </tr>\n    <tr>\n      <th>...</th>\n      <td>...</td>\n      <td>...</td>\n      <td>...</td>\n      <td>...</td>\n      <td>...</td>\n      <td>...</td>\n      <td>...</td>\n      <td>...</td>\n      <td>...</td>\n      <td>...</td>\n      <td>...</td>\n    </tr>\n    <tr>\n      <th>2292</th>\n      <td>41001</td>\n      <td>Girls</td>\n      <td>Apparel</td>\n      <td>Bottomwear</td>\n      <td>Shorts</td>\n      <td>Blue</td>\n      <td>Summer</td>\n      <td>2012</td>\n      <td>Casual</td>\n      <td>Gini and Jony  Girls Woven Blue Shorts</td>\n      <td>41001.jpg</td>\n    </tr>\n    <tr>\n      <th>2293</th>\n      <td>11771</td>\n      <td>Men</td>\n      <td>Apparel</td>\n      <td>Topwear</td>\n      <td>Tshirts</td>\n      <td>Maroon</td>\n      <td>Winter</td>\n      <td>2011</td>\n      <td>Casual</td>\n      <td>Lee Men Printed Maroon Tshirts</td>\n      <td>11771.jpg</td>\n    </tr>\n    <tr>\n      <th>2294</th>\n      <td>25544</td>\n      <td>Women</td>\n      <td>Apparel</td>\n      <td>Topwear</td>\n      <td>Tshirts</td>\n      <td>Navy Blue</td>\n      <td>Summer</td>\n      <td>2012</td>\n      <td>Casual</td>\n      <td>Wrangler Women Sunrise Navy Blue T-shirt</td>\n      <td>25544.jpg</td>\n    </tr>\n    <tr>\n      <th>2295</th>\n      <td>57958</td>\n      <td>Women</td>\n      <td>Apparel</td>\n      <td>Saree</td>\n      <td>Sarees</td>\n      <td>Green</td>\n      <td>Summer</td>\n      <td>2012</td>\n      <td>Ethnic</td>\n      <td>Prafful Green Printed Sari</td>\n      <td>57958.jpg</td>\n    </tr>\n    <tr>\n      <th>2296</th>\n      <td>20036</td>\n      <td>Women</td>\n      <td>Apparel</td>\n      <td>Bottomwear</td>\n      <td>Stockings</td>\n      <td>Black</td>\n      <td>Winter</td>\n      <td>2011</td>\n      <td>Casual</td>\n      <td>United Colors of Benetton Women Solid Black Ti...</td>\n      <td>20036.jpg</td>\n    </tr>\n  </tbody>\n</table>\n<p>2297 rows × 11 columns</p>\n</div>"
     },
     "metadata": {},
     "execution_count": 15
    }
   ],
   "source": [
    "df_filtered"
   ]
  },
  {
   "cell_type": "code",
   "execution_count": 16,
   "metadata": {},
   "outputs": [
    {
     "output_type": "execute_result",
     "data": {
      "text/plain": [
       "LinearSVC(C=1, max_iter=100000)"
      ]
     },
     "metadata": {},
     "execution_count": 16
    }
   ],
   "source": [
    "# Application of SVM to create the axis for a given feature\n",
    "X = df_embs_filtered\n",
    "y = df_filtered[\"season\"]\n",
    "scaler = StandardScaler()\n",
    "X_scaled = scaler.fit_transform(X)\n",
    "svm_clf = LinearSVC(C=1, max_iter=100000)\n",
    "svm_clf.fit(X_scaled, y)"
   ]
  },
  {
   "cell_type": "code",
   "execution_count": 17,
   "metadata": {},
   "outputs": [],
   "source": [
    "df_filtered['x'] = df_embs_filtered_compressed[0]\n",
    "df_filtered['y'] = df_embs_filtered_compressed[1]"
   ]
  },
  {
   "cell_type": "code",
   "execution_count": 18,
   "metadata": {},
   "outputs": [],
   "source": [
    "def create_user_marker(x, y):\n",
    "    \"\"\"Creates and returns a user marker on a specific position\"\"\"\n",
    "    user_marker = plt.plot(x, y, 'yo', markersize=10)\n",
    "    user_position = np.array([x, y])\n",
    "    return user_marker, user_position"
   ]
  },
  {
   "cell_type": "code",
   "execution_count": 19,
   "metadata": {},
   "outputs": [],
   "source": [
    "def get_updated_user_pos(change, axis_x, axis_y):\n",
    "    \"\"\"\n",
    "    Computes the index of the element that is closest to the given change value in axis_y.\n",
    "    Returns the new user position.\n",
    "    \"\"\"\n",
    "    index = np.where(np.isclose(axis_x, min(axis_x, key=lambda x:abs(x-change))))\n",
    "    return axis_x[index[0][0]], axis_y[index[0][0]]"
   ]
  },
  {
   "cell_type": "code",
   "execution_count": 20,
   "metadata": {},
   "outputs": [],
   "source": [
    "def update_user_position_2D(change):\n",
    "    \"\"\"Update the user position after the slider value has changed\"\"\"\n",
    "    new_x, new_y = get_updated_user_pos(change.new, db_xx, ortho_db_yy)\n",
    "    user_marker[0].set_data(new_x, new_y)\n",
    "    new_user_pos = np.array([new_x, new_y])\n",
    "    user_positon = new_user_pos\n",
    "    nearest_neighbour, nearest_neighbour_pos = get_nearest_neighbour(new_user_pos, df_filtered)\n",
    "    annotate_nearest_neighbour(nearest_neighbour, nearest_neighbour_pos, ax, df_filtered)\n",
    "    plt.title('Nearest Embedding: {} with season: {}, pos: {}'.format(nearest_neighbour, df_filtered.loc[df_filtered['id'] == nearest_neighbour].season.values[0], user_positon))\n",
    "    fig.canvas.draw()\n",
    "    fig.canvas.flush_events()"
   ]
  },
  {
   "cell_type": "code",
   "execution_count": 21,
   "metadata": {},
   "outputs": [],
   "source": [
    "def calc_svm_decision_boundary(svm_clf, xmin, xmax):\n",
    "    \"\"\"Compute a decision boundary and ret\"\"\"\n",
    "    w = svm_clf.coef_[0]\n",
    "    b = svm_clf.intercept_[0]\n",
    "    xx = np.linspace(xmin, xmax, 200)\n",
    "    yy = -w[0]/w[1] * xx - b/w[1]\n",
    "    return xx, yy"
   ]
  },
  {
   "cell_type": "code",
   "execution_count": 22,
   "metadata": {
    "tags": []
   },
   "outputs": [],
   "source": [
    "def get_nearest_neighbour(user_position, df):\n",
    "   nearest_neighbour = None\n",
    "   nearest_neighbour_pos = None\n",
    "   smallest_dist = sys.maxsize\n",
    "   for row in df.itertuples():\n",
    "      embedding_position = np.array([row.x, row.y])\n",
    "      dist = norm(user_position - embedding_position)\n",
    "      if dist < smallest_dist:\n",
    "         smallest_dist = dist\n",
    "         nearest_neighbour = row.id\n",
    "         nearest_neighbour_pos = embedding_position\n",
    "   return nearest_neighbour, nearest_neighbour_pos"
   ]
  },
  {
   "cell_type": "code",
   "execution_count": 23,
   "metadata": {},
   "outputs": [],
   "source": [
    "def highlight_nearest_neighbour(id, df):\n",
    "    x_nn = df.loc[df['id'] == id].x.values[0]\n",
    "    y_nn = df.loc[df['id'] == id].y.values[0]\n",
    "    plt.scatter(x=x_nn, y=y_nn, color='r')"
   ]
  },
  {
   "cell_type": "code",
   "execution_count": 24,
   "metadata": {},
   "outputs": [],
   "source": [
    "def annotate_nearest_neighbour(nearest_neighbour, nearest_neighbour_pos, ax, df):\n",
    "    if ax.artists != []:\n",
    "        ax.artists[0].remove()\n",
    "    arr_img = plt.imread(get_img_path(df.loc[df['id'] == nearest_neighbour].image.values[0]))\n",
    "    imagebox = OffsetImage(arr_img, zoom=0.025)\n",
    "    imagebox.image.axes = ax\n",
    "    ab = AnnotationBbox(imagebox, nearest_neighbour_pos, xybox=(-20, 40), xycoords='data', boxcoords=\"offset points\", arrowprops=dict(arrowstyle=\"->\"))\n",
    "    ax.add_artist(ab)"
   ]
  },
  {
   "cell_type": "code",
   "execution_count": 25,
   "metadata": {},
   "outputs": [
    {
     "output_type": "execute_result",
     "data": {
      "text/plain": [
       "         id gender masterCategory subCategory articleType baseColour  season  \\\n",
       "1625  19787    Men        Apparel     Topwear     Tshirts      White  Winter   \n",
       "\n",
       "      year   usage                      productDisplayName      image  \\\n",
       "1625  2016  Casual  U.S. Polo Assn. Men Solid White Tshirt  19787.jpg   \n",
       "\n",
       "              x          y  \n",
       "1625 -37.939262 -36.072918  "
      ],
      "text/html": "<div>\n<style scoped>\n    .dataframe tbody tr th:only-of-type {\n        vertical-align: middle;\n    }\n\n    .dataframe tbody tr th {\n        vertical-align: top;\n    }\n\n    .dataframe thead th {\n        text-align: right;\n    }\n</style>\n<table border=\"1\" class=\"dataframe\">\n  <thead>\n    <tr style=\"text-align: right;\">\n      <th></th>\n      <th>id</th>\n      <th>gender</th>\n      <th>masterCategory</th>\n      <th>subCategory</th>\n      <th>articleType</th>\n      <th>baseColour</th>\n      <th>season</th>\n      <th>year</th>\n      <th>usage</th>\n      <th>productDisplayName</th>\n      <th>image</th>\n      <th>x</th>\n      <th>y</th>\n    </tr>\n  </thead>\n  <tbody>\n    <tr>\n      <th>1625</th>\n      <td>19787</td>\n      <td>Men</td>\n      <td>Apparel</td>\n      <td>Topwear</td>\n      <td>Tshirts</td>\n      <td>White</td>\n      <td>Winter</td>\n      <td>2016</td>\n      <td>Casual</td>\n      <td>U.S. Polo Assn. Men Solid White Tshirt</td>\n      <td>19787.jpg</td>\n      <td>-37.939262</td>\n      <td>-36.072918</td>\n    </tr>\n  </tbody>\n</table>\n</div>"
     },
     "metadata": {},
     "execution_count": 25
    }
   ],
   "source": [
    "df_filtered.loc[df_filtered['id'] == 19787]"
   ]
  },
  {
   "cell_type": "code",
   "execution_count": 26,
   "metadata": {},
   "outputs": [
    {
     "output_type": "execute_result",
     "data": {
      "text/plain": [
       "100   -26.977482\n",
       "Name: x, dtype: float32"
      ]
     },
     "metadata": {},
     "execution_count": 26
    }
   ],
   "source": [
    "node = df_filtered.sample()\n",
    "node['x']"
   ]
  },
  {
   "cell_type": "code",
   "execution_count": 40,
   "metadata": {},
   "outputs": [
    {
     "output_type": "execute_result",
     "data": {
      "text/plain": [
       "93.98002"
      ]
     },
     "metadata": {},
     "execution_count": 40
    }
   ],
   "source": [
    "starting_node.x.values[0]"
   ]
  },
  {
   "cell_type": "code",
   "execution_count": 39,
   "metadata": {},
   "outputs": [
    {
     "output_type": "execute_result",
     "data": {
      "text/plain": [
       "array([-35.        , -34.64824121, -34.29648241, -33.94472362,\n",
       "       -33.59296482, -33.24120603, -32.88944724, -32.53768844,\n",
       "       -32.18592965, -31.83417085, -31.48241206, -31.13065327,\n",
       "       -30.77889447, -30.42713568, -30.07537688, -29.72361809,\n",
       "       -29.3718593 , -29.0201005 , -28.66834171, -28.31658291,\n",
       "       -27.96482412, -27.61306533, -27.26130653, -26.90954774,\n",
       "       -26.55778894, -26.20603015, -25.85427136, -25.50251256,\n",
       "       -25.15075377, -24.79899497, -24.44723618, -24.09547739,\n",
       "       -23.74371859, -23.3919598 , -23.04020101, -22.68844221,\n",
       "       -22.33668342, -21.98492462, -21.63316583, -21.28140704,\n",
       "       -20.92964824, -20.57788945, -20.22613065, -19.87437186,\n",
       "       -19.52261307, -19.17085427, -18.81909548, -18.46733668,\n",
       "       -18.11557789, -17.7638191 , -17.4120603 , -17.06030151,\n",
       "       -16.70854271, -16.35678392, -16.00502513, -15.65326633,\n",
       "       -15.30150754, -14.94974874, -14.59798995, -14.24623116,\n",
       "       -13.89447236, -13.54271357, -13.19095477, -12.83919598,\n",
       "       -12.48743719, -12.13567839, -11.7839196 , -11.4321608 ,\n",
       "       -11.08040201, -10.72864322, -10.37688442, -10.02512563,\n",
       "        -9.67336683,  -9.32160804,  -8.96984925,  -8.61809045,\n",
       "        -8.26633166,  -7.91457286,  -7.56281407,  -7.21105528,\n",
       "        -6.85929648,  -6.50753769,  -6.15577889,  -5.8040201 ,\n",
       "        -5.45226131,  -5.10050251,  -4.74874372,  -4.39698492,\n",
       "        -4.04522613,  -3.69346734,  -3.34170854,  -2.98994975,\n",
       "        -2.63819095,  -2.28643216,  -1.93467337,  -1.58291457,\n",
       "        -1.23115578,  -0.87939698,  -0.52763819,  -0.1758794 ,\n",
       "         0.1758794 ,   0.52763819,   0.87939698,   1.23115578,\n",
       "         1.58291457,   1.93467337,   2.28643216,   2.63819095,\n",
       "         2.98994975,   3.34170854,   3.69346734,   4.04522613,\n",
       "         4.39698492,   4.74874372,   5.10050251,   5.45226131,\n",
       "         5.8040201 ,   6.15577889,   6.50753769,   6.85929648,\n",
       "         7.21105528,   7.56281407,   7.91457286,   8.26633166,\n",
       "         8.61809045,   8.96984925,   9.32160804,   9.67336683,\n",
       "        10.02512563,  10.37688442,  10.72864322,  11.08040201,\n",
       "        11.4321608 ,  11.7839196 ,  12.13567839,  12.48743719,\n",
       "        12.83919598,  13.19095477,  13.54271357,  13.89447236,\n",
       "        14.24623116,  14.59798995,  14.94974874,  15.30150754,\n",
       "        15.65326633,  16.00502513,  16.35678392,  16.70854271,\n",
       "        17.06030151,  17.4120603 ,  17.7638191 ,  18.11557789,\n",
       "        18.46733668,  18.81909548,  19.17085427,  19.52261307,\n",
       "        19.87437186,  20.22613065,  20.57788945,  20.92964824,\n",
       "        21.28140704,  21.63316583,  21.98492462,  22.33668342,\n",
       "        22.68844221,  23.04020101,  23.3919598 ,  23.74371859,\n",
       "        24.09547739,  24.44723618,  24.79899497,  25.15075377,\n",
       "        25.50251256,  25.85427136,  26.20603015,  26.55778894,\n",
       "        26.90954774,  27.26130653,  27.61306533,  27.96482412,\n",
       "        28.31658291,  28.66834171,  29.0201005 ,  29.3718593 ,\n",
       "        29.72361809,  30.07537688,  30.42713568,  30.77889447,\n",
       "        31.13065327,  31.48241206,  31.83417085,  32.18592965,\n",
       "        32.53768844,  32.88944724,  33.24120603,  33.59296482,\n",
       "        33.94472362,  34.29648241,  34.64824121,  35.        ])"
      ]
     },
     "metadata": {},
     "execution_count": 39
    }
   ],
   "source": [
    "db_xx"
   ]
  },
  {
   "cell_type": "code",
   "execution_count": 59,
   "metadata": {},
   "outputs": [
    {
     "output_type": "execute_result",
     "data": {
      "text/plain": [
       "array([-80.92983627, -80.57807748, -80.22631869, -79.87455989,\n",
       "       -79.5228011 , -79.1710423 , -78.81928351, -78.46752472,\n",
       "       -78.11576592, -77.76400713, -77.41224833, -77.06048954,\n",
       "       -76.70873075, -76.35697195, -76.00521316, -75.65345436,\n",
       "       -75.30169557, -74.94993678, -74.59817798, -74.24641919,\n",
       "       -73.89466039, -73.5429016 , -73.19114281, -72.83938401,\n",
       "       -72.48762522, -72.13586642, -71.78410763, -71.43234884,\n",
       "       -71.08059004, -70.72883125, -70.37707245, -70.02531366,\n",
       "       -69.67355487, -69.32179607, -68.97003728, -68.61827848,\n",
       "       -68.26651969, -67.9147609 , -67.5630021 , -67.21124331,\n",
       "       -66.85948451, -66.50772572, -66.15596693, -65.80420813,\n",
       "       -65.45244934, -65.10069054, -64.74893175, -64.39717296,\n",
       "       -64.04541416, -63.69365537, -63.34189657, -62.99013778,\n",
       "       -62.63837899, -62.28662019, -61.9348614 , -61.5831026 ,\n",
       "       -61.23134381, -60.87958502, -60.52782622, -60.17606743,\n",
       "       -59.82430864, -59.47254984, -59.12079105, -58.76903225,\n",
       "       -58.41727346, -58.06551467, -57.71375587, -57.36199708,\n",
       "       -57.01023828, -56.65847949, -56.3067207 , -55.9549619 ,\n",
       "       -55.60320311, -55.25144431, -54.89968552, -54.54792673,\n",
       "       -54.19616793, -53.84440914, -53.49265034, -53.14089155,\n",
       "       -52.78913276, -52.43737396, -52.08561517, -51.73385637,\n",
       "       -51.38209758, -51.03033879, -50.67857999, -50.3268212 ,\n",
       "       -49.9750624 , -49.62330361, -49.27154482, -48.91978602,\n",
       "       -48.56802723, -48.21626843, -47.86450964, -47.51275085,\n",
       "       -47.16099205, -46.80923326, -46.45747446, -46.10571567,\n",
       "       -45.75395688, -45.40219808, -45.05043929, -44.69868049,\n",
       "       -44.3469217 , -43.99516291, -43.64340411, -43.29164532,\n",
       "       -42.93988652, -42.58812773, -42.23636894, -41.88461014,\n",
       "       -41.53285135, -41.18109255, -40.82933376, -40.47757497,\n",
       "       -40.12581617, -39.77405738, -39.42229858, -39.07053979,\n",
       "       -38.718781  , -38.3670222 , -38.01526341, -37.66350461,\n",
       "       -37.31174582, -36.95998703, -36.60822823, -36.25646944,\n",
       "       -35.90471065, -35.55295185, -35.20119306, -34.84943426,\n",
       "       -34.49767547, -34.14591668, -33.79415788, -33.44239909,\n",
       "       -33.09064029, -32.7388815 , -32.38712271, -32.03536391,\n",
       "       -31.68360512, -31.33184632, -30.98008753, -30.62832874,\n",
       "       -30.27656994, -29.92481115, -29.57305235, -29.22129356,\n",
       "       -28.86953477, -28.51777597, -28.16601718, -27.81425838,\n",
       "       -27.46249959, -27.1107408 , -26.758982  , -26.40722321,\n",
       "       -26.05546441, -25.70370562, -25.35194683, -25.00018803,\n",
       "       -24.64842924, -24.29667044, -23.94491165, -23.59315286,\n",
       "       -23.24139406, -22.88963527, -22.53787647, -22.18611768,\n",
       "       -21.83435889, -21.48260009, -21.1308413 , -20.7790825 ,\n",
       "       -20.42732371, -20.07556492, -19.72380612, -19.37204733,\n",
       "       -19.02028853, -18.66852974, -18.31677095, -17.96501215,\n",
       "       -17.61325336, -17.26149456, -16.90973577, -16.55797698,\n",
       "       -16.20621818, -15.85445939, -15.50270059, -15.1509418 ,\n",
       "       -14.79918301, -14.44742421, -14.09566542, -13.74390662,\n",
       "       -13.39214783, -13.04038904, -12.68863024, -12.33687145,\n",
       "       -11.98511266, -11.63335386, -11.28159507, -10.92983627])"
      ]
     },
     "metadata": {},
     "execution_count": 59
    }
   ],
   "source": [
    "db_xx + starting_node.x.values[0]"
   ]
  },
  {
   "cell_type": "code",
   "execution_count": 66,
   "metadata": {
    "tags": []
   },
   "outputs": [
    {
     "output_type": "display_data",
     "data": {
      "text/plain": "AppLayout(children=(FloatSlider(value=-32.537688442211056, description='x-Position:', layout=Layout(grid_area=…",
      "application/vnd.jupyter.widget-view+json": {
       "version_major": 2,
       "version_minor": 0,
       "model_id": "c90ae954ef7f4ae99117f44772ba4e9d"
      }
     },
     "metadata": {}
    }
   ],
   "source": [
    "from ipywidgets import AppLayout, FloatSlider\n",
    "from matplotlib.offsetbox import (AnnotationBbox, OffsetImage, TextArea)\n",
    "\n",
    "plt.ioff()\n",
    "\n",
    "fig, ax = plt.subplots(figsize=(15,7))\n",
    "fig.canvas.header_visible = False\n",
    "fig.canvas.layout.min_height = '400px'\n",
    "\n",
    "# Create Scatterplot of filtered dataset colored by season feature\n",
    "sns.scatterplot(x=\"x\", y=\"y\",\n",
    "                  hue=\"season\",\n",
    "                  data=df_filtered,\n",
    "                  legend=\"full\",\n",
    "                  alpha=0.8)\n",
    "\n",
    "# Computes the decision boundary of a trained classifier\n",
    "db_xx, db_yy = calc_svm_decision_boundary(svm_clf, -35, 35)\n",
    "\n",
    "# Rotate the decision boundary 90° to get perpendicular axis\n",
    "neg_yy = np.negative(db_yy) \n",
    "\n",
    "neg_slope = -1 / -svm_clf.coef_[0][0]\n",
    "bias = svm_clf.intercept_[0] / svm_clf.coef_[0][1]\n",
    "ortho_db_yy = neg_slope * db_xx - bias\n",
    "\n",
    "# Plot the axes\n",
    "plt.plot(db_xx, db_yy, \"k-\", linewidth=1)\n",
    "plt.plot(db_xx, ortho_db_yy, \"r-\", linewidth=1)\n",
    "#plt.plot(neg_yy, db_xx, \"g-\", linewidth=2)\n",
    "\n",
    "# Choose a random starting position and initialize user marker on that position\n",
    "rand_idx = random.choice(range(len(db_xx)))\n",
    "x = db_xx[rand_idx]\n",
    "y = ortho_db_yy[rand_idx]\n",
    "user_marker, user_positon = create_user_marker(x, y)\n",
    "\n",
    "# Compute the nearest neighbour and annotate it with its respective image\n",
    "nearest_neighbour, nearest_neighbour_pos = get_nearest_neighbour(user_positon, df_filtered)\n",
    "annotate_nearest_neighbour(nearest_neighbour, nearest_neighbour_pos, ax, df_filtered)\n",
    "\n",
    "plt.title('Nearest Embedding: {} with season: {}, pos: {}'.format(nearest_neighbour, df_filtered.loc[df_filtered['id'] == nearest_neighbour].season.values[0], user_positon))\n",
    "\n",
    "# Create Slider to interact with the plot\n",
    "slider = FloatSlider(\n",
    "    orientation=\"horizontal\",\n",
    "    description=\"x-Position:\",\n",
    "    value=user_positon[0],\n",
    "    min=min(db_xx),\n",
    "    max=max(db_xx)\n",
    ")\n",
    "slider.layout.margin = '0px 30% 0px 30%'\n",
    "slider.layout.width = '25%'\n",
    "\n",
    "slider.observe(update_user_position_2D, names='value')\n",
    "\n",
    "AppLayout(\n",
    "    center=fig.canvas,\n",
    "    footer=slider,\n",
    "    pane_heights=[0, 6, 1]\n",
    ")"
   ]
  },
  {
   "cell_type": "code",
   "execution_count": null,
   "metadata": {},
   "outputs": [],
   "source": []
  }
 ]
}